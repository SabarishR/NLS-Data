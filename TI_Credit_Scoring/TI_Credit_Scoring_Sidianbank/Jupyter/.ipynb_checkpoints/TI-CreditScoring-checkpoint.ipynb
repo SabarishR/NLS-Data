{
 "cells": [
  {
   "cell_type": "code",
   "execution_count": 1,
   "id": "54da3765",
   "metadata": {},
   "outputs": [],
   "source": [
    "import pandas as pd\n",
    "import numpy as np\n",
    "import itertools"
   ]
  },
  {
   "cell_type": "code",
   "execution_count": 2,
   "id": "c9be508c",
   "metadata": {},
   "outputs": [
    {
     "data": {
      "text/html": [
       "<div>\n",
       "<style scoped>\n",
       "    .dataframe tbody tr th:only-of-type {\n",
       "        vertical-align: middle;\n",
       "    }\n",
       "\n",
       "    .dataframe tbody tr th {\n",
       "        vertical-align: top;\n",
       "    }\n",
       "\n",
       "    .dataframe thead th {\n",
       "        text-align: right;\n",
       "    }\n",
       "</style>\n",
       "<table border=\"1\" class=\"dataframe\">\n",
       "  <thead>\n",
       "    <tr style=\"text-align: right;\">\n",
       "      <th></th>\n",
       "      <th>BAND</th>\n",
       "      <th>MIN</th>\n",
       "      <th>MAX</th>\n",
       "      <th>WEIGHT</th>\n",
       "    </tr>\n",
       "  </thead>\n",
       "  <tbody>\n",
       "    <tr>\n",
       "      <th>0</th>\n",
       "      <td>1</td>\n",
       "      <td>5000</td>\n",
       "      <td>10000</td>\n",
       "      <td>3.0</td>\n",
       "    </tr>\n",
       "    <tr>\n",
       "      <th>1</th>\n",
       "      <td>2</td>\n",
       "      <td>10001</td>\n",
       "      <td>15000</td>\n",
       "      <td>3.5</td>\n",
       "    </tr>\n",
       "    <tr>\n",
       "      <th>2</th>\n",
       "      <td>3</td>\n",
       "      <td>15001</td>\n",
       "      <td>25000</td>\n",
       "      <td>5.0</td>\n",
       "    </tr>\n",
       "    <tr>\n",
       "      <th>3</th>\n",
       "      <td>4</td>\n",
       "      <td>25001</td>\n",
       "      <td>50000</td>\n",
       "      <td>7.0</td>\n",
       "    </tr>\n",
       "    <tr>\n",
       "      <th>4</th>\n",
       "      <td>5</td>\n",
       "      <td>50001</td>\n",
       "      <td>100000</td>\n",
       "      <td>10.0</td>\n",
       "    </tr>\n",
       "    <tr>\n",
       "      <th>5</th>\n",
       "      <td>6</td>\n",
       "      <td>100001</td>\n",
       "      <td>10000000</td>\n",
       "      <td>12.0</td>\n",
       "    </tr>\n",
       "  </tbody>\n",
       "</table>\n",
       "</div>"
      ],
      "text/plain": [
       "   BAND     MIN       MAX  WEIGHT\n",
       "0     1    5000     10000     3.0\n",
       "1     2   10001     15000     3.5\n",
       "2     3   15001     25000     5.0\n",
       "3     4   25001     50000     7.0\n",
       "4     5   50001    100000    10.0\n",
       "5     6  100001  10000000    12.0"
      ]
     },
     "execution_count": 2,
     "metadata": {},
     "output_type": "execute_result"
    }
   ],
   "source": [
    "# Reading account turnover range\n",
    "ACC_TURNOVER_RANGE = pd.read_csv('../data/ACC_TURNOVER_RANGE.csv')\n",
    "ACC_TURNOVER_RANGE"
   ]
  },
  {
   "cell_type": "code",
   "execution_count": 3,
   "id": "61b2a37d",
   "metadata": {},
   "outputs": [
    {
     "data": {
      "text/html": [
       "<div>\n",
       "<style scoped>\n",
       "    .dataframe tbody tr th:only-of-type {\n",
       "        vertical-align: middle;\n",
       "    }\n",
       "\n",
       "    .dataframe tbody tr th {\n",
       "        vertical-align: top;\n",
       "    }\n",
       "\n",
       "    .dataframe thead th {\n",
       "        text-align: right;\n",
       "    }\n",
       "</style>\n",
       "<table border=\"1\" class=\"dataframe\">\n",
       "  <thead>\n",
       "    <tr style=\"text-align: right;\">\n",
       "      <th></th>\n",
       "      <th>BAND</th>\n",
       "      <th>MIN</th>\n",
       "      <th>MAX</th>\n",
       "      <th>WEIGHT</th>\n",
       "    </tr>\n",
       "  </thead>\n",
       "  <tbody>\n",
       "    <tr>\n",
       "      <th>0</th>\n",
       "      <td>1</td>\n",
       "      <td>19</td>\n",
       "      <td>25</td>\n",
       "      <td>3</td>\n",
       "    </tr>\n",
       "    <tr>\n",
       "      <th>1</th>\n",
       "      <td>2</td>\n",
       "      <td>26</td>\n",
       "      <td>35</td>\n",
       "      <td>5</td>\n",
       "    </tr>\n",
       "    <tr>\n",
       "      <th>2</th>\n",
       "      <td>3</td>\n",
       "      <td>36</td>\n",
       "      <td>45</td>\n",
       "      <td>7</td>\n",
       "    </tr>\n",
       "    <tr>\n",
       "      <th>3</th>\n",
       "      <td>4</td>\n",
       "      <td>46</td>\n",
       "      <td>65</td>\n",
       "      <td>9</td>\n",
       "    </tr>\n",
       "  </tbody>\n",
       "</table>\n",
       "</div>"
      ],
      "text/plain": [
       "   BAND  MIN  MAX  WEIGHT\n",
       "0     1   19   25       3\n",
       "1     2   26   35       5\n",
       "2     3   36   45       7\n",
       "3     4   46   65       9"
      ]
     },
     "execution_count": 3,
     "metadata": {},
     "output_type": "execute_result"
    }
   ],
   "source": [
    "# Reading age range\n",
    "AGE_RANGE = pd.read_csv('../data/AGE_RANGE.csv')\n",
    "AGE_RANGE"
   ]
  },
  {
   "cell_type": "code",
   "execution_count": 4,
   "id": "8e45c2de",
   "metadata": {},
   "outputs": [],
   "source": [
    "# Declaration\n",
    "CRB_CHECK = []\n",
    "GENDER = []\n",
    "VAR_CRB_CHECK = {\n",
    "                0 : 0,\n",
    "                1 : 1\n",
    "             }\n",
    "VAR_GENDER = {\n",
    "                \"MALE\" : 0,\n",
    "                \"FEMALE\" : 1\n",
    "             }"
   ]
  },
  {
   "cell_type": "code",
   "execution_count": 5,
   "id": "56c068b0",
   "metadata": {},
   "outputs": [],
   "source": [
    "# Binning the Range to values\n",
    "# ACCOUNT_TURNOVER = [1,2,3,4,5,6]\n",
    "ACCOUNT_TURNOVER = ACC_TURNOVER_RANGE['BAND'].tolist()\n",
    "#CRB_CHECK = [0,1]\n",
    "for key, value in VAR_CRB_CHECK.items():\n",
    "    CRB_CHECK.append(value)\n",
    "#GENDER = [0,1]\n",
    "for key, value in VAR_GENDER.items():\n",
    "    GENDER.append(value)\n",
    "#AGE =[1,2,3,4]\n",
    "AGE = AGE_RANGE['BAND'].tolist()\n",
    "AVG_TURNOVER = np.arange(2500,170000,1).tolist()"
   ]
  },
  {
   "cell_type": "code",
   "execution_count": 6,
   "id": "d54e7f00",
   "metadata": {},
   "outputs": [],
   "source": [
    "# Creation of List with all possible combinations \n",
    "ITERATION_LIST = [ACCOUNT_TURNOVER,CRB_CHECK,GENDER,AGE,AVG_TURNOVER]\n",
    "\n",
    "ITER_LIST = list(itertools.product(*ITERATION_LIST))"
   ]
  },
  {
   "cell_type": "code",
   "execution_count": 7,
   "id": "a7af5030",
   "metadata": {},
   "outputs": [
    {
     "data": {
      "text/html": [
       "<div>\n",
       "<style scoped>\n",
       "    .dataframe tbody tr th:only-of-type {\n",
       "        vertical-align: middle;\n",
       "    }\n",
       "\n",
       "    .dataframe tbody tr th {\n",
       "        vertical-align: top;\n",
       "    }\n",
       "\n",
       "    .dataframe thead th {\n",
       "        text-align: right;\n",
       "    }\n",
       "</style>\n",
       "<table border=\"1\" class=\"dataframe\">\n",
       "  <thead>\n",
       "    <tr style=\"text-align: right;\">\n",
       "      <th></th>\n",
       "      <th>ACCOUNT_TURNOVER</th>\n",
       "      <th>CRB_CHECK</th>\n",
       "      <th>GENDER</th>\n",
       "      <th>AGE</th>\n",
       "      <th>AVG_TURNOVER</th>\n",
       "    </tr>\n",
       "  </thead>\n",
       "  <tbody>\n",
       "    <tr>\n",
       "      <th>16079995</th>\n",
       "      <td>6</td>\n",
       "      <td>1</td>\n",
       "      <td>1</td>\n",
       "      <td>4</td>\n",
       "      <td>169995</td>\n",
       "    </tr>\n",
       "    <tr>\n",
       "      <th>16079996</th>\n",
       "      <td>6</td>\n",
       "      <td>1</td>\n",
       "      <td>1</td>\n",
       "      <td>4</td>\n",
       "      <td>169996</td>\n",
       "    </tr>\n",
       "    <tr>\n",
       "      <th>16079997</th>\n",
       "      <td>6</td>\n",
       "      <td>1</td>\n",
       "      <td>1</td>\n",
       "      <td>4</td>\n",
       "      <td>169997</td>\n",
       "    </tr>\n",
       "    <tr>\n",
       "      <th>16079998</th>\n",
       "      <td>6</td>\n",
       "      <td>1</td>\n",
       "      <td>1</td>\n",
       "      <td>4</td>\n",
       "      <td>169998</td>\n",
       "    </tr>\n",
       "    <tr>\n",
       "      <th>16079999</th>\n",
       "      <td>6</td>\n",
       "      <td>1</td>\n",
       "      <td>1</td>\n",
       "      <td>4</td>\n",
       "      <td>169999</td>\n",
       "    </tr>\n",
       "  </tbody>\n",
       "</table>\n",
       "</div>"
      ],
      "text/plain": [
       "          ACCOUNT_TURNOVER  CRB_CHECK  GENDER  AGE  AVG_TURNOVER\n",
       "16079995                 6          1       1    4        169995\n",
       "16079996                 6          1       1    4        169996\n",
       "16079997                 6          1       1    4        169997\n",
       "16079998                 6          1       1    4        169998\n",
       "16079999                 6          1       1    4        169999"
      ]
     },
     "execution_count": 7,
     "metadata": {},
     "output_type": "execute_result"
    }
   ],
   "source": [
    "# Converting list to pandas dataframe\n",
    "cols = ['ACCOUNT_TURNOVER','CRB_CHECK','GENDER','AGE','AVG_TURNOVER']\n",
    "df = pd.DataFrame(ITER_LIST, columns=cols)\n",
    "df.tail()\n",
    "#16079999"
   ]
  },
  {
   "cell_type": "code",
   "execution_count": 8,
   "id": "352eebe6",
   "metadata": {},
   "outputs": [
    {
     "data": {
      "text/plain": [
       "{1: 3.0, 2: 3.5, 3: 5.0, 4: 7.0, 5: 10.0, 6: 12.0}"
      ]
     },
     "execution_count": 8,
     "metadata": {},
     "output_type": "execute_result"
    }
   ],
   "source": [
    "import json\n",
    "\n",
    "data = {}\n",
    "for i in range(0,len(ACC_TURNOVER_RANGE)):\n",
    "    data[ACC_TURNOVER_RANGE['BAND'][i]] = ACC_TURNOVER_RANGE['WEIGHT'][i]\n",
    "data"
   ]
  },
  {
   "cell_type": "code",
   "execution_count": 9,
   "id": "e38d111e",
   "metadata": {},
   "outputs": [],
   "source": [
    "# Assigning weight to the values\n",
    "accturnover_to_replace = {1:3, 2:3.5, 3:5, 4:7, 5:10, 6:12}\n",
    "crbcheck_to_replace = {0:0, 1:1}\n",
    "geder_to_replace = {0:1, 1:1.3}\n",
    "age_to_replace = {1:3, 2:5, 3:7, 4:9 }"
   ]
  },
  {
   "cell_type": "code",
   "execution_count": 10,
   "id": "ae2de378",
   "metadata": {},
   "outputs": [
    {
     "data": {
      "text/html": [
       "<div>\n",
       "<style scoped>\n",
       "    .dataframe tbody tr th:only-of-type {\n",
       "        vertical-align: middle;\n",
       "    }\n",
       "\n",
       "    .dataframe tbody tr th {\n",
       "        vertical-align: top;\n",
       "    }\n",
       "\n",
       "    .dataframe thead th {\n",
       "        text-align: right;\n",
       "    }\n",
       "</style>\n",
       "<table border=\"1\" class=\"dataframe\">\n",
       "  <thead>\n",
       "    <tr style=\"text-align: right;\">\n",
       "      <th></th>\n",
       "      <th>ACCOUNT_TURNOVER</th>\n",
       "      <th>CRB_CHECK</th>\n",
       "      <th>GENDER</th>\n",
       "      <th>AGE</th>\n",
       "      <th>AVG_TURNOVER</th>\n",
       "      <th>ACCOUNT_TURNOVER_WEIGHT</th>\n",
       "      <th>CRB_CHECK_WEIGHT</th>\n",
       "      <th>GENDER_WEIGHT</th>\n",
       "      <th>AGE_WEIGHT</th>\n",
       "    </tr>\n",
       "  </thead>\n",
       "  <tbody>\n",
       "    <tr>\n",
       "      <th>0</th>\n",
       "      <td>1</td>\n",
       "      <td>0</td>\n",
       "      <td>0</td>\n",
       "      <td>1</td>\n",
       "      <td>2500</td>\n",
       "      <td>3.0</td>\n",
       "      <td>0</td>\n",
       "      <td>1.0</td>\n",
       "      <td>3</td>\n",
       "    </tr>\n",
       "    <tr>\n",
       "      <th>1</th>\n",
       "      <td>1</td>\n",
       "      <td>0</td>\n",
       "      <td>0</td>\n",
       "      <td>1</td>\n",
       "      <td>2501</td>\n",
       "      <td>3.0</td>\n",
       "      <td>0</td>\n",
       "      <td>1.0</td>\n",
       "      <td>3</td>\n",
       "    </tr>\n",
       "    <tr>\n",
       "      <th>2</th>\n",
       "      <td>1</td>\n",
       "      <td>0</td>\n",
       "      <td>0</td>\n",
       "      <td>1</td>\n",
       "      <td>2502</td>\n",
       "      <td>3.0</td>\n",
       "      <td>0</td>\n",
       "      <td>1.0</td>\n",
       "      <td>3</td>\n",
       "    </tr>\n",
       "    <tr>\n",
       "      <th>3</th>\n",
       "      <td>1</td>\n",
       "      <td>0</td>\n",
       "      <td>0</td>\n",
       "      <td>1</td>\n",
       "      <td>2503</td>\n",
       "      <td>3.0</td>\n",
       "      <td>0</td>\n",
       "      <td>1.0</td>\n",
       "      <td>3</td>\n",
       "    </tr>\n",
       "    <tr>\n",
       "      <th>4</th>\n",
       "      <td>1</td>\n",
       "      <td>0</td>\n",
       "      <td>0</td>\n",
       "      <td>1</td>\n",
       "      <td>2504</td>\n",
       "      <td>3.0</td>\n",
       "      <td>0</td>\n",
       "      <td>1.0</td>\n",
       "      <td>3</td>\n",
       "    </tr>\n",
       "  </tbody>\n",
       "</table>\n",
       "</div>"
      ],
      "text/plain": [
       "   ACCOUNT_TURNOVER  CRB_CHECK  GENDER  AGE  AVG_TURNOVER  \\\n",
       "0                 1          0       0    1          2500   \n",
       "1                 1          0       0    1          2501   \n",
       "2                 1          0       0    1          2502   \n",
       "3                 1          0       0    1          2503   \n",
       "4                 1          0       0    1          2504   \n",
       "\n",
       "   ACCOUNT_TURNOVER_WEIGHT  CRB_CHECK_WEIGHT  GENDER_WEIGHT  AGE_WEIGHT  \n",
       "0                      3.0                 0            1.0           3  \n",
       "1                      3.0                 0            1.0           3  \n",
       "2                      3.0                 0            1.0           3  \n",
       "3                      3.0                 0            1.0           3  \n",
       "4                      3.0                 0            1.0           3  "
      ]
     },
     "execution_count": 10,
     "metadata": {},
     "output_type": "execute_result"
    }
   ],
   "source": [
    "# Creating weighted columns\n",
    "df['ACCOUNT_TURNOVER_WEIGHT'] = df['ACCOUNT_TURNOVER'].map(accturnover_to_replace)\n",
    "df['CRB_CHECK_WEIGHT'] = df['CRB_CHECK'].map(crbcheck_to_replace)\n",
    "df['GENDER_WEIGHT'] = df['GENDER'].map(geder_to_replace)\n",
    "df['AGE_WEIGHT'] = df['AGE'].map(age_to_replace)\n",
    "\n",
    "df.head()"
   ]
  },
  {
   "cell_type": "code",
   "execution_count": 11,
   "id": "30216a66",
   "metadata": {},
   "outputs": [
    {
     "data": {
      "text/html": [
       "<div>\n",
       "<style scoped>\n",
       "    .dataframe tbody tr th:only-of-type {\n",
       "        vertical-align: middle;\n",
       "    }\n",
       "\n",
       "    .dataframe tbody tr th {\n",
       "        vertical-align: top;\n",
       "    }\n",
       "\n",
       "    .dataframe thead th {\n",
       "        text-align: right;\n",
       "    }\n",
       "</style>\n",
       "<table border=\"1\" class=\"dataframe\">\n",
       "  <thead>\n",
       "    <tr style=\"text-align: right;\">\n",
       "      <th></th>\n",
       "      <th>ACCOUNT_TURNOVER</th>\n",
       "      <th>CRB_CHECK</th>\n",
       "      <th>GENDER</th>\n",
       "      <th>AGE</th>\n",
       "      <th>AVG_TURNOVER</th>\n",
       "      <th>ACCOUNT_TURNOVER_WEIGHT</th>\n",
       "      <th>CRB_CHECK_WEIGHT</th>\n",
       "      <th>GENDER_WEIGHT</th>\n",
       "      <th>AGE_WEIGHT</th>\n",
       "    </tr>\n",
       "  </thead>\n",
       "  <tbody>\n",
       "    <tr>\n",
       "      <th>0</th>\n",
       "      <td>1</td>\n",
       "      <td>0</td>\n",
       "      <td>0</td>\n",
       "      <td>1</td>\n",
       "      <td>2500</td>\n",
       "      <td>0.0</td>\n",
       "      <td>0</td>\n",
       "      <td>1.0</td>\n",
       "      <td>3</td>\n",
       "    </tr>\n",
       "    <tr>\n",
       "      <th>1</th>\n",
       "      <td>1</td>\n",
       "      <td>0</td>\n",
       "      <td>0</td>\n",
       "      <td>1</td>\n",
       "      <td>2501</td>\n",
       "      <td>0.0</td>\n",
       "      <td>0</td>\n",
       "      <td>1.0</td>\n",
       "      <td>3</td>\n",
       "    </tr>\n",
       "    <tr>\n",
       "      <th>2</th>\n",
       "      <td>1</td>\n",
       "      <td>0</td>\n",
       "      <td>0</td>\n",
       "      <td>1</td>\n",
       "      <td>2502</td>\n",
       "      <td>0.0</td>\n",
       "      <td>0</td>\n",
       "      <td>1.0</td>\n",
       "      <td>3</td>\n",
       "    </tr>\n",
       "    <tr>\n",
       "      <th>3</th>\n",
       "      <td>1</td>\n",
       "      <td>0</td>\n",
       "      <td>0</td>\n",
       "      <td>1</td>\n",
       "      <td>2503</td>\n",
       "      <td>0.0</td>\n",
       "      <td>0</td>\n",
       "      <td>1.0</td>\n",
       "      <td>3</td>\n",
       "    </tr>\n",
       "    <tr>\n",
       "      <th>4</th>\n",
       "      <td>1</td>\n",
       "      <td>0</td>\n",
       "      <td>0</td>\n",
       "      <td>1</td>\n",
       "      <td>2504</td>\n",
       "      <td>0.0</td>\n",
       "      <td>0</td>\n",
       "      <td>1.0</td>\n",
       "      <td>3</td>\n",
       "    </tr>\n",
       "  </tbody>\n",
       "</table>\n",
       "</div>"
      ],
      "text/plain": [
       "   ACCOUNT_TURNOVER  CRB_CHECK  GENDER  AGE  AVG_TURNOVER  \\\n",
       "0                 1          0       0    1          2500   \n",
       "1                 1          0       0    1          2501   \n",
       "2                 1          0       0    1          2502   \n",
       "3                 1          0       0    1          2503   \n",
       "4                 1          0       0    1          2504   \n",
       "\n",
       "   ACCOUNT_TURNOVER_WEIGHT  CRB_CHECK_WEIGHT  GENDER_WEIGHT  AGE_WEIGHT  \n",
       "0                      0.0                 0            1.0           3  \n",
       "1                      0.0                 0            1.0           3  \n",
       "2                      0.0                 0            1.0           3  \n",
       "3                      0.0                 0            1.0           3  \n",
       "4                      0.0                 0            1.0           3  "
      ]
     },
     "execution_count": 11,
     "metadata": {},
     "output_type": "execute_result"
    }
   ],
   "source": [
    "# replace account turnover weight as 0 if the turnover amount less then 5000\n",
    "df.loc[(df['AVG_TURNOVER'] < 5000), 'ACCOUNT_TURNOVER_WEIGHT'] = 0\n",
    "df.head()"
   ]
  },
  {
   "cell_type": "code",
   "execution_count": 12,
   "id": "7be7af92",
   "metadata": {},
   "outputs": [
    {
     "data": {
      "text/html": [
       "<div>\n",
       "<style scoped>\n",
       "    .dataframe tbody tr th:only-of-type {\n",
       "        vertical-align: middle;\n",
       "    }\n",
       "\n",
       "    .dataframe tbody tr th {\n",
       "        vertical-align: top;\n",
       "    }\n",
       "\n",
       "    .dataframe thead th {\n",
       "        text-align: right;\n",
       "    }\n",
       "</style>\n",
       "<table border=\"1\" class=\"dataframe\">\n",
       "  <thead>\n",
       "    <tr style=\"text-align: right;\">\n",
       "      <th></th>\n",
       "      <th>ACCOUNT_TURNOVER</th>\n",
       "      <th>CRB_CHECK</th>\n",
       "      <th>GENDER</th>\n",
       "      <th>AGE</th>\n",
       "      <th>AVG_TURNOVER</th>\n",
       "      <th>ACCOUNT_TURNOVER_WEIGHT</th>\n",
       "      <th>CRB_CHECK_WEIGHT</th>\n",
       "      <th>GENDER_WEIGHT</th>\n",
       "      <th>AGE_WEIGHT</th>\n",
       "      <th>CUSTOMER_WEIGHT</th>\n",
       "    </tr>\n",
       "  </thead>\n",
       "  <tbody>\n",
       "    <tr>\n",
       "      <th>0</th>\n",
       "      <td>1</td>\n",
       "      <td>0</td>\n",
       "      <td>0</td>\n",
       "      <td>1</td>\n",
       "      <td>2500</td>\n",
       "      <td>0.0</td>\n",
       "      <td>0</td>\n",
       "      <td>1.0</td>\n",
       "      <td>3</td>\n",
       "      <td>4.0</td>\n",
       "    </tr>\n",
       "    <tr>\n",
       "      <th>1</th>\n",
       "      <td>1</td>\n",
       "      <td>0</td>\n",
       "      <td>0</td>\n",
       "      <td>1</td>\n",
       "      <td>2501</td>\n",
       "      <td>0.0</td>\n",
       "      <td>0</td>\n",
       "      <td>1.0</td>\n",
       "      <td>3</td>\n",
       "      <td>4.0</td>\n",
       "    </tr>\n",
       "    <tr>\n",
       "      <th>2</th>\n",
       "      <td>1</td>\n",
       "      <td>0</td>\n",
       "      <td>0</td>\n",
       "      <td>1</td>\n",
       "      <td>2502</td>\n",
       "      <td>0.0</td>\n",
       "      <td>0</td>\n",
       "      <td>1.0</td>\n",
       "      <td>3</td>\n",
       "      <td>4.0</td>\n",
       "    </tr>\n",
       "    <tr>\n",
       "      <th>3</th>\n",
       "      <td>1</td>\n",
       "      <td>0</td>\n",
       "      <td>0</td>\n",
       "      <td>1</td>\n",
       "      <td>2503</td>\n",
       "      <td>0.0</td>\n",
       "      <td>0</td>\n",
       "      <td>1.0</td>\n",
       "      <td>3</td>\n",
       "      <td>4.0</td>\n",
       "    </tr>\n",
       "    <tr>\n",
       "      <th>4</th>\n",
       "      <td>1</td>\n",
       "      <td>0</td>\n",
       "      <td>0</td>\n",
       "      <td>1</td>\n",
       "      <td>2504</td>\n",
       "      <td>0.0</td>\n",
       "      <td>0</td>\n",
       "      <td>1.0</td>\n",
       "      <td>3</td>\n",
       "      <td>4.0</td>\n",
       "    </tr>\n",
       "  </tbody>\n",
       "</table>\n",
       "</div>"
      ],
      "text/plain": [
       "   ACCOUNT_TURNOVER  CRB_CHECK  GENDER  AGE  AVG_TURNOVER  \\\n",
       "0                 1          0       0    1          2500   \n",
       "1                 1          0       0    1          2501   \n",
       "2                 1          0       0    1          2502   \n",
       "3                 1          0       0    1          2503   \n",
       "4                 1          0       0    1          2504   \n",
       "\n",
       "   ACCOUNT_TURNOVER_WEIGHT  CRB_CHECK_WEIGHT  GENDER_WEIGHT  AGE_WEIGHT  \\\n",
       "0                      0.0                 0            1.0           3   \n",
       "1                      0.0                 0            1.0           3   \n",
       "2                      0.0                 0            1.0           3   \n",
       "3                      0.0                 0            1.0           3   \n",
       "4                      0.0                 0            1.0           3   \n",
       "\n",
       "   CUSTOMER_WEIGHT  \n",
       "0              4.0  \n",
       "1              4.0  \n",
       "2              4.0  \n",
       "3              4.0  \n",
       "4              4.0  "
      ]
     },
     "execution_count": 12,
     "metadata": {},
     "output_type": "execute_result"
    }
   ],
   "source": [
    "# Customer's total weight as per the values \n",
    "df['CUSTOMER_WEIGHT'] = df[['ACCOUNT_TURNOVER_WEIGHT','CRB_CHECK_WEIGHT','GENDER_WEIGHT','AGE_WEIGHT']].sum(axis=1)\n",
    "df.head()"
   ]
  },
  {
   "cell_type": "code",
   "execution_count": 13,
   "id": "e4b382bc",
   "metadata": {},
   "outputs": [
    {
     "data": {
      "text/html": [
       "<div>\n",
       "<style scoped>\n",
       "    .dataframe tbody tr th:only-of-type {\n",
       "        vertical-align: middle;\n",
       "    }\n",
       "\n",
       "    .dataframe tbody tr th {\n",
       "        vertical-align: top;\n",
       "    }\n",
       "\n",
       "    .dataframe thead th {\n",
       "        text-align: right;\n",
       "    }\n",
       "</style>\n",
       "<table border=\"1\" class=\"dataframe\">\n",
       "  <thead>\n",
       "    <tr style=\"text-align: right;\">\n",
       "      <th></th>\n",
       "      <th>ACCOUNT_TURNOVER</th>\n",
       "      <th>CRB_CHECK</th>\n",
       "      <th>GENDER</th>\n",
       "      <th>AGE</th>\n",
       "      <th>AVG_TURNOVER</th>\n",
       "      <th>ACCOUNT_TURNOVER_WEIGHT</th>\n",
       "      <th>CRB_CHECK_WEIGHT</th>\n",
       "      <th>GENDER_WEIGHT</th>\n",
       "      <th>AGE_WEIGHT</th>\n",
       "      <th>CUSTOMER_WEIGHT</th>\n",
       "      <th>CUSTOMER_SCORE</th>\n",
       "    </tr>\n",
       "  </thead>\n",
       "  <tbody>\n",
       "    <tr>\n",
       "      <th>16079995</th>\n",
       "      <td>6</td>\n",
       "      <td>1</td>\n",
       "      <td>1</td>\n",
       "      <td>4</td>\n",
       "      <td>169995</td>\n",
       "      <td>12.0</td>\n",
       "      <td>1</td>\n",
       "      <td>1.3</td>\n",
       "      <td>9</td>\n",
       "      <td>23.3</td>\n",
       "      <td>100</td>\n",
       "    </tr>\n",
       "    <tr>\n",
       "      <th>16079996</th>\n",
       "      <td>6</td>\n",
       "      <td>1</td>\n",
       "      <td>1</td>\n",
       "      <td>4</td>\n",
       "      <td>169996</td>\n",
       "      <td>12.0</td>\n",
       "      <td>1</td>\n",
       "      <td>1.3</td>\n",
       "      <td>9</td>\n",
       "      <td>23.3</td>\n",
       "      <td>100</td>\n",
       "    </tr>\n",
       "    <tr>\n",
       "      <th>16079997</th>\n",
       "      <td>6</td>\n",
       "      <td>1</td>\n",
       "      <td>1</td>\n",
       "      <td>4</td>\n",
       "      <td>169997</td>\n",
       "      <td>12.0</td>\n",
       "      <td>1</td>\n",
       "      <td>1.3</td>\n",
       "      <td>9</td>\n",
       "      <td>23.3</td>\n",
       "      <td>100</td>\n",
       "    </tr>\n",
       "    <tr>\n",
       "      <th>16079998</th>\n",
       "      <td>6</td>\n",
       "      <td>1</td>\n",
       "      <td>1</td>\n",
       "      <td>4</td>\n",
       "      <td>169998</td>\n",
       "      <td>12.0</td>\n",
       "      <td>1</td>\n",
       "      <td>1.3</td>\n",
       "      <td>9</td>\n",
       "      <td>23.3</td>\n",
       "      <td>100</td>\n",
       "    </tr>\n",
       "    <tr>\n",
       "      <th>16079999</th>\n",
       "      <td>6</td>\n",
       "      <td>1</td>\n",
       "      <td>1</td>\n",
       "      <td>4</td>\n",
       "      <td>169999</td>\n",
       "      <td>12.0</td>\n",
       "      <td>1</td>\n",
       "      <td>1.3</td>\n",
       "      <td>9</td>\n",
       "      <td>23.3</td>\n",
       "      <td>100</td>\n",
       "    </tr>\n",
       "  </tbody>\n",
       "</table>\n",
       "</div>"
      ],
      "text/plain": [
       "          ACCOUNT_TURNOVER  CRB_CHECK  GENDER  AGE  AVG_TURNOVER  \\\n",
       "16079995                 6          1       1    4        169995   \n",
       "16079996                 6          1       1    4        169996   \n",
       "16079997                 6          1       1    4        169997   \n",
       "16079998                 6          1       1    4        169998   \n",
       "16079999                 6          1       1    4        169999   \n",
       "\n",
       "          ACCOUNT_TURNOVER_WEIGHT  CRB_CHECK_WEIGHT  GENDER_WEIGHT  \\\n",
       "16079995                     12.0                 1            1.3   \n",
       "16079996                     12.0                 1            1.3   \n",
       "16079997                     12.0                 1            1.3   \n",
       "16079998                     12.0                 1            1.3   \n",
       "16079999                     12.0                 1            1.3   \n",
       "\n",
       "          AGE_WEIGHT  CUSTOMER_WEIGHT  CUSTOMER_SCORE  \n",
       "16079995           9             23.3             100  \n",
       "16079996           9             23.3             100  \n",
       "16079997           9             23.3             100  \n",
       "16079998           9             23.3             100  \n",
       "16079999           9             23.3             100  "
      ]
     },
     "execution_count": 13,
     "metadata": {},
     "output_type": "execute_result"
    }
   ],
   "source": [
    "# Customers score in percentage\n",
    "Total_weight = 23.2\n",
    "df['CUSTOMER_SCORE'] = round(df['CUSTOMER_WEIGHT'] /Total_weight * 100)\n",
    "df['CUSTOMER_SCORE']=df['CUSTOMER_SCORE'].astype(int)\n",
    "df.tail()"
   ]
  },
  {
   "cell_type": "code",
   "execution_count": 14,
   "id": "49efa66a",
   "metadata": {},
   "outputs": [],
   "source": [
    "# PROPOSED_LOAN_RANGE = pd.read_csv('TI_Credit_Scoring/data/PROPOSED_LOAN_RANGE.csv')\n",
    "# for i in range (0,len(PROPOSED_LOAN_RANGE)):\n",
    "#     df.loc[(df['CUSTOMER_SCORE'] >= PROPOSED_LOAN_RANGE['MIN'][i]) & (df['CUSTOMER_SCORE'] <= PROPOSED_LOAN_RANGE['MAX'][i]), 'CUSTOMER_SCORE'] = PROPOSED_LOAN_RANGE['WEIGHT'][i]\n",
    "# df['CUSTOMER_SCORE']=df['CUSTOMER_SCORE'].astype(int)\n",
    "# df.head()"
   ]
  },
  {
   "cell_type": "code",
   "execution_count": 15,
   "id": "144d1102",
   "metadata": {},
   "outputs": [
    {
     "data": {
      "text/html": [
       "<div>\n",
       "<style scoped>\n",
       "    .dataframe tbody tr th:only-of-type {\n",
       "        vertical-align: middle;\n",
       "    }\n",
       "\n",
       "    .dataframe tbody tr th {\n",
       "        vertical-align: top;\n",
       "    }\n",
       "\n",
       "    .dataframe thead th {\n",
       "        text-align: right;\n",
       "    }\n",
       "</style>\n",
       "<table border=\"1\" class=\"dataframe\">\n",
       "  <thead>\n",
       "    <tr style=\"text-align: right;\">\n",
       "      <th></th>\n",
       "      <th>ACCOUNT_TURNOVER</th>\n",
       "      <th>CRB_CHECK</th>\n",
       "      <th>GENDER</th>\n",
       "      <th>AGE</th>\n",
       "      <th>AVG_TURNOVER</th>\n",
       "      <th>ACCOUNT_TURNOVER_WEIGHT</th>\n",
       "      <th>CRB_CHECK_WEIGHT</th>\n",
       "      <th>GENDER_WEIGHT</th>\n",
       "      <th>AGE_WEIGHT</th>\n",
       "      <th>CUSTOMER_WEIGHT</th>\n",
       "      <th>CUSTOMER_SCORE</th>\n",
       "    </tr>\n",
       "  </thead>\n",
       "  <tbody>\n",
       "    <tr>\n",
       "      <th>0</th>\n",
       "      <td>1</td>\n",
       "      <td>0</td>\n",
       "      <td>0</td>\n",
       "      <td>1</td>\n",
       "      <td>2500</td>\n",
       "      <td>0.0</td>\n",
       "      <td>0</td>\n",
       "      <td>1.0</td>\n",
       "      <td>3</td>\n",
       "      <td>4.0</td>\n",
       "      <td>0</td>\n",
       "    </tr>\n",
       "    <tr>\n",
       "      <th>1</th>\n",
       "      <td>1</td>\n",
       "      <td>0</td>\n",
       "      <td>0</td>\n",
       "      <td>1</td>\n",
       "      <td>2501</td>\n",
       "      <td>0.0</td>\n",
       "      <td>0</td>\n",
       "      <td>1.0</td>\n",
       "      <td>3</td>\n",
       "      <td>4.0</td>\n",
       "      <td>0</td>\n",
       "    </tr>\n",
       "    <tr>\n",
       "      <th>2</th>\n",
       "      <td>1</td>\n",
       "      <td>0</td>\n",
       "      <td>0</td>\n",
       "      <td>1</td>\n",
       "      <td>2502</td>\n",
       "      <td>0.0</td>\n",
       "      <td>0</td>\n",
       "      <td>1.0</td>\n",
       "      <td>3</td>\n",
       "      <td>4.0</td>\n",
       "      <td>0</td>\n",
       "    </tr>\n",
       "    <tr>\n",
       "      <th>3</th>\n",
       "      <td>1</td>\n",
       "      <td>0</td>\n",
       "      <td>0</td>\n",
       "      <td>1</td>\n",
       "      <td>2503</td>\n",
       "      <td>0.0</td>\n",
       "      <td>0</td>\n",
       "      <td>1.0</td>\n",
       "      <td>3</td>\n",
       "      <td>4.0</td>\n",
       "      <td>0</td>\n",
       "    </tr>\n",
       "    <tr>\n",
       "      <th>4</th>\n",
       "      <td>1</td>\n",
       "      <td>0</td>\n",
       "      <td>0</td>\n",
       "      <td>1</td>\n",
       "      <td>2504</td>\n",
       "      <td>0.0</td>\n",
       "      <td>0</td>\n",
       "      <td>1.0</td>\n",
       "      <td>3</td>\n",
       "      <td>4.0</td>\n",
       "      <td>0</td>\n",
       "    </tr>\n",
       "  </tbody>\n",
       "</table>\n",
       "</div>"
      ],
      "text/plain": [
       "   ACCOUNT_TURNOVER  CRB_CHECK  GENDER  AGE  AVG_TURNOVER  \\\n",
       "0                 1          0       0    1          2500   \n",
       "1                 1          0       0    1          2501   \n",
       "2                 1          0       0    1          2502   \n",
       "3                 1          0       0    1          2503   \n",
       "4                 1          0       0    1          2504   \n",
       "\n",
       "   ACCOUNT_TURNOVER_WEIGHT  CRB_CHECK_WEIGHT  GENDER_WEIGHT  AGE_WEIGHT  \\\n",
       "0                      0.0                 0            1.0           3   \n",
       "1                      0.0                 0            1.0           3   \n",
       "2                      0.0                 0            1.0           3   \n",
       "3                      0.0                 0            1.0           3   \n",
       "4                      0.0                 0            1.0           3   \n",
       "\n",
       "   CUSTOMER_WEIGHT  CUSTOMER_SCORE  \n",
       "0              4.0               0  \n",
       "1              4.0               0  \n",
       "2              4.0               0  \n",
       "3              4.0               0  \n",
       "4              4.0               0  "
      ]
     },
     "execution_count": 15,
     "metadata": {},
     "output_type": "execute_result"
    }
   ],
   "source": [
    "df.loc[(df['CUSTOMER_SCORE'] >= 0) & (df['CUSTOMER_SCORE'] <= 49), 'CUSTOMER_SCORE'] = 0\n",
    "df.loc[(df['CUSTOMER_SCORE'] >= 50) & (df['CUSTOMER_SCORE'] <= 69), 'CUSTOMER_SCORE'] = 30\n",
    "df.loc[(df['CUSTOMER_SCORE'] >= 70) & (df['CUSTOMER_SCORE'] <= 89), 'CUSTOMER_SCORE'] = 35\n",
    "df.loc[(df['CUSTOMER_SCORE'] >= 90) & (df['CUSTOMER_SCORE'] <= 100), 'CUSTOMER_SCORE'] = 40\n",
    "df['CUSTOMER_SCORE']=df['CUSTOMER_SCORE'].astype(int)\n",
    "df.head()"
   ]
  },
  {
   "cell_type": "code",
   "execution_count": 16,
   "id": "6750b21f",
   "metadata": {},
   "outputs": [],
   "source": [
    "# # Replacing customer scores with proposed loan percentage \n",
    "# df['PROPOSED_LOAN_PERCENTAGE'] = df['CUSTOMER_SCORE'].replace([np.arange(0,50,1).tolist(),\n",
    "#                            np.arange(50,70,1).tolist(),\n",
    "#                            np.arange(70,90,1).tolist(),\n",
    "#                            np.arange(90,101,1).tolist()], [0,30,35,40])\n",
    "# df.head()"
   ]
  },
  {
   "cell_type": "code",
   "execution_count": 17,
   "id": "9f6d423c",
   "metadata": {},
   "outputs": [
    {
     "data": {
      "text/html": [
       "<div>\n",
       "<style scoped>\n",
       "    .dataframe tbody tr th:only-of-type {\n",
       "        vertical-align: middle;\n",
       "    }\n",
       "\n",
       "    .dataframe tbody tr th {\n",
       "        vertical-align: top;\n",
       "    }\n",
       "\n",
       "    .dataframe thead th {\n",
       "        text-align: right;\n",
       "    }\n",
       "</style>\n",
       "<table border=\"1\" class=\"dataframe\">\n",
       "  <thead>\n",
       "    <tr style=\"text-align: right;\">\n",
       "      <th></th>\n",
       "      <th>ACCOUNT_TURNOVER</th>\n",
       "      <th>CRB_CHECK</th>\n",
       "      <th>GENDER</th>\n",
       "      <th>AGE</th>\n",
       "      <th>AVG_TURNOVER</th>\n",
       "      <th>ACCOUNT_TURNOVER_WEIGHT</th>\n",
       "      <th>CRB_CHECK_WEIGHT</th>\n",
       "      <th>GENDER_WEIGHT</th>\n",
       "      <th>AGE_WEIGHT</th>\n",
       "      <th>CUSTOMER_WEIGHT</th>\n",
       "      <th>CUSTOMER_SCORE</th>\n",
       "      <th>LOAN_AMOUNT</th>\n",
       "    </tr>\n",
       "  </thead>\n",
       "  <tbody>\n",
       "    <tr>\n",
       "      <th>16079995</th>\n",
       "      <td>6</td>\n",
       "      <td>1</td>\n",
       "      <td>1</td>\n",
       "      <td>4</td>\n",
       "      <td>169995</td>\n",
       "      <td>12.0</td>\n",
       "      <td>1</td>\n",
       "      <td>1.3</td>\n",
       "      <td>9</td>\n",
       "      <td>23.3</td>\n",
       "      <td>40</td>\n",
       "      <td>67998</td>\n",
       "    </tr>\n",
       "    <tr>\n",
       "      <th>16079996</th>\n",
       "      <td>6</td>\n",
       "      <td>1</td>\n",
       "      <td>1</td>\n",
       "      <td>4</td>\n",
       "      <td>169996</td>\n",
       "      <td>12.0</td>\n",
       "      <td>1</td>\n",
       "      <td>1.3</td>\n",
       "      <td>9</td>\n",
       "      <td>23.3</td>\n",
       "      <td>40</td>\n",
       "      <td>67998</td>\n",
       "    </tr>\n",
       "    <tr>\n",
       "      <th>16079997</th>\n",
       "      <td>6</td>\n",
       "      <td>1</td>\n",
       "      <td>1</td>\n",
       "      <td>4</td>\n",
       "      <td>169997</td>\n",
       "      <td>12.0</td>\n",
       "      <td>1</td>\n",
       "      <td>1.3</td>\n",
       "      <td>9</td>\n",
       "      <td>23.3</td>\n",
       "      <td>40</td>\n",
       "      <td>67999</td>\n",
       "    </tr>\n",
       "    <tr>\n",
       "      <th>16079998</th>\n",
       "      <td>6</td>\n",
       "      <td>1</td>\n",
       "      <td>1</td>\n",
       "      <td>4</td>\n",
       "      <td>169998</td>\n",
       "      <td>12.0</td>\n",
       "      <td>1</td>\n",
       "      <td>1.3</td>\n",
       "      <td>9</td>\n",
       "      <td>23.3</td>\n",
       "      <td>40</td>\n",
       "      <td>67999</td>\n",
       "    </tr>\n",
       "    <tr>\n",
       "      <th>16079999</th>\n",
       "      <td>6</td>\n",
       "      <td>1</td>\n",
       "      <td>1</td>\n",
       "      <td>4</td>\n",
       "      <td>169999</td>\n",
       "      <td>12.0</td>\n",
       "      <td>1</td>\n",
       "      <td>1.3</td>\n",
       "      <td>9</td>\n",
       "      <td>23.3</td>\n",
       "      <td>40</td>\n",
       "      <td>68000</td>\n",
       "    </tr>\n",
       "  </tbody>\n",
       "</table>\n",
       "</div>"
      ],
      "text/plain": [
       "          ACCOUNT_TURNOVER  CRB_CHECK  GENDER  AGE  AVG_TURNOVER  \\\n",
       "16079995                 6          1       1    4        169995   \n",
       "16079996                 6          1       1    4        169996   \n",
       "16079997                 6          1       1    4        169997   \n",
       "16079998                 6          1       1    4        169998   \n",
       "16079999                 6          1       1    4        169999   \n",
       "\n",
       "          ACCOUNT_TURNOVER_WEIGHT  CRB_CHECK_WEIGHT  GENDER_WEIGHT  \\\n",
       "16079995                     12.0                 1            1.3   \n",
       "16079996                     12.0                 1            1.3   \n",
       "16079997                     12.0                 1            1.3   \n",
       "16079998                     12.0                 1            1.3   \n",
       "16079999                     12.0                 1            1.3   \n",
       "\n",
       "          AGE_WEIGHT  CUSTOMER_WEIGHT  CUSTOMER_SCORE  LOAN_AMOUNT  \n",
       "16079995           9             23.3              40        67998  \n",
       "16079996           9             23.3              40        67998  \n",
       "16079997           9             23.3              40        67999  \n",
       "16079998           9             23.3              40        67999  \n",
       "16079999           9             23.3              40        68000  "
      ]
     },
     "execution_count": 17,
     "metadata": {},
     "output_type": "execute_result"
    }
   ],
   "source": [
    "# Calculating loan approved amount\n",
    "df['LOAN_AMOUNT'] = round(df['AVG_TURNOVER']/100 * df['CUSTOMER_SCORE'])\n",
    "df['LOAN_AMOUNT']=df['LOAN_AMOUNT'].astype(int)\n",
    "df.tail()"
   ]
  },
  {
   "cell_type": "code",
   "execution_count": 18,
   "id": "62b3dc41",
   "metadata": {},
   "outputs": [
    {
     "name": "stdout",
     "output_type": "stream",
     "text": [
      "Count -  834232\n"
     ]
    }
   ],
   "source": [
    "# count values which has the approved loan amount greater then 52500\n",
    "dfa = df[(df['LOAN_AMOUNT'] > 52000)]\n",
    "print (\"Count - \",len(dfa))"
   ]
  },
  {
   "cell_type": "code",
   "execution_count": 19,
   "id": "32af2a5b",
   "metadata": {},
   "outputs": [],
   "source": [
    "# removing the values which has the approved loan amount greater then 52500 \n",
    "df.drop(df.loc[(df['LOAN_AMOUNT'] > 52500)].index, inplace=True)\n",
    "\n",
    "# to reset index \n",
    "df.reset_index(drop=True, inplace=True)"
   ]
  },
  {
   "cell_type": "code",
   "execution_count": 20,
   "id": "1dd6bb4e",
   "metadata": {},
   "outputs": [
    {
     "name": "stdout",
     "output_type": "stream",
     "text": [
      "Count -  0\n"
     ]
    }
   ],
   "source": [
    "# revalidating the count\n",
    "dfa = df[(df['LOAN_AMOUNT'] > 52500)]\n",
    "print (\"Count - \",len(dfa))"
   ]
  },
  {
   "cell_type": "code",
   "execution_count": 21,
   "id": "22164972",
   "metadata": {},
   "outputs": [
    {
     "name": "stdout",
     "output_type": "stream",
     "text": [
      "Total Count -  15290064\n",
      "Count values loan amount is zero -  4530000\n",
      "Count values loan amount between 1 to 999 -  0\n",
      "Count values loan amount between 1000 to 50000 -  10412054\n",
      "Count values loan amount greater then 50000 -  348010\n"
     ]
    }
   ],
   "source": [
    "# validating the Loan approved amount ranges count\n",
    "# Minimum Loan - 1000\n",
    "# Maximum Loan - 50000\n",
    "print (\"Total Count - \",len(df))\n",
    "\n",
    "dfa = df[(df['LOAN_AMOUNT'] == 0)]\n",
    "print (\"Count values loan amount is zero - \",len(dfa))\n",
    "\n",
    "dfa = df[(df['LOAN_AMOUNT'] < 1000) & (df['LOAN_AMOUNT'] != 0)]\n",
    "print (\"Count values loan amount between 1 to 999 - \",len(dfa))\n",
    "\n",
    "dfa = df[(df['LOAN_AMOUNT'] >= 1000) & (df['LOAN_AMOUNT'] <= 50000)]\n",
    "print (\"Count values loan amount between 1000 to 50000 - \",len(dfa))\n",
    "\n",
    "dfa = df[(df['LOAN_AMOUNT'] > 50000)]\n",
    "print (\"Count values loan amount greater then 50000 - \",len(dfa))"
   ]
  },
  {
   "cell_type": "code",
   "execution_count": 22,
   "id": "2b91bc4f",
   "metadata": {},
   "outputs": [],
   "source": [
    "# Replacing Loan amount is  < 1000 then 0 and > 50000 then 50000 because\n",
    "# Minimum Loan - 1000\n",
    "# Maximum Loan - 50000\n",
    "\n",
    "df.loc[df['LOAN_AMOUNT'] < 1000,'LOAN_AMOUNT'] = 0\n",
    "df.loc[df['LOAN_AMOUNT'] > 50000,'LOAN_AMOUNT'] = 50000"
   ]
  },
  {
   "cell_type": "code",
   "execution_count": 23,
   "id": "dfbc6e1c",
   "metadata": {},
   "outputs": [
    {
     "name": "stdout",
     "output_type": "stream",
     "text": [
      "Total Count -  15290064\n",
      "Count values loan amount is zero -  4530000\n",
      "Count values loan amount between 1 to 999 -  0\n",
      "Count values loan amount between 1000 to 50000 -  10760064\n",
      "Count values loan amount greater then 50000 -  0\n"
     ]
    }
   ],
   "source": [
    "# Revalidating the loan amount exceeds the minimum and maximum range\n",
    "print (\"Total Count - \",len(df))\n",
    "\n",
    "dfa = df[(df['LOAN_AMOUNT'] == 0)]\n",
    "print (\"Count values loan amount is zero - \",len(dfa))\n",
    "\n",
    "dfa = df[(df['LOAN_AMOUNT'] < 1000) & (df['LOAN_AMOUNT'] != 0)]\n",
    "print (\"Count values loan amount between 1 to 999 - \",len(dfa))\n",
    "\n",
    "dfa = df[(df['LOAN_AMOUNT'] >= 1000) & (df['LOAN_AMOUNT'] <= 50000)]\n",
    "print (\"Count values loan amount between 1000 to 50000 - \",len(dfa))\n",
    "\n",
    "dfa = df[(df['LOAN_AMOUNT'] > 50000)]\n",
    "print (\"Count values loan amount greater then 50000 - \",len(dfa))"
   ]
  },
  {
   "cell_type": "code",
   "execution_count": 24,
   "id": "a069c4e8",
   "metadata": {},
   "outputs": [
    {
     "name": "stdout",
     "output_type": "stream",
     "text": [
      "<class 'pandas.core.frame.DataFrame'>\n",
      "RangeIndex: 15290064 entries, 0 to 15290063\n",
      "Data columns (total 12 columns):\n",
      " #   Column                   Dtype  \n",
      "---  ------                   -----  \n",
      " 0   ACCOUNT_TURNOVER         int64  \n",
      " 1   CRB_CHECK                int64  \n",
      " 2   GENDER                   int64  \n",
      " 3   AGE                      int64  \n",
      " 4   AVG_TURNOVER             int64  \n",
      " 5   ACCOUNT_TURNOVER_WEIGHT  float64\n",
      " 6   CRB_CHECK_WEIGHT         int64  \n",
      " 7   GENDER_WEIGHT            float64\n",
      " 8   AGE_WEIGHT               int64  \n",
      " 9   CUSTOMER_WEIGHT          float64\n",
      " 10  CUSTOMER_SCORE           int64  \n",
      " 11  LOAN_AMOUNT              int64  \n",
      "dtypes: float64(3), int64(9)\n",
      "memory usage: 1.4 GB\n"
     ]
    }
   ],
   "source": [
    "# Validating the null entries\n",
    "df.info()"
   ]
  },
  {
   "cell_type": "code",
   "execution_count": 25,
   "id": "7ebac6b7",
   "metadata": {},
   "outputs": [
    {
     "data": {
      "text/html": [
       "<div>\n",
       "<style scoped>\n",
       "    .dataframe tbody tr th:only-of-type {\n",
       "        vertical-align: middle;\n",
       "    }\n",
       "\n",
       "    .dataframe tbody tr th {\n",
       "        vertical-align: top;\n",
       "    }\n",
       "\n",
       "    .dataframe thead th {\n",
       "        text-align: right;\n",
       "    }\n",
       "</style>\n",
       "<table border=\"1\" class=\"dataframe\">\n",
       "  <thead>\n",
       "    <tr style=\"text-align: right;\">\n",
       "      <th></th>\n",
       "      <th>ACCOUNT_TURNOVER</th>\n",
       "      <th>CRB_CHECK</th>\n",
       "      <th>GENDER</th>\n",
       "      <th>AGE</th>\n",
       "      <th>AVG_TURNOVER</th>\n",
       "      <th>CUSTOMER_WEIGHT</th>\n",
       "      <th>LOAN_AMOUNT</th>\n",
       "    </tr>\n",
       "  </thead>\n",
       "  <tbody>\n",
       "    <tr>\n",
       "      <th>0</th>\n",
       "      <td>1</td>\n",
       "      <td>0</td>\n",
       "      <td>0</td>\n",
       "      <td>1</td>\n",
       "      <td>2500</td>\n",
       "      <td>4.0</td>\n",
       "      <td>0</td>\n",
       "    </tr>\n",
       "    <tr>\n",
       "      <th>1</th>\n",
       "      <td>1</td>\n",
       "      <td>0</td>\n",
       "      <td>0</td>\n",
       "      <td>1</td>\n",
       "      <td>2501</td>\n",
       "      <td>4.0</td>\n",
       "      <td>0</td>\n",
       "    </tr>\n",
       "    <tr>\n",
       "      <th>2</th>\n",
       "      <td>1</td>\n",
       "      <td>0</td>\n",
       "      <td>0</td>\n",
       "      <td>1</td>\n",
       "      <td>2502</td>\n",
       "      <td>4.0</td>\n",
       "      <td>0</td>\n",
       "    </tr>\n",
       "    <tr>\n",
       "      <th>3</th>\n",
       "      <td>1</td>\n",
       "      <td>0</td>\n",
       "      <td>0</td>\n",
       "      <td>1</td>\n",
       "      <td>2503</td>\n",
       "      <td>4.0</td>\n",
       "      <td>0</td>\n",
       "    </tr>\n",
       "    <tr>\n",
       "      <th>4</th>\n",
       "      <td>1</td>\n",
       "      <td>0</td>\n",
       "      <td>0</td>\n",
       "      <td>1</td>\n",
       "      <td>2504</td>\n",
       "      <td>4.0</td>\n",
       "      <td>0</td>\n",
       "    </tr>\n",
       "  </tbody>\n",
       "</table>\n",
       "</div>"
      ],
      "text/plain": [
       "   ACCOUNT_TURNOVER  CRB_CHECK  GENDER  AGE  AVG_TURNOVER  CUSTOMER_WEIGHT  \\\n",
       "0                 1          0       0    1          2500              4.0   \n",
       "1                 1          0       0    1          2501              4.0   \n",
       "2                 1          0       0    1          2502              4.0   \n",
       "3                 1          0       0    1          2503              4.0   \n",
       "4                 1          0       0    1          2504              4.0   \n",
       "\n",
       "   LOAN_AMOUNT  \n",
       "0            0  \n",
       "1            0  \n",
       "2            0  \n",
       "3            0  \n",
       "4            0  "
      ]
     },
     "execution_count": 25,
     "metadata": {},
     "output_type": "execute_result"
    }
   ],
   "source": [
    "# Selecting the exact features required for modelling\n",
    "df = df[['ACCOUNT_TURNOVER','CRB_CHECK','GENDER','AGE','AVG_TURNOVER','CUSTOMER_WEIGHT','LOAN_AMOUNT']]\n",
    "df.head()"
   ]
  },
  {
   "cell_type": "code",
   "execution_count": 26,
   "id": "9ea515eb",
   "metadata": {},
   "outputs": [],
   "source": [
    "# spliting the data to dependent and independent variable\n",
    "y = df[['CUSTOMER_WEIGHT','LOAN_AMOUNT']].copy()\n",
    "X = df.drop(['CUSTOMER_WEIGHT','LOAN_AMOUNT'], axis=1)"
   ]
  },
  {
   "cell_type": "code",
   "execution_count": 27,
   "id": "b50db19e",
   "metadata": {},
   "outputs": [],
   "source": [
    "# Splitting the dataset into the Training set and Test set. test size is 20 %\n",
    "X_train, X_test, y_train, y_test = train_test_split(X, y, test_size = 0.2, random_state = 4)"
   ]
  },
  {
   "cell_type": "code",
   "execution_count": 28,
   "id": "552a848f",
   "metadata": {},
   "outputs": [],
   "source": [
    "# Feature Scaling\n",
    "# there is no need to apply future scaling on dependent variable\n",
    "sc = StandardScaler()\n",
    "scalar = sc.fit(X_train)\n",
    "\n",
    "# to save the scalar\n",
    "joblib.dump(scalar,'Models/scalar_creditscore_classifier.pkl')\n",
    "\n",
    "X_train = scalar.transform(X_train)\n",
    "X_test = scalar.transform(X_test)\n",
    "# here converting the whole dataframe using scalar since we train the model all possible conditions\n",
    "X = scalar.transform(X)"
   ]
  },
  {
   "cell_type": "code",
   "execution_count": 29,
   "id": "b1be5101",
   "metadata": {},
   "outputs": [],
   "source": [
    "# convert y dataframe to array because we train the model all possible conditions\n",
    "y = np.array(y)"
   ]
  },
  {
   "cell_type": "code",
   "execution_count": 30,
   "id": "74e06752",
   "metadata": {},
   "outputs": [],
   "source": [
    "# model optimal parameters\n",
    "param = {\n",
    "            \"n_estimators\" : 1,\n",
    "            \"max_depth\" : 20,\n",
    "            \"min_samples_split\" : 2,\n",
    "            \"min_samples_leaf\" : 1,\n",
    "            \"bootstrap\" : False,\n",
    "            \"random_state\" : 4,\n",
    "            \"warm_start\" : True\n",
    "        }"
   ]
  },
  {
   "cell_type": "code",
   "execution_count": 31,
   "id": "e28e76fc",
   "metadata": {},
   "outputs": [
    {
     "data": {
      "text/plain": [
       "MultiOutputRegressor(estimator=RandomForestRegressor(bootstrap=False,\n",
       "                                                     max_depth=20,\n",
       "                                                     n_estimators=1,\n",
       "                                                     random_state=4,\n",
       "                                                     warm_start=True),\n",
       "                     n_jobs=-1)"
      ]
     },
     "execution_count": 31,
     "metadata": {},
     "output_type": "execute_result"
    }
   ],
   "source": [
    "# Model initialization and model training\n",
    "\n",
    "model = RandomForestRegressor(**param)\n",
    "model = MultiOutputRegressor(model,n_jobs= -1)\n",
    "model.fit(X, y)"
   ]
  },
  {
   "cell_type": "code",
   "execution_count": 32,
   "id": "eaa2c51e",
   "metadata": {},
   "outputs": [],
   "source": [
    "# Make predictions using the testing set\n",
    "y_pred = model.predict(X_test)"
   ]
  },
  {
   "cell_type": "code",
   "execution_count": 33,
   "id": "cec0c450",
   "metadata": {},
   "outputs": [
    {
     "name": "stdout",
     "output_type": "stream",
     "text": [
      "r2 score: 0.9999999985\n",
      "explained variance score: 0.9999999985\n",
      "mae: 0.2109882770\n",
      "mse: 0.4520612729\n",
      "rmse: 0.4754267940\n"
     ]
    }
   ],
   "source": [
    "# calculating score values\n",
    "print(\"r2 score: %.10f\" % r2_score(y_test, y_pred))\n",
    "print(\"explained variance score: %.10f\" % explained_variance_score(y_test, y_pred))\n",
    "print(\"mae: %.10f\" % mean_absolute_error(y_test, y_pred))\n",
    "print(\"mse: %.10f\" % mean_squared_error(y_test, y_pred))\n",
    "print(\"rmse: %.10f\" % mean_squared_error(y_test, y_pred,squared = False))"
   ]
  },
  {
   "cell_type": "code",
   "execution_count": 34,
   "id": "66f22c49",
   "metadata": {},
   "outputs": [
    {
     "data": {
      "text/plain": [
       "1.0"
      ]
     },
     "execution_count": 34,
     "metadata": {},
     "output_type": "execute_result"
    }
   ],
   "source": [
    "round(r2_score(y_test, y_pred),8)"
   ]
  },
  {
   "cell_type": "code",
   "execution_count": 35,
   "id": "b5f7a62b",
   "metadata": {},
   "outputs": [],
   "source": [
    "# Model execution time calculation\n",
    "from datetime import datetime\n",
    "\n",
    "def timer(start_time=None):\n",
    "    if not start_time:\n",
    "        start_time = datetime.now()\n",
    "        return start_time\n",
    "    elif start_time:\n",
    "        thour, temp_sec = divmod((datetime.now() - start_time).total_seconds(), 3600)\n",
    "        tmin, tsec = divmod(temp_sec, 60)\n",
    "        print('\\n Time taken: %i hours %i minutes and %s seconds.' % (thour, tmin, round(tsec, 2)))"
   ]
  },
  {
   "cell_type": "code",
   "execution_count": 36,
   "id": "518c0b86",
   "metadata": {},
   "outputs": [],
   "source": [
    "# saving the model using pickle\n",
    "with open('Models/rf_creditscore_classifier.pkl', 'wb') as f:\n",
    "    pickle.dump(model, f)"
   ]
  },
  {
   "cell_type": "code",
   "execution_count": 37,
   "id": "72895887",
   "metadata": {},
   "outputs": [
    {
     "name": "stdout",
     "output_type": "stream",
     "text": [
      "\n",
      " Time taken: 0 hours 0 minutes and 0.08 seconds.\n"
     ]
    }
   ],
   "source": [
    "#load the saved model and making predictions \n",
    "start_time = timer(None) # timing starts from this point for \"start_time\" variable\n",
    "with open('Models/rf_creditscore_classifier.pkl', 'rb') as f:\n",
    "    rf_model = pickle.load(f)\n",
    "timer(start_time) # timing ends here for \"start_time\" variable"
   ]
  },
  {
   "cell_type": "code",
   "execution_count": 23,
   "id": "129ce5f3",
   "metadata": {},
   "outputs": [],
   "source": [
    "import gzip\n",
    "# saving the model using pickle\n",
    "with gzip.open('Models/rf_creditscore_classifier.gz', 'wb') as f:\n",
    "    pickle.dump(rf_model, f)"
   ]
  },
  {
   "cell_type": "code",
   "execution_count": 28,
   "id": "b9b21248",
   "metadata": {},
   "outputs": [
    {
     "name": "stdout",
     "output_type": "stream",
     "text": [
      "\n",
      " Time taken: 0 hours 0 minutes and 0.32 seconds.\n"
     ]
    }
   ],
   "source": [
    "#load the saved model and making predictions \n",
    "start_time = timer(None) # timing starts from this point for \"start_time\" variable\n",
    "with gzip.open('Models/rf_creditscore_classifier.gz', 'rb') as f:\n",
    "    rf_model = pickle.load(f)\n",
    "timer(start_time) # timing ends here for \"start_time\" variable"
   ]
  },
  {
   "cell_type": "code",
   "execution_count": 8,
   "id": "2160e9e8",
   "metadata": {},
   "outputs": [],
   "source": [
    "import joblib\n",
    "model = joblib.load('TI_Credit_Scoring/Models/rf_creditscoring_regressor202111292016.gz')"
   ]
  },
  {
   "cell_type": "code",
   "execution_count": 105,
   "id": "268f31eb",
   "metadata": {},
   "outputs": [],
   "source": [
    "data = {\n",
    "            \"ACCOUNT_TURNOVER\":100000,\n",
    "            \"CRB_CHECK\":0,\n",
    "            \"GENDER\": \"MALE\",\n",
    "            \"AGE\" : 20\n",
    "        }\n",
    "\n",
    "VAR_GENDER = {\n",
    "                \"MALE\" : 0,\n",
    "                \"FEMALE\" : 1\n",
    "             }"
   ]
  },
  {
   "cell_type": "code",
   "execution_count": 106,
   "id": "5df2e1cd",
   "metadata": {},
   "outputs": [
    {
     "data": {
      "text/plain": [
       "{'ACCOUNT_TURNOVER': 100000, 'CRB_CHECK': 0, 'GENDER': 0, 'AGE': 20}"
      ]
     },
     "execution_count": 106,
     "metadata": {},
     "output_type": "execute_result"
    }
   ],
   "source": [
    "data['GENDER'] = VAR_GENDER[data['GENDER']]\n",
    "data"
   ]
  },
  {
   "cell_type": "code",
   "execution_count": 107,
   "id": "2de8056b",
   "metadata": {},
   "outputs": [
    {
     "data": {
      "text/plain": [
       "{'ACCOUNT_TURNOVER': [100000],\n",
       " 'CRB_CHECK': [0],\n",
       " 'GENDER': [0],\n",
       " 'AGE': [20],\n",
       " 'AVG_TURNOVER': [100000]}"
      ]
     },
     "execution_count": 107,
     "metadata": {},
     "output_type": "execute_result"
    }
   ],
   "source": [
    "data = {'ACCOUNT_TURNOVER':[data['ACCOUNT_TURNOVER']],'CRB_CHECK':[data['CRB_CHECK']],'GENDER':[data['GENDER']],\n",
    "     'AGE':[data['AGE']],'AVG_TURNOVER':[data['ACCOUNT_TURNOVER']]}\n",
    "data"
   ]
  },
  {
   "cell_type": "code",
   "execution_count": 108,
   "id": "ce6f2cb2",
   "metadata": {},
   "outputs": [
    {
     "data": {
      "text/plain": [
       "0"
      ]
     },
     "execution_count": 108,
     "metadata": {},
     "output_type": "execute_result"
    }
   ],
   "source": [
    "VAR_GENDER = {\n",
    "                \"M\" : 0,\n",
    "                \"F\" : 1\n",
    "             }\n",
    "\n",
    "VAR_GENDER['M']"
   ]
  },
  {
   "cell_type": "code",
   "execution_count": 109,
   "id": "3019ddcc",
   "metadata": {},
   "outputs": [
    {
     "data": {
      "text/html": [
       "<div>\n",
       "<style scoped>\n",
       "    .dataframe tbody tr th:only-of-type {\n",
       "        vertical-align: middle;\n",
       "    }\n",
       "\n",
       "    .dataframe tbody tr th {\n",
       "        vertical-align: top;\n",
       "    }\n",
       "\n",
       "    .dataframe thead th {\n",
       "        text-align: right;\n",
       "    }\n",
       "</style>\n",
       "<table border=\"1\" class=\"dataframe\">\n",
       "  <thead>\n",
       "    <tr style=\"text-align: right;\">\n",
       "      <th></th>\n",
       "      <th>ACCOUNT_TURNOVER</th>\n",
       "      <th>CRB_CHECK</th>\n",
       "      <th>GENDER</th>\n",
       "      <th>AGE</th>\n",
       "      <th>AVG_TURNOVER</th>\n",
       "    </tr>\n",
       "  </thead>\n",
       "  <tbody>\n",
       "    <tr>\n",
       "      <th>0</th>\n",
       "      <td>100000</td>\n",
       "      <td>0</td>\n",
       "      <td>0</td>\n",
       "      <td>20</td>\n",
       "      <td>100000</td>\n",
       "    </tr>\n",
       "  </tbody>\n",
       "</table>\n",
       "</div>"
      ],
      "text/plain": [
       "   ACCOUNT_TURNOVER  CRB_CHECK  GENDER  AGE  AVG_TURNOVER\n",
       "0            100000          0       0   20        100000"
      ]
     },
     "execution_count": 109,
     "metadata": {},
     "output_type": "execute_result"
    }
   ],
   "source": [
    "op_df = pd.DataFrame(data=data)\n",
    "op_df.head()"
   ]
  },
  {
   "cell_type": "code",
   "execution_count": 110,
   "id": "6f405c04",
   "metadata": {},
   "outputs": [
    {
     "data": {
      "text/html": [
       "<div>\n",
       "<style scoped>\n",
       "    .dataframe tbody tr th:only-of-type {\n",
       "        vertical-align: middle;\n",
       "    }\n",
       "\n",
       "    .dataframe tbody tr th {\n",
       "        vertical-align: top;\n",
       "    }\n",
       "\n",
       "    .dataframe thead th {\n",
       "        text-align: right;\n",
       "    }\n",
       "</style>\n",
       "<table border=\"1\" class=\"dataframe\">\n",
       "  <thead>\n",
       "    <tr style=\"text-align: right;\">\n",
       "      <th></th>\n",
       "      <th>ACCOUNT_TURNOVER</th>\n",
       "      <th>CRB_CHECK</th>\n",
       "      <th>GENDER</th>\n",
       "      <th>AGE</th>\n",
       "      <th>AVG_TURNOVER</th>\n",
       "    </tr>\n",
       "  </thead>\n",
       "  <tbody>\n",
       "    <tr>\n",
       "      <th>0</th>\n",
       "      <td>5</td>\n",
       "      <td>0</td>\n",
       "      <td>0</td>\n",
       "      <td>1</td>\n",
       "      <td>100000</td>\n",
       "    </tr>\n",
       "  </tbody>\n",
       "</table>\n",
       "</div>"
      ],
      "text/plain": [
       "   ACCOUNT_TURNOVER  CRB_CHECK  GENDER  AGE  AVG_TURNOVER\n",
       "0                 5          0       0    1        100000"
      ]
     },
     "execution_count": 110,
     "metadata": {},
     "output_type": "execute_result"
    }
   ],
   "source": [
    "op_df.loc[(op_df['ACCOUNT_TURNOVER'] >= 0) & (op_df['ACCOUNT_TURNOVER'] <= 5000), 'ACCOUNT_TURNOVER'] = 0\n",
    "op_df.loc[(op_df['ACCOUNT_TURNOVER'] >= 5000) & (op_df['ACCOUNT_TURNOVER'] <= 10000), 'ACCOUNT_TURNOVER'] = 1\n",
    "op_df.loc[(op_df['ACCOUNT_TURNOVER'] >= 10001) & (op_df['ACCOUNT_TURNOVER'] <= 15000), 'ACCOUNT_TURNOVER'] = 2\n",
    "op_df.loc[(op_df['ACCOUNT_TURNOVER'] >= 15001) & (op_df['ACCOUNT_TURNOVER'] <= 25000), 'ACCOUNT_TURNOVER'] = 3\n",
    "op_df.loc[(op_df['ACCOUNT_TURNOVER'] >= 25001) & (op_df['ACCOUNT_TURNOVER'] <= 50000), 'ACCOUNT_TURNOVER'] = 4\n",
    "op_df.loc[(op_df['ACCOUNT_TURNOVER'] >= 50001) & (op_df['ACCOUNT_TURNOVER'] <= 100000), 'ACCOUNT_TURNOVER'] = 5\n",
    "op_df.loc[(op_df['ACCOUNT_TURNOVER'] >= 100001) & (op_df['ACCOUNT_TURNOVER'] <= 10000000), 'ACCOUNT_TURNOVER'] = 6\n",
    "\n",
    "op_df.loc[(op_df['AGE'] >= 19) & (op_df['AGE'] <= 25), 'AGE'] = 1\n",
    "op_df.loc[(op_df['AGE'] >= 26) & (op_df['AGE'] <= 35), 'AGE'] = 2\n",
    "op_df.loc[(op_df['AGE'] >= 36) & (op_df['AGE'] <= 45), 'AGE'] = 3\n",
    "op_df.loc[(op_df['AGE'] >= 46) & (op_df['AGE'] <= 65), 'AGE'] = 4\n",
    "\n",
    "op_df"
   ]
  },
  {
   "cell_type": "code",
   "execution_count": 111,
   "id": "fe3cc1e7",
   "metadata": {},
   "outputs": [
    {
     "name": "stdout",
     "output_type": "stream",
     "text": [
      "14.0 29999.5\n"
     ]
    }
   ],
   "source": [
    "scalar = joblib.load('TI_Credit_Scoring/Models/rf_creditscoring_scalar202111292016.gz')\n",
    "\n",
    "modelIP = scalar.transform(op_df)\n",
    "pred = model.predict(modelIP)\n",
    "print(round(pred[0][0],2),pred[0][1])"
   ]
  },
  {
   "cell_type": "code",
   "execution_count": 104,
   "id": "1992e0bc",
   "metadata": {},
   "outputs": [
    {
     "data": {
      "text/html": [
       "<div>\n",
       "<style scoped>\n",
       "    .dataframe tbody tr th:only-of-type {\n",
       "        vertical-align: middle;\n",
       "    }\n",
       "\n",
       "    .dataframe tbody tr th {\n",
       "        vertical-align: top;\n",
       "    }\n",
       "\n",
       "    .dataframe thead th {\n",
       "        text-align: right;\n",
       "    }\n",
       "</style>\n",
       "<table border=\"1\" class=\"dataframe\">\n",
       "  <thead>\n",
       "    <tr style=\"text-align: right;\">\n",
       "      <th></th>\n",
       "      <th>BAND</th>\n",
       "      <th>MIN</th>\n",
       "      <th>MAX</th>\n",
       "      <th>WEIGHT</th>\n",
       "    </tr>\n",
       "  </thead>\n",
       "  <tbody>\n",
       "    <tr>\n",
       "      <th>0</th>\n",
       "      <td>0</td>\n",
       "      <td>0</td>\n",
       "      <td>599</td>\n",
       "      <td>0</td>\n",
       "    </tr>\n",
       "    <tr>\n",
       "      <th>1</th>\n",
       "      <td>1</td>\n",
       "      <td>600</td>\n",
       "      <td>100000</td>\n",
       "      <td>1</td>\n",
       "    </tr>\n",
       "  </tbody>\n",
       "</table>\n",
       "</div>"
      ],
      "text/plain": [
       "   BAND  MIN     MAX  WEIGHT\n",
       "0     0    0     599       0\n",
       "1     1  600  100000       1"
      ]
     },
     "execution_count": 104,
     "metadata": {},
     "output_type": "execute_result"
    }
   ],
   "source": [
    "import pandas as pd\n",
    "val = 700\n",
    "df = pd.read_csv('TI_Credit_Scoring/data/CRB_SCORE_RANGE.csv')\n",
    "df"
   ]
  },
  {
   "cell_type": "code",
   "execution_count": 105,
   "id": "a863a7d6",
   "metadata": {},
   "outputs": [
    {
     "data": {
      "text/html": [
       "<div>\n",
       "<style scoped>\n",
       "    .dataframe tbody tr th:only-of-type {\n",
       "        vertical-align: middle;\n",
       "    }\n",
       "\n",
       "    .dataframe tbody tr th {\n",
       "        vertical-align: top;\n",
       "    }\n",
       "\n",
       "    .dataframe thead th {\n",
       "        text-align: right;\n",
       "    }\n",
       "</style>\n",
       "<table border=\"1\" class=\"dataframe\">\n",
       "  <thead>\n",
       "    <tr style=\"text-align: right;\">\n",
       "      <th></th>\n",
       "      <th>BAND</th>\n",
       "      <th>MIN</th>\n",
       "      <th>MAX</th>\n",
       "      <th>WEIGHT</th>\n",
       "    </tr>\n",
       "  </thead>\n",
       "  <tbody>\n",
       "    <tr>\n",
       "      <th>1</th>\n",
       "      <td>1</td>\n",
       "      <td>600</td>\n",
       "      <td>100000</td>\n",
       "      <td>1</td>\n",
       "    </tr>\n",
       "  </tbody>\n",
       "</table>\n",
       "</div>"
      ],
      "text/plain": [
       "   BAND  MIN     MAX  WEIGHT\n",
       "1     1  600  100000       1"
      ]
     },
     "execution_count": 105,
     "metadata": {},
     "output_type": "execute_result"
    }
   ],
   "source": [
    "df1 = df[(df['MIN'] <= val) &  (df['MAX'] >= val)]\n",
    "df1.head()"
   ]
  },
  {
   "cell_type": "code",
   "execution_count": 65,
   "id": "cf7a9817",
   "metadata": {},
   "outputs": [
    {
     "name": "stdout",
     "output_type": "stream",
     "text": [
      "94.42\n"
     ]
    },
    {
     "data": {
      "text/plain": [
       "40"
      ]
     },
     "execution_count": 65,
     "metadata": {},
     "output_type": "execute_result"
    }
   ],
   "source": [
    "creditscore = 22\n",
    "creditpercent = round(creditscore/23.3*100,2)\n",
    "print(creditpercent)\n",
    "df = pd.read_csv('TI_Credit_Scoring/data/PROPOSED_LOAN_RANGE.csv')\n",
    "df = df[(df['MIN'] <= creditpercent) &  (df['MAX'] >= creditpercent)]\n",
    "df = df.reset_index(drop=True)\n",
    "df['WEIGHT'][0]"
   ]
  },
  {
   "cell_type": "code",
   "execution_count": 16,
   "id": "391fc3e3",
   "metadata": {},
   "outputs": [
    {
     "data": {
      "text/plain": [
       "'FAILURE'"
      ]
     },
     "execution_count": 16,
     "metadata": {},
     "output_type": "execute_result"
    }
   ],
   "source": [
    "import pandas as pd\n",
    "age = 18\n",
    "STATUS = True\n",
    "df = pd.read_csv('TI_Credit_Scoring/data/AGE_RANGE.csv')\n",
    "if(df['MIN'][0] > age):\n",
    "    STATUS = \"FAILURE\"\n",
    "STATUS"
   ]
  },
  {
   "cell_type": "code",
   "execution_count": 36,
   "id": "8991e312",
   "metadata": {},
   "outputs": [
    {
     "data": {
      "text/plain": [
       "'M0712159239'"
      ]
     },
     "execution_count": 36,
     "metadata": {},
     "output_type": "execute_result"
    }
   ],
   "source": [
    "a = '254712159239'\n",
    "b = 'M0'\n",
    "a = a[3:]\n",
    "a = b + a\n",
    "a"
   ]
  },
  {
   "cell_type": "code",
   "execution_count": null,
   "id": "a84621df",
   "metadata": {},
   "outputs": [],
   "source": []
  }
 ],
 "metadata": {
  "kernelspec": {
   "display_name": "Python 3 (ipykernel)",
   "language": "python",
   "name": "python3"
  },
  "language_info": {
   "codemirror_mode": {
    "name": "ipython",
    "version": 3
   },
   "file_extension": ".py",
   "mimetype": "text/x-python",
   "name": "python",
   "nbconvert_exporter": "python",
   "pygments_lexer": "ipython3",
   "version": "3.8.10"
  }
 },
 "nbformat": 4,
 "nbformat_minor": 5
}
