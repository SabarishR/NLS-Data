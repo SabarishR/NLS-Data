{
 "cells": [
  {
   "cell_type": "code",
   "execution_count": 1,
   "id": "be3d16ed",
   "metadata": {},
   "outputs": [],
   "source": [
    "# pip install opencv-python\n",
    "# pip install pytesseract\n",
    "# pip install imutils\n",
    "# pip install tensorflow\n",
    "import cv2 \n",
    "import pytesseract\n",
    "import numpy as np"
   ]
  },
  {
   "cell_type": "code",
   "execution_count": 2,
   "id": "3e35a210",
   "metadata": {},
   "outputs": [],
   "source": [
    "# loading image\n",
    "img = cv2.imread('Images/cheque_leaf.jpg')"
   ]
  },
  {
   "cell_type": "code",
   "execution_count": 3,
   "id": "06eec6d3",
   "metadata": {},
   "outputs": [],
   "source": [
    "# Rescaling the image (it's recommended if you’re working with images that have a DPI of less than 300 dpi)\n",
    "img = cv2.resize(img, None, fx=1.2, fy=1.2, interpolation=cv2.INTER_CUBIC)\n",
    "h, w = img.shape[:2]"
   ]
  },
  {
   "cell_type": "code",
   "execution_count": 4,
   "id": "5474f641",
   "metadata": {},
   "outputs": [],
   "source": [
    "gray = cv2.cvtColor(img, cv2.COLOR_BGR2GRAY)  # transform to grayscale"
   ]
  },
  {
   "cell_type": "code",
   "execution_count": 5,
   "id": "8978a889",
   "metadata": {},
   "outputs": [],
   "source": [
    "# To sharpen the image\n",
    "sharpen_kernel = np.array([[-1,-1,-1], [-1,9,-1], [-1,-1,-1]])\n",
    "sharpen = cv2.filter2D(gray, -1, sharpen_kernel)"
   ]
  },
  {
   "cell_type": "code",
   "execution_count": 6,
   "id": "017ec462",
   "metadata": {},
   "outputs": [],
   "source": [
    "thresh = cv2.threshold(gray, 0, 255, cv2.THRESH_BINARY+cv2.THRESH_OTSU)[1]  # perform OTSU threhold\n",
    "thresh = cv2.rectangle(thresh, (0, 0), (w, h), (0, 0, 0), 2) # draw a rectangle around regions of interest in an image"
   ]
  },
  {
   "cell_type": "code",
   "execution_count": 7,
   "id": "187adb37",
   "metadata": {},
   "outputs": [],
   "source": [
    "cv2.imshow(\"img\", thresh)\n",
    "cv2.waitKey(0)\n",
    "cv2.destroyAllWindows()"
   ]
  },
  {
   "cell_type": "code",
   "execution_count": 8,
   "id": "ec710207",
   "metadata": {},
   "outputs": [],
   "source": [
    "# Dilates an image by using a specific structuring element.\n",
    "# enrich the charecters(to large)\n",
    "kernel = cv2.getStructuringElement(cv2.MORPH_RECT, (2,2))\n",
    "\n",
    "#The function erodes the source image using the specified structuring element that determines \n",
    "# the shape of a pixel neighborhood over which the minimum is taken\n",
    "erode = cv2.erode(thresh, kernel, iterations = 1)"
   ]
  },
  {
   "cell_type": "code",
   "execution_count": 9,
   "id": "7b5e9d7c",
   "metadata": {},
   "outputs": [],
   "source": [
    "cv2.imshow(\"img\", erode)\n",
    "cv2.waitKey(0)\n",
    "cv2.destroyAllWindows()"
   ]
  },
  {
   "cell_type": "code",
   "execution_count": 10,
   "id": "19d9c38b",
   "metadata": {},
   "outputs": [
    {
     "data": {
      "text/plain": [
       "True"
      ]
     },
     "execution_count": 10,
     "metadata": {},
     "output_type": "execute_result"
    }
   ],
   "source": [
    "# save image to file\n",
    "cv2.imwrite(\"Images/cheque_wb.jpg\", erode)"
   ]
  },
  {
   "cell_type": "code",
   "execution_count": 10,
   "id": "bf885778",
   "metadata": {},
   "outputs": [
    {
     "data": {
      "text/plain": [
       "'0 $.K mens hostel - 324AM-T719AM  §\\nWAGR¥7JP, Dhanalakshmi Nagar, Tambaram, Chennal, Tamil Nadu 600059\\na Motorcycling - 750 m 2mins  p7\\n\\n0 Green Fiiness Club( Camp Road) ~ 722AM-7:30AM  §\\nNo 2, Sri Ram Nagar 4th Street, Seliyur, post, Tambaram, Chennal, Tamil\\nNedu 600073\\n\\n0 RAWFitness UnissxGym + 7AAM-737AM  §\\n7, Vaidyalingam St, behind Annai Violet School, Sudha Avenue,\\nChrdapakkam, Chennai, Tamil Nadu 600064\\na Motorcycling - 850 m sms #5\\n\\n0 WAVE FITNESS UNISEX - 7ASAM-T51AM  §\\nNo 2,Lenin Complex Bharathi, School St, Camp Road Junction, East\\nTambaram, Selalyur, Chennai, Tamil Nadu 600073\\n\\x0c'"
      ]
     },
     "execution_count": 10,
     "metadata": {},
     "output_type": "execute_result"
    }
   ],
   "source": [
    "# sudo apt-get install tesseract-ocr-eng \n",
    "# Adding custom options -- oem 0-3 psm 0-13\n",
    "custom_config = r'--oem 1 --psm 6'\n",
    "pytesseract.image_to_string(erode, config=custom_config)"
   ]
  },
  {
   "cell_type": "code",
   "execution_count": null,
   "id": "72bd0a61",
   "metadata": {},
   "outputs": [],
   "source": []
  },
  {
   "cell_type": "code",
   "execution_count": 17,
   "id": "98dbfd47",
   "metadata": {},
   "outputs": [],
   "source": [
    "import cv2\n",
    "import pytesseract\n",
    "import numpy as np\n",
    "\n",
    "# Read the original image\n",
    "img = cv2.imread('Images/cheque_wb.jpg') \n",
    "# Display original image\n",
    "cv2.imshow('Original', img)\n",
    "cv2.waitKey(0)\n",
    "\n",
    "# Convert to graycsale\n",
    "img_gray = cv2.cvtColor(img, cv2.COLOR_BGR2GRAY)\n",
    "# Blur the image for better edge detection\n",
    "img_blur = cv2.GaussianBlur(img_gray, (3,3), 0) \n",
    "\n",
    "# Sobel Edge Detection\n",
    "sobelx = cv2.Sobel(src=img_blur, ddepth=cv2.CV_64F, dx=1, dy=0, ksize=5) # Sobel Edge Detection on the X axis\n",
    "sobely = cv2.Sobel(src=img_blur, ddepth=cv2.CV_64F, dx=0, dy=1, ksize=5) # Sobel Edge Detection on the Y axis\n",
    "sobelxy = cv2.Sobel(src=img_blur, ddepth=cv2.CV_64F, dx=1, dy=1, ksize=5) # Combined X and Y Sobel Edge Detection\n",
    "# Display Sobel Edge Detection Images\n",
    "cv2.imshow('Sobel X', sobelx)\n",
    "cv2.waitKey(0)\n",
    "cv2.imshow('Sobel Y', sobely)\n",
    "cv2.waitKey(0)\n",
    "cv2.imshow('Sobel X Y using Sobel() function', sobelxy)\n",
    "cv2.waitKey(0)\n",
    "\n",
    "# Canny Edge Detection\n",
    "edges = cv2.Canny(image=img_blur, threshold1=100, threshold2=200) # Canny Edge Detection\n",
    "# Display Canny Edge Detection Image\n",
    "cv2.imshow('Canny Edge Detection', edges)\n",
    "cv2.waitKey(0)\n",
    "\n",
    "cv2.destroyAllWindows()"
   ]
  },
  {
   "cell_type": "code",
   "execution_count": 18,
   "id": "2b663576",
   "metadata": {},
   "outputs": [
    {
     "data": {
      "text/plain": [
       "True"
      ]
     },
     "execution_count": 18,
     "metadata": {},
     "output_type": "execute_result"
    }
   ],
   "source": [
    "# save image to file\n",
    "cv2.imwrite(\"Images/cheque_edge_wb.jpg\", edges)"
   ]
  },
  {
   "cell_type": "code",
   "execution_count": 19,
   "id": "09e66eee",
   "metadata": {},
   "outputs": [
    {
     "data": {
      "text/plain": [
       "'SYA) e a at AL\\nR= E Ai f a! [aicMCAN= a pO\\nANCEBA |\\nPINE ONE RACH > Pe ami)\\n[Ina 2 Zo! TE\\nEe Te IEE D FWE —\\nye - YI\\nBAND) PARENTER (REEDY a g\\n[Createliibiocd Besdeses) pr eeceeloeliete:Slatuek octloao] |\\nldellslejsrliHeipialepis clamps oRajoy:Ne\\n\\x0c'"
      ]
     },
     "execution_count": 19,
     "metadata": {},
     "output_type": "execute_result"
    }
   ],
   "source": [
    "custom_config = r'--oem 1 --psm 6'\n",
    "pytesseract.image_to_string(edges, config=custom_config)"
   ]
  },
  {
   "cell_type": "code",
   "execution_count": null,
   "id": "9694378f",
   "metadata": {},
   "outputs": [],
   "source": []
  },
  {
   "cell_type": "code",
   "execution_count": 22,
   "id": "63355492",
   "metadata": {},
   "outputs": [],
   "source": [
    "# import the necessary packages\n",
    "import numpy as np\n",
    "import cv2\n",
    "import pytesseract\n",
    "\n",
    "def non_max_suppression(boxes, probs=None, overlapThresh=0.3):\n",
    "    # if there are no boxes, return an empty list\n",
    "    if len(boxes) == 0:\n",
    "        return []\n",
    "\n",
    "    # if the bounding boxes are integers, convert them to floats -- this\n",
    "    # is important since we'll be doing a bunch of divisions\n",
    "    if boxes.dtype.kind == \"i\":\n",
    "        boxes = boxes.astype(\"float\")\n",
    "\n",
    "    # initialize the list of picked indexes\n",
    "    pick = []\n",
    "\n",
    "    # grab the coordinates of the bounding boxes\n",
    "    x1 = boxes[:, 0]\n",
    "    y1 = boxes[:, 1]\n",
    "    x2 = boxes[:, 2]\n",
    "    y2 = boxes[:, 3]\n",
    "\n",
    "    # compute the area of the bounding boxes and grab the indexes to sort\n",
    "    # (in the case that no probabilities are provided, simply sort on the\n",
    "    # bottom-left y-coordinate)\n",
    "    area = (x2 - x1 + 1) * (y2 - y1 + 1)\n",
    "    idxs = y2\n",
    "\n",
    "    # if probabilities are provided, sort on them instead\n",
    "    if probs is not None:\n",
    "        idxs = probs\n",
    "\n",
    "    # sort the indexes\n",
    "    idxs = np.argsort(idxs)\n",
    "\n",
    "    # keep looping while some indexes still remain in the indexes list\n",
    "    while len(idxs) > 0:\n",
    "        # grab the last index in the indexes list and add the index value\n",
    "        # to the list of picked indexes\n",
    "        last = len(idxs) - 1\n",
    "        i = idxs[last]\n",
    "        pick.append(i)\n",
    "\n",
    "        # find the largest (x, y) coordinates for the start of the bounding\n",
    "        # box and the smallest (x, y) coordinates for the end of the bounding\n",
    "        # box\n",
    "        xx1 = np.maximum(x1[i], x1[idxs[:last]])\n",
    "        yy1 = np.maximum(y1[i], y1[idxs[:last]])\n",
    "        xx2 = np.minimum(x2[i], x2[idxs[:last]])\n",
    "        yy2 = np.minimum(y2[i], y2[idxs[:last]])\n",
    "\n",
    "        # compute the width and height of the bounding box\n",
    "        w = np.maximum(0, xx2 - xx1 + 1)\n",
    "        h = np.maximum(0, yy2 - yy1 + 1)\n",
    "\n",
    "        # compute the ratio of overlap\n",
    "        overlap = (w * h) / area[idxs[:last]]\n",
    "\n",
    "        # delete all indexes from the index list that have overlap greater\n",
    "        # than the provided overlap threshold\n",
    "        idxs = np.delete(idxs, np.concatenate(([last],\n",
    "            np.where(overlap > overlapThresh)[0])))\n",
    "\n",
    "    # return only the bounding boxes that were picked\treturn boxes[pick].astype(\"int\")\n",
    "    return boxes[pick].astype(\"int\")"
   ]
  },
  {
   "cell_type": "code",
   "execution_count": 25,
   "id": "28f411e8",
   "metadata": {},
   "outputs": [],
   "source": [
    "image = cv2.imread('Images/cheque_bw.jpg')\n",
    "orig = image.copy()\n",
    "(H, W) = image.shape[:2]\n",
    "\n",
    "# set the new width and height and then determine the ratio in change\n",
    "# for both the width and height\n",
    "(newW, newH) = (320, 320)\n",
    "rW = W / float(newW)\n",
    "rH = H / float(newH)\n",
    "\n",
    "# resize the image and grab the new image dimensions\n",
    "image = cv2.resize(image, (newW, newH))\n",
    "(H, W) = image.shape[:2]\n",
    "\n",
    "# define the two output layer names for the EAST detector model that\n",
    "# we are interested -- the first is the output probabilities and the\n",
    "# second can be used to derive the bounding box coordinates of text\n",
    "layerNames = [\n",
    "    \"feature_fusion/Conv_7/Sigmoid\",\n",
    "    \"feature_fusion/concat_3\"]\n",
    "\n",
    "# load the pre-trained EAST text detector\n",
    "net = cv2.dnn.readNet('Images/Model/frozen_east_text_detection.pb')\n",
    "\n",
    "# construct a blob from the image and then perform a forward pass of\n",
    "# the model to obtain the two output layer sets\n",
    "blob = cv2.dnn.blobFromImage(image, 1.0, (W, H),(123.68, 116.78, 103.94), swapRB=True, crop=False)\n",
    "net.setInput(blob)\n",
    "(scores, geometry) = net.forward(layerNames)\n",
    "\n",
    "# grab the number of rows and columns from the scores volume, then\n",
    "# initialize our set of bounding box rectangles and corresponding\n",
    "# confidence scores\n",
    "(numRows, numCols) = scores.shape[2:4]\n",
    "rects = []\n",
    "confidences = []\n",
    "\n",
    "# loop over the number of rows\n",
    "for y in range(0, numRows):\n",
    "    # extract the scores (probabilities), followed by the geometrical\n",
    "    # data used to derive potential bounding box coordinates that\n",
    "    # surround text\n",
    "    scoresData = scores[0, 0, y]\n",
    "    xData0 = geometry[0, 0, y]\n",
    "    xData1 = geometry[0, 1, y]\n",
    "    xData2 = geometry[0, 2, y]\n",
    "    xData3 = geometry[0, 3, y]\n",
    "    anglesData = geometry[0, 4, y]\n",
    "    \n",
    "    for x in range(0, numCols):\n",
    "        # ignore probability values below 0.75\n",
    "        if scoresData[x] < 0.75:\n",
    "            continue\n",
    "        \n",
    "        # compute the offset factor as our resulting feature maps will\n",
    "        # be 4x smaller than the input image\n",
    "        (offsetX, offsetY) = (x * 4.0, y * 4.0)\n",
    "        \n",
    "        # extract the rotation angle for the prediction and then\n",
    "        # compute the sin and cosine\n",
    "        angle = anglesData[x]\n",
    "        cos = np.cos(angle)\n",
    "        sin = np.sin(angle)\n",
    "        \n",
    "        # use the geometry volume to derive the width and height of\n",
    "        # the bounding box\n",
    "        h = xData0[x] + xData2[x]\n",
    "        w = xData1[x] + xData3[x]\n",
    "        \n",
    "        # compute both the starting and ending (x, y)-coordinates for\n",
    "        # the text prediction bounding box\n",
    "        endX = int(offsetX + (cos * xData1[x]) + (sin * xData2[x]))\n",
    "        endY = int(offsetY - (sin * xData1[x]) + (cos * xData2[x]))\n",
    "        startX = int(endX - w)\n",
    "        startY = int(endY - h)\n",
    "        \n",
    "        # add the bounding box coordinates and probability score to\n",
    "        # our respective lists\n",
    "        rects.append((startX, startY, endX, endY))\n",
    "        confidences.append(scoresData[x])\n",
    "\n",
    "# apply non-maxima suppression to suppress weak, overlapping bounding\n",
    "# boxes\n",
    "boxes = non_max_suppression(np.array(rects), probs=confidences)\n",
    "\n",
    "# loop over the bounding boxes\n",
    "for (startX, startY, endX, endY) in boxes:\n",
    "    # scale the bounding box coordinates based on the respective\n",
    "    # ratios\n",
    "    startX = int(startX * rW)\n",
    "    startY = int(startY * rH)\n",
    "    endX = int(endX * rW)\n",
    "    endY = int(endY * rH)\n",
    "    # draw the bounding box on the image\n",
    "    cv2.rectangle(orig, (startX, startY), (endX, endY), (0, 255, 0), 2)\n",
    "    cv2.imwrite('Images/Crop/crop.png', orig)"
   ]
  },
  {
   "cell_type": "code",
   "execution_count": 28,
   "id": "f8fd4125",
   "metadata": {},
   "outputs": [],
   "source": [
    "# take a copy o the original image\n",
    "img = cv2.imread('Images/cheque_bw.jpg')\n",
    "image2 = orig.copy()\n",
    "for i, (startX, startY, endX, endY) in enumerate(boxes):\n",
    "    startX = int(startX * rW)\n",
    "    startY = int(startY * rH)\n",
    "    endX = int(endX * rW)\n",
    "    endY = int(endY * rH)\n",
    "    cropped = img[startY:endY, startX:endX]\n",
    "    cv2.imwrite('Images/Crop/crop_img_{}.jpg'.format(i), cropped)"
   ]
  },
  {
   "cell_type": "code",
   "execution_count": 31,
   "id": "23d3c10b",
   "metadata": {},
   "outputs": [
    {
     "data": {
      "text/plain": [
       "'a\\n\\x0c'"
      ]
     },
     "execution_count": 31,
     "metadata": {},
     "output_type": "execute_result"
    }
   ],
   "source": [
    "image = cv2.imread('Images/Crop/crop_img_21.jpg')\n",
    "\n",
    "custom_config = r'--oem 1 --psm 6'\n",
    "pytesseract.image_to_string(image, config=custom_config)"
   ]
  },
  {
   "cell_type": "code",
   "execution_count": 32,
   "id": "3401a0f6",
   "metadata": {},
   "outputs": [
    {
     "name": "stdout",
     "output_type": "stream",
     "text": [
      "oem - 0  psm - 1  data- \f",
      "\n",
      "oem - 0  psm - 3  data- \f",
      "\n",
      "oem - 0  psm - 4  data- \f",
      "\n",
      "oem - 0  psm - 5  data- w\n",
      "9.“\n",
      "\f",
      "\n",
      "oem - 0  psm - 6  data- i oﬂgboﬁ\n",
      "\f",
      "\n",
      "oem - 0  psm - 7  data- i oﬂgboﬁ\n",
      "\f",
      "\n",
      "oem - 0  psm - 8  data- bdgboﬁ\n",
      "\f",
      "\n",
      "oem - 0  psm - 9  data- \f",
      "\n",
      "oem - 0  psm - 10  data- M\n",
      "\f",
      "\n",
      "oem - 0  psm - 11  data- ' 0&3‘00/\n",
      "\f",
      "\n",
      "oem - 0  psm - 12  data- ' 0&3‘00/\n",
      "\f",
      "\n",
      "oem - 0  psm - 13  data- '0?SDo/—\n",
      "\f",
      "\n",
      "oem - 1  psm - 1  data- \f",
      "\n",
      "oem - 1  psm - 3  data- \f",
      "\n",
      "oem - 1  psm - 4  data- \f",
      "\n",
      "oem - 1  psm - 5  data- J\n",
      "&\n",
      "\f",
      "\n",
      "oem - 1  psm - 6  data- a\n",
      "\f",
      "\n",
      "oem - 1  psm - 7  data- a\n",
      "\f",
      "\n",
      "oem - 1  psm - 8  data- Pana\n",
      "\f",
      "\n",
      "oem - 1  psm - 9  data- Pana\n",
      "\f",
      "\n",
      "oem - 1  psm - 10  data- Pana\n",
      "\f",
      "\n",
      "oem - 1  psm - 11  data- a\n",
      "\f",
      "\n",
      "oem - 1  psm - 12  data- a\n",
      "\f",
      "\n",
      "oem - 1  psm - 13  data- Pana\n",
      "\f",
      "\n",
      "oem - 2  psm - 1  data- \f",
      "\n",
      "oem - 2  psm - 3  data- \f",
      "\n",
      "oem - 2  psm - 4  data- \f",
      "\n",
      "oem - 2  psm - 5  data- )\n",
      "&\n",
      "\f",
      "\n",
      "oem - 2  psm - 6  data- » o?soo/—\n",
      "\f",
      "\n",
      "oem - 2  psm - 7  data- » o?soo/—\n",
      "\f",
      "\n",
      "oem - 2  psm - 8  data- ip?gbo/_\n",
      "\f",
      "\n",
      "oem - 2  psm - 9  data- \f",
      "\n",
      "oem - 2  psm - 10  data- M\n",
      "\f",
      "\n",
      "oem - 2  psm - 11  data- ' O?SDO/\n",
      "\f",
      "\n",
      "oem - 2  psm - 12  data- ' O?SDO/\n",
      "\f",
      "\n",
      "oem - 2  psm - 13  data- P\n",
      "\f",
      "\n",
      "oem - 3  psm - 1  data- \f",
      "\n",
      "oem - 3  psm - 3  data- \f",
      "\n",
      "oem - 3  psm - 4  data- \f",
      "\n",
      "oem - 3  psm - 5  data- )\n",
      "&\n",
      "\f",
      "\n",
      "oem - 3  psm - 6  data- » o?soo/—\n",
      "\f",
      "\n",
      "oem - 3  psm - 7  data- » o?soo/—\n",
      "\f",
      "\n",
      "oem - 3  psm - 8  data- ip?gbo/_\n",
      "\f",
      "\n",
      "oem - 3  psm - 9  data- \f",
      "\n",
      "oem - 3  psm - 10  data- M\n",
      "\f",
      "\n",
      "oem - 3  psm - 11  data- ' O?SDO/\n",
      "\f",
      "\n",
      "oem - 3  psm - 12  data- ' O?SDO/\n",
      "\f",
      "\n",
      "oem - 3  psm - 13  data- P\n",
      "\f",
      "\n"
     ]
    }
   ],
   "source": [
    "oem = [0,1,2,3]\n",
    "psm = [0,1,2,3,4,5,6,7,8,9,10,11,12,13]\n",
    "\n",
    "for i in oem:\n",
    "    for j in psm:\n",
    "        \n",
    "        while True:\n",
    "            try:\n",
    "                config = r'--oem '+str(i)+' --psm '+str(j)+''\n",
    "                data = pytesseract.image_to_string(image, config=config)\n",
    "                print('oem -',str(i),' psm -',str(j),' data-',data)\n",
    "                break\n",
    "            except Exception:\n",
    "                break"
   ]
  },
  {
   "cell_type": "code",
   "execution_count": 38,
   "id": "751f8ed7",
   "metadata": {},
   "outputs": [
    {
     "name": "stdout",
     "output_type": "stream",
     "text": [
      "['', '', '', '', 'a,', 'WD.', '&6loal2en', '', 'Vay', '%', 'He', '2400', '§', 'Date.', '>', '22', '4', 'mr', '', '2’', 'NCBA', '|', '', 'JUNCTION', 'BRANCH', 'Vs', '0', '07-106', '', 'BAICHANDRY', 'Rep]', 'BanDLUS?', 'fsool—', '', 'i', 'US', 'Dollars', 'Two', 'Tho', '‘', 'ky', 'D', 'FWE', '|', 'BANOLRAT', '.', 'Ree', '', '_PONDRED', 'ALS,', '5', '9', 'A', '', 'BANDI', 'RAVICHANDRA', 'REDDY', '!', ':', '', 'Cheque', 'Number', 'Bank', 'Code', 'Account', 'Number', 'Please', 'DO', 'NOT', 'write', 'in', 'the', 'space', 'below', '1', '', '\"000002107', '0E3NEOw3IADLO', 'LOO', '2', '2°']\n"
     ]
    }
   ],
   "source": [
    "from pytesseract import Output\n",
    "import pytesseract\n",
    "import cv2\n",
    " \n",
    "image = cv2.imread(\"Images/cheque_wb.jpg\")\n",
    "\n",
    "#swap color channel ordering from BGR (OpenCV’s default) to RGB (compatible with Tesseract and pytesseract).\n",
    "# By default OpenCV stores images in BGR format and since pytesseract assumes RGB format,\n",
    "# we need to convert from BGR to RGB format/mode:\n",
    "rgb = cv2.cvtColor(image, cv2.COLOR_BGR2RGB)\n",
    " \n",
    "custom_config = r'--oem 1 --psm 6'\n",
    "results = pytesseract.image_to_data(rgb, output_type=Output.DICT,lang='eng',config=custom_config)\n",
    "boxresults = pytesseract.image_to_boxes(rgb,output_type=Output.DICT,lang='eng',config=custom_config)\n",
    "print(results['text'])\n",
    "\n",
    "for i in range(0, len(results[\"text\"])):\n",
    "    # extract the bounding box coordinates of the text region from the current result\n",
    "    tmp_tl_x = results[\"left\"][i]\n",
    "    tmp_tl_y = results[\"top\"][i]\n",
    "    tmp_br_x = tmp_tl_x + results[\"width\"][i]\n",
    "    tmp_br_y = tmp_tl_y + results[\"height\"][i] \n",
    "    tmp_level = results[\"level\"][i]\n",
    "    conf = results[\"conf\"][i]\n",
    "    text = results[\"text\"][i]\n",
    "    \n",
    "    if(tmp_level == 5):\n",
    "        cv2.putText(image, text, (tmp_tl_x, tmp_tl_y - 10), cv2.FONT_HERSHEY_SIMPLEX,0.5, (0, 0, 255), 1)\n",
    "        cv2.rectangle(image, (tmp_tl_x, tmp_tl_y), (tmp_br_x, tmp_br_y), (0, 0, 255), 1)\n",
    "        \n",
    "for j in range(0,len(boxresults[\"left\"])):\n",
    "    left = boxresults[\"left\"][j]\n",
    "    bottom = boxresults[\"bottom\"][j]\n",
    "    right = boxresults[\"right\"][j]\n",
    "    top = boxresults[\"top\"][j] \n",
    "    cv2.rectangle(image, (left, top), (right, bottom), (255, 0, 0), 1)\n",
    "       \n",
    "    \n",
    "cv2.imshow(\"image\",image)\n",
    "cv2.waitKey(0)\n",
    "cv2.destroyAllWindows()"
   ]
  },
  {
   "cell_type": "code",
   "execution_count": 34,
   "id": "dcd0aa1c",
   "metadata": {},
   "outputs": [
    {
     "name": "stdout",
     "output_type": "stream",
     "text": [
      "a, WD. &6loal2en\n",
      "Vay, % He 2400 § Date. > 22 4 ns\n",
      "2’ NCBA |\n",
      "JUNCTION BRANCH VY 0 07-106\n",
      "BAICWANDRY Rep] BanDLUS? fsool—\n",
      "i US Dollars Two Tho ‘ ky Dp FWE | BANGIRAT . Ree\n",
      "_PONDRED ALS, 5 9 A\n",
      "BANDI RAVICHANDRA REDDY ! :\n",
      "Cheque Number Bank Code Account Number Please DO NOT write in the space below 1\n",
      "\"0000021207 0E3NEOw3IADLO LOO 2 2\n",
      "\f",
      "\n"
     ]
    }
   ],
   "source": [
    "import cv2\n",
    "import pytesseract\n",
    "import numpy as np\n",
    "\n",
    "\n",
    "# Load image, grayscale, Otsu's threshold\n",
    "image = cv2.imread('Images/cheque_wb.jpg')\n",
    "gray = cv2.cvtColor(image, cv2.COLOR_BGR2GRAY)\n",
    "thresh = cv2.threshold(gray, 0, 255, cv2.THRESH_BINARY_INV + cv2.THRESH_OTSU)[1]\n",
    "\n",
    "# Draw bounding boxes\n",
    "cnts = cv2.findContours(thresh, cv2.RETR_EXTERNAL, cv2.CHAIN_APPROX_SIMPLE)\n",
    "cnts = cnts[0] if len(cnts) == 2 else cnts[1]\n",
    "for c in cnts:\n",
    "    x,y,w,h = cv2.boundingRect(c)\n",
    "    cv2.rectangle(image, (x, y), (x + w, y + h), (36,255,12), 2)\n",
    "\n",
    "# OCR\n",
    "data = pytesseract.image_to_string(255 - thresh, lang='eng',config='--oem 1 --psm 6')\n",
    "print(data)\n",
    "\n",
    "cv2.imshow('thresh', thresh)\n",
    "# cv2.imshow('image', image)\n",
    "cv2.waitKey(0)\n",
    "cv2.destroyAllWindows()"
   ]
  },
  {
   "cell_type": "code",
   "execution_count": 27,
   "id": "9b4ee171",
   "metadata": {},
   "outputs": [
    {
     "data": {
      "text/plain": [
       "True"
      ]
     },
     "execution_count": 27,
     "metadata": {},
     "output_type": "execute_result"
    }
   ],
   "source": [
    "# save image to file\n",
    "cv2.imwrite(\"Images/cheque_bw.jpg\", thresh)"
   ]
  },
  {
   "cell_type": "code",
   "execution_count": null,
   "id": "16e6cbc5",
   "metadata": {},
   "outputs": [],
   "source": []
  }
 ],
 "metadata": {
  "kernelspec": {
   "display_name": "Python 3 (ipykernel)",
   "language": "python",
   "name": "python3"
  },
  "language_info": {
   "codemirror_mode": {
    "name": "ipython",
    "version": 3
   },
   "file_extension": ".py",
   "mimetype": "text/x-python",
   "name": "python",
   "nbconvert_exporter": "python",
   "pygments_lexer": "ipython3",
   "version": "3.8.10"
  }
 },
 "nbformat": 4,
 "nbformat_minor": 5
}
