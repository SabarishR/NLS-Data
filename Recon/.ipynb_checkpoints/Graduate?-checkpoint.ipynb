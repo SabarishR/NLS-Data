{
 "cells": [
  {
   "cell_type": "code",
   "execution_count": 1,
   "id": "c6f03e83",
   "metadata": {},
   "outputs": [],
   "source": [
    "import pandas as pd\n",
    "import math\n",
    "import numpy as np"
   ]
  },
  {
   "cell_type": "code",
   "execution_count": 2,
   "id": "cca9f7df",
   "metadata": {},
   "outputs": [
    {
     "data": {
      "text/html": [
       "<div>\n",
       "<style scoped>\n",
       "    .dataframe tbody tr th:only-of-type {\n",
       "        vertical-align: middle;\n",
       "    }\n",
       "\n",
       "    .dataframe tbody tr th {\n",
       "        vertical-align: top;\n",
       "    }\n",
       "\n",
       "    .dataframe thead th {\n",
       "        text-align: right;\n",
       "    }\n",
       "</style>\n",
       "<table border=\"1\" class=\"dataframe\">\n",
       "  <thead>\n",
       "    <tr style=\"text-align: right;\">\n",
       "      <th></th>\n",
       "      <th>Sem 1</th>\n",
       "      <th>Sem 2</th>\n",
       "      <th>Sem 3</th>\n",
       "      <th>Sem 4</th>\n",
       "    </tr>\n",
       "  </thead>\n",
       "  <tbody>\n",
       "    <tr>\n",
       "      <th>0</th>\n",
       "      <td>2.15</td>\n",
       "      <td>4.40</td>\n",
       "      <td>3.56</td>\n",
       "      <td>3.16</td>\n",
       "    </tr>\n",
       "    <tr>\n",
       "      <th>1</th>\n",
       "      <td>4.94</td>\n",
       "      <td>4.83</td>\n",
       "      <td>4.74</td>\n",
       "      <td>3.43</td>\n",
       "    </tr>\n",
       "    <tr>\n",
       "      <th>2</th>\n",
       "      <td>3.22</td>\n",
       "      <td>3.82</td>\n",
       "      <td>3.63</td>\n",
       "      <td>2.22</td>\n",
       "    </tr>\n",
       "    <tr>\n",
       "      <th>3</th>\n",
       "      <td>1.76</td>\n",
       "      <td>3.54</td>\n",
       "      <td>1.70</td>\n",
       "      <td>3.24</td>\n",
       "    </tr>\n",
       "    <tr>\n",
       "      <th>4</th>\n",
       "      <td>4.00</td>\n",
       "      <td>4.71</td>\n",
       "      <td>2.72</td>\n",
       "      <td>2.82</td>\n",
       "    </tr>\n",
       "  </tbody>\n",
       "</table>\n",
       "</div>"
      ],
      "text/plain": [
       "   Sem 1  Sem 2  Sem 3  Sem 4\n",
       "0   2.15   4.40   3.56   3.16\n",
       "1   4.94   4.83   4.74   3.43\n",
       "2   3.22   3.82   3.63   2.22\n",
       "3   1.76   3.54   1.70   3.24\n",
       "4   4.00   4.71   2.72   2.82"
      ]
     },
     "execution_count": 2,
     "metadata": {},
     "output_type": "execute_result"
    }
   ],
   "source": [
    "train = pd.DataFrame(np.random.uniform(1,5,size=(20000, 4)), columns=list(['Sem 1','Sem 2','Sem 3','Sem 4']))\n",
    "train =np.round(train, decimals=2)\n",
    "train.head()"
   ]
  },
  {
   "cell_type": "code",
   "execution_count": 3,
   "id": "f922e5ed",
   "metadata": {},
   "outputs": [
    {
     "data": {
      "text/html": [
       "<div>\n",
       "<style scoped>\n",
       "    .dataframe tbody tr th:only-of-type {\n",
       "        vertical-align: middle;\n",
       "    }\n",
       "\n",
       "    .dataframe tbody tr th {\n",
       "        vertical-align: top;\n",
       "    }\n",
       "\n",
       "    .dataframe thead th {\n",
       "        text-align: right;\n",
       "    }\n",
       "</style>\n",
       "<table border=\"1\" class=\"dataframe\">\n",
       "  <thead>\n",
       "    <tr style=\"text-align: right;\">\n",
       "      <th></th>\n",
       "      <th>Sem 1</th>\n",
       "      <th>Sem 2</th>\n",
       "      <th>Sem 3</th>\n",
       "      <th>Sem 4</th>\n",
       "      <th>target</th>\n",
       "    </tr>\n",
       "  </thead>\n",
       "  <tbody>\n",
       "    <tr>\n",
       "      <th>0</th>\n",
       "      <td>2.15</td>\n",
       "      <td>4.40</td>\n",
       "      <td>3.56</td>\n",
       "      <td>3.16</td>\n",
       "      <td>0</td>\n",
       "    </tr>\n",
       "    <tr>\n",
       "      <th>1</th>\n",
       "      <td>4.94</td>\n",
       "      <td>4.83</td>\n",
       "      <td>4.74</td>\n",
       "      <td>3.43</td>\n",
       "      <td>1</td>\n",
       "    </tr>\n",
       "    <tr>\n",
       "      <th>2</th>\n",
       "      <td>3.22</td>\n",
       "      <td>3.82</td>\n",
       "      <td>3.63</td>\n",
       "      <td>2.22</td>\n",
       "      <td>0</td>\n",
       "    </tr>\n",
       "    <tr>\n",
       "      <th>3</th>\n",
       "      <td>1.76</td>\n",
       "      <td>3.54</td>\n",
       "      <td>1.70</td>\n",
       "      <td>3.24</td>\n",
       "      <td>0</td>\n",
       "    </tr>\n",
       "    <tr>\n",
       "      <th>4</th>\n",
       "      <td>4.00</td>\n",
       "      <td>4.71</td>\n",
       "      <td>2.72</td>\n",
       "      <td>2.82</td>\n",
       "      <td>1</td>\n",
       "    </tr>\n",
       "  </tbody>\n",
       "</table>\n",
       "</div>"
      ],
      "text/plain": [
       "   Sem 1  Sem 2  Sem 3  Sem 4  target\n",
       "0   2.15   4.40   3.56   3.16       0\n",
       "1   4.94   4.83   4.74   3.43       1\n",
       "2   3.22   3.82   3.63   2.22       0\n",
       "3   1.76   3.54   1.70   3.24       0\n",
       "4   4.00   4.71   2.72   2.82       1"
      ]
     },
     "execution_count": 3,
     "metadata": {},
     "output_type": "execute_result"
    }
   ],
   "source": [
    "train.loc[((train['Sem 1'] > 4.5)|(train['Sem 2'] > 4.5)|(train['Sem 3'] > 4.5)|(train['Sem 4'] > 4.5)), 'target'] = 1\n",
    "train.fillna(0,inplace = True)\n",
    "train['target'] = train['target'].astype(int)\n",
    "train .head()"
   ]
  },
  {
   "cell_type": "code",
   "execution_count": 4,
   "id": "a58f6b83",
   "metadata": {},
   "outputs": [],
   "source": [
    "# converting columns datatype\n",
    "train[['Sem 1','Sem 2','Sem 3','Sem 4']] = train[['Sem 1','Sem 2','Sem 3','Sem 4']].astype(float)\n",
    "train['target'] = train['target'].astype(int)"
   ]
  },
  {
   "cell_type": "code",
   "execution_count": 5,
   "id": "f352f59e",
   "metadata": {},
   "outputs": [
    {
     "name": "stdout",
     "output_type": "stream",
     "text": [
      "<class 'pandas.core.frame.DataFrame'>\n",
      "RangeIndex: 20000 entries, 0 to 19999\n",
      "Data columns (total 5 columns):\n",
      " #   Column  Non-Null Count  Dtype  \n",
      "---  ------  --------------  -----  \n",
      " 0   Sem 1   20000 non-null  float64\n",
      " 1   Sem 2   20000 non-null  float64\n",
      " 2   Sem 3   20000 non-null  float64\n",
      " 3   Sem 4   20000 non-null  float64\n",
      " 4   target  20000 non-null  int64  \n",
      "dtypes: float64(4), int64(1)\n",
      "memory usage: 781.4 KB\n"
     ]
    }
   ],
   "source": [
    "# dataframe info\n",
    "train.info()"
   ]
  },
  {
   "cell_type": "code",
   "execution_count": 6,
   "id": "1eea55b4",
   "metadata": {},
   "outputs": [
    {
     "name": "stdout",
     "output_type": "stream",
     "text": [
      "Target -  [0 1]\n"
     ]
    }
   ],
   "source": [
    "# validating target categories \n",
    "print(\"Target - \",train['target'].unique())"
   ]
  },
  {
   "cell_type": "code",
   "execution_count": 7,
   "id": "bca7eecb",
   "metadata": {},
   "outputs": [],
   "source": [
    "from sklearn.model_selection import train_test_split\n",
    "from sklearn.preprocessing import StandardScaler\n",
    "from sklearn.ensemble import RandomForestClassifier"
   ]
  },
  {
   "cell_type": "code",
   "execution_count": 8,
   "id": "767cd559",
   "metadata": {},
   "outputs": [],
   "source": [
    "\n",
    "# spliting the data to dependent and independent variable\n",
    "y = train['target'].copy()\n",
    "X = train.drop('target', axis=1)\n",
    "\n",
    "# Splitting the dataset into the Training set and Test set. test size is 20 %\n",
    "X_train, X_test, y_train, y_test = train_test_split(X, y, test_size = 0.2, random_state = 0)"
   ]
  },
  {
   "cell_type": "code",
   "execution_count": 9,
   "id": "63895972",
   "metadata": {},
   "outputs": [],
   "source": [
    "# Feature Scaling\n",
    "# there is no need to apply future scaling on dependent variable\n",
    "sc = StandardScaler()\n",
    "\n",
    "X_train = sc.fit_transform(X_train)\n",
    "X_test = sc.transform(X_test)"
   ]
  },
  {
   "cell_type": "code",
   "execution_count": 10,
   "id": "99ba328e",
   "metadata": {},
   "outputs": [
    {
     "data": {
      "text/plain": [
       "RandomForestClassifier(criterion='entropy', n_estimators=10, random_state=0)"
      ]
     },
     "execution_count": 10,
     "metadata": {},
     "output_type": "execute_result"
    }
   ],
   "source": [
    "classifier = RandomForestClassifier(n_estimators = 10, criterion = 'entropy', random_state = 0)\n",
    "classifier.fit(X_train, y_train)"
   ]
  },
  {
   "cell_type": "code",
   "execution_count": 12,
   "id": "1fa9609e",
   "metadata": {},
   "outputs": [],
   "source": [
    "# Predicting the Test set results\n",
    "y_pred = classifier.predict(X_test)"
   ]
  },
  {
   "cell_type": "code",
   "execution_count": 13,
   "id": "9f1ebc66",
   "metadata": {},
   "outputs": [
    {
     "name": "stdout",
     "output_type": "stream",
     "text": [
      "[[2363    0]\n",
      " [   0 1637]]\n"
     ]
    },
    {
     "data": {
      "text/plain": [
       "1.0"
      ]
     },
     "execution_count": 13,
     "metadata": {},
     "output_type": "execute_result"
    }
   ],
   "source": [
    "# Making the Confusion Matrix\n",
    "from sklearn.metrics import confusion_matrix, accuracy_score\n",
    "cm = confusion_matrix(y_test, y_pred)\n",
    "print(cm)\n",
    "accuracy_score(y_test, y_pred)"
   ]
  },
  {
   "cell_type": "code",
   "execution_count": 17,
   "id": "99fc5a76",
   "metadata": {},
   "outputs": [
    {
     "data": {
      "text/html": [
       "<div>\n",
       "<style scoped>\n",
       "    .dataframe tbody tr th:only-of-type {\n",
       "        vertical-align: middle;\n",
       "    }\n",
       "\n",
       "    .dataframe tbody tr th {\n",
       "        vertical-align: top;\n",
       "    }\n",
       "\n",
       "    .dataframe thead th {\n",
       "        text-align: right;\n",
       "    }\n",
       "</style>\n",
       "<table border=\"1\" class=\"dataframe\">\n",
       "  <thead>\n",
       "    <tr style=\"text-align: right;\">\n",
       "      <th></th>\n",
       "      <th>target</th>\n",
       "    </tr>\n",
       "  </thead>\n",
       "  <tbody>\n",
       "    <tr>\n",
       "      <th>0</th>\n",
       "      <td>1</td>\n",
       "    </tr>\n",
       "    <tr>\n",
       "      <th>1</th>\n",
       "      <td>1</td>\n",
       "    </tr>\n",
       "    <tr>\n",
       "      <th>2</th>\n",
       "      <td>0</td>\n",
       "    </tr>\n",
       "    <tr>\n",
       "      <th>3</th>\n",
       "      <td>1</td>\n",
       "    </tr>\n",
       "    <tr>\n",
       "      <th>4</th>\n",
       "      <td>0</td>\n",
       "    </tr>\n",
       "  </tbody>\n",
       "</table>\n",
       "</div>"
      ],
      "text/plain": [
       "   target\n",
       "0       1\n",
       "1       1\n",
       "2       0\n",
       "3       1\n",
       "4       0"
      ]
     },
     "execution_count": 17,
     "metadata": {},
     "output_type": "execute_result"
    }
   ],
   "source": [
    "result = pd.DataFrame({'target': y_pred})\n",
    "result.head()"
   ]
  },
  {
   "cell_type": "code",
   "execution_count": null,
   "id": "47a79626",
   "metadata": {},
   "outputs": [],
   "source": []
  }
 ],
 "metadata": {
  "kernelspec": {
   "display_name": "Python 3 (ipykernel)",
   "language": "python",
   "name": "python3"
  },
  "language_info": {
   "codemirror_mode": {
    "name": "ipython",
    "version": 3
   },
   "file_extension": ".py",
   "mimetype": "text/x-python",
   "name": "python",
   "nbconvert_exporter": "python",
   "pygments_lexer": "ipython3",
   "version": "3.8.10"
  }
 },
 "nbformat": 4,
 "nbformat_minor": 5
}
