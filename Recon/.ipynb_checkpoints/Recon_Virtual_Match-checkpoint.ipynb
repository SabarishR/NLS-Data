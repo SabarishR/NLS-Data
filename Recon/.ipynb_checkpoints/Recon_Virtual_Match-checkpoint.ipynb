{
 "cells": [
  {
   "cell_type": "code",
   "execution_count": 1,
   "id": "814c101d",
   "metadata": {},
   "outputs": [],
   "source": [
    "# Libraries\n",
    "import mysql.connector\n",
    "import pandas as pd\n",
    "import numpy as np\n",
    "import cryptocode\n",
    "from datetime import datetime"
   ]
  },
  {
   "cell_type": "code",
   "execution_count": 2,
   "id": "5a1ce948",
   "metadata": {},
   "outputs": [
    {
     "data": {
      "text/plain": [
       "'IJp74Q==*8HWo8l3VVwJBd52QEjNKjA==*Ud74uxG9J0gvIJQj4036jg==*8nvSfAKnBQF869MYk36dcg=='"
      ]
     },
     "execution_count": 2,
     "metadata": {},
     "output_type": "execute_result"
    }
   ],
   "source": [
    "encoded = cryptocode.encrypt(\"root\",\"get_cloudtesting_enryption_key()\")\n",
    "decoded = cryptocode.decrypt(encoded, \"encryption_key\")\n",
    "encoded"
   ]
  },
  {
   "cell_type": "code",
   "execution_count": 3,
   "id": "ed70585e",
   "metadata": {},
   "outputs": [],
   "source": [
    "# MYSQL Connection string\n",
    "\n",
    "config = {\n",
    "  'user': 'root',\n",
    "  'password': 'Nls@123',\n",
    "  'host': '127.0.0.1',\n",
    "  'database': 'staging2',\n",
    "  'auth_plugin' : 'mysql_native_password',\n",
    "  'raise_on_warnings': True\n",
    "}"
   ]
  },
  {
   "cell_type": "code",
   "execution_count": null,
   "id": "aef0b7a8",
   "metadata": {},
   "outputs": [],
   "source": [
    "# MYSQL Update\n",
    "mysql_connection = mysql.connector.connect(**config)\n",
    "GL_df = pd.read_sql(query, con=mysql_connection)\n",
    "mysql_connection.close()"
   ]
  },
  {
   "cell_type": "code",
   "execution_count": 4,
   "id": "b2902103",
   "metadata": {},
   "outputs": [],
   "source": [
    "# GL vs GL - NOSTRO16478501185683904.380004374953002\n",
    "# One to one - NOSTRO164759560132575529500004372331001,NOSTRO164759504580810029650004366490003\n",
    "# One to Many (OR) Many to One - NOSTRO1647589655262101109.620004366494004\n",
    "# Many to Many - NOSTRO16480282679601478794.720004366490004"
   ]
  },
  {
   "cell_type": "code",
   "execution_count": 5,
   "id": "93ae9e04",
   "metadata": {},
   "outputs": [],
   "source": [
    "# # Query\n",
    "# query = \"\"\"\n",
    "# select his.AC_ENTRY_SR_NO As GL_ID,his.ACCOUNT_NO AS GL_ACCNO,his.VALUE_DT as GL_DATE,his.DRCR_IND as GL_CRDR,\n",
    "# CASE \n",
    "#     WHEN his.AC_CCY = 'KES' then his.LCY_AMOUNT\n",
    "#     ELSE his.FCY_AMOUNT\n",
    "#     END as GL_AMOUNT,\n",
    "# ft.USER_REF_NUMBER as GL_REF,ft.SOURCE_REF_NO GL_SOURCE_REF,\n",
    "# CASE\n",
    "#     WHEN ft.PAYMENT_DETAILS IS NOT NULL AND ft.PAYMENT_DETAILS != '' THEN ft.PAYMENT_DETAILS\n",
    "#     WHEN ct.ADDL_TEXT IS NOT NULL THEN ct.ADDL_TEXT\n",
    "#     ELSE null\n",
    "#     END as GL_ADDL_TEXT,\n",
    "# his.AC_CCY as GL_CURRENCY\n",
    "# from statement$detail$history his \n",
    "# left JOIN funds$transfer ft on ft.id = his.TRN_REF_NO\n",
    "# LEFT JOIN cstb$addl$text ct on ct.REFERENCE_NO = his.TRN_REF_NO\n",
    "# where his.AC_ENTRY_SR_NO in\n",
    "# (\n",
    "# select PRI_entryId from tbl_recon_nostro$matched$entry where fld_MatchType = 'MANUAL' and \n",
    "# fld_UniqueReference ='NOSTRO16480282679601478794.720004366490004'\n",
    "# )\n",
    "# \"\"\""
   ]
  },
  {
   "cell_type": "code",
   "execution_count": 6,
   "id": "372206b7",
   "metadata": {},
   "outputs": [],
   "source": [
    "Acc_No = '0004366494001' \n",
    "# '0004374954001'\n",
    "# '0004366490004'\n",
    "    \n",
    "query = \"\"\"\n",
    "select his.AC_ENTRY_SR_NO As GL_ID,his.ACCOUNT_NO AS GL_ACCNO,his.VALUE_DT as GL_DATE,his.DRCR_IND as GL_CRDR,\n",
    "CASE \n",
    "    WHEN his.AC_CCY = 'KES' then his.LCY_AMOUNT\n",
    "    ELSE his.FCY_AMOUNT\n",
    "    END as GL_AMOUNT,\n",
    "his.AC_CCY as GL_CURRENCY\n",
    "    from statement$detail$history his \n",
    "INNER JOIN tbl_recon_nostro$unmatched$entry recon on recon.PRI_entryId = his.AC_ENTRY_SR_NO\n",
    "where his.ACCOUNT_NO = \"\"\"+Acc_No+\"\"\"\n",
    "\"\"\""
   ]
  },
  {
   "cell_type": "code",
   "execution_count": 7,
   "id": "50fd5134",
   "metadata": {},
   "outputs": [
    {
     "data": {
      "text/html": [
       "<div>\n",
       "<style scoped>\n",
       "    .dataframe tbody tr th:only-of-type {\n",
       "        vertical-align: middle;\n",
       "    }\n",
       "\n",
       "    .dataframe tbody tr th {\n",
       "        vertical-align: top;\n",
       "    }\n",
       "\n",
       "    .dataframe thead th {\n",
       "        text-align: right;\n",
       "    }\n",
       "</style>\n",
       "<table border=\"1\" class=\"dataframe\">\n",
       "  <thead>\n",
       "    <tr style=\"text-align: right;\">\n",
       "      <th></th>\n",
       "      <th>GL_ID</th>\n",
       "      <th>GL_ACCNO</th>\n",
       "      <th>GL_DATE</th>\n",
       "      <th>GL_CRDR</th>\n",
       "      <th>GL_AMOUNT</th>\n",
       "      <th>GL_CURRENCY</th>\n",
       "    </tr>\n",
       "  </thead>\n",
       "  <tbody>\n",
       "    <tr>\n",
       "      <th>23</th>\n",
       "      <td>1278783703</td>\n",
       "      <td>0004366494001</td>\n",
       "      <td>2022-10-21</td>\n",
       "      <td>C</td>\n",
       "      <td>210102.0</td>\n",
       "      <td>KES</td>\n",
       "    </tr>\n",
       "    <tr>\n",
       "      <th>24</th>\n",
       "      <td>1278783779</td>\n",
       "      <td>0004366494001</td>\n",
       "      <td>2022-10-21</td>\n",
       "      <td>C</td>\n",
       "      <td>96995.0</td>\n",
       "      <td>KES</td>\n",
       "    </tr>\n",
       "    <tr>\n",
       "      <th>25</th>\n",
       "      <td>1278783863</td>\n",
       "      <td>0004366494001</td>\n",
       "      <td>2022-10-21</td>\n",
       "      <td>C</td>\n",
       "      <td>122540.0</td>\n",
       "      <td>KES</td>\n",
       "    </tr>\n",
       "    <tr>\n",
       "      <th>26</th>\n",
       "      <td>1278786249</td>\n",
       "      <td>0004366494001</td>\n",
       "      <td>2022-10-21</td>\n",
       "      <td>D</td>\n",
       "      <td>140.0</td>\n",
       "      <td>KES</td>\n",
       "    </tr>\n",
       "    <tr>\n",
       "      <th>27</th>\n",
       "      <td>1278800530</td>\n",
       "      <td>0004366494001</td>\n",
       "      <td>2022-10-19</td>\n",
       "      <td>C</td>\n",
       "      <td>12540.0</td>\n",
       "      <td>KES</td>\n",
       "    </tr>\n",
       "  </tbody>\n",
       "</table>\n",
       "</div>"
      ],
      "text/plain": [
       "         GL_ID       GL_ACCNO     GL_DATE GL_CRDR  GL_AMOUNT GL_CURRENCY\n",
       "23  1278783703  0004366494001  2022-10-21       C   210102.0         KES\n",
       "24  1278783779  0004366494001  2022-10-21       C    96995.0         KES\n",
       "25  1278783863  0004366494001  2022-10-21       C   122540.0         KES\n",
       "26  1278786249  0004366494001  2022-10-21       D      140.0         KES\n",
       "27  1278800530  0004366494001  2022-10-19       C    12540.0         KES"
      ]
     },
     "execution_count": 7,
     "metadata": {},
     "output_type": "execute_result"
    }
   ],
   "source": [
    "# Fetch GL data from DB\n",
    "mysql_connection = mysql.connector.connect(**config)\n",
    "GL_df = pd.read_sql(query, con=mysql_connection)\n",
    "mysql_connection.close()\n",
    "GL_df['GL_ID'] = GL_df['GL_ID'].astype('int')\n",
    "GL_df.tail()"
   ]
  },
  {
   "cell_type": "code",
   "execution_count": null,
   "id": "734d1c47",
   "metadata": {},
   "outputs": [],
   "source": [
    "GL_df = GL_df[~GL_df['GL_ID'].isin(GL_list)]\n",
    "GL_df.reset_index(drop=True, inplace=True)\n",
    "GL_df.tail()"
   ]
  },
  {
   "cell_type": "code",
   "execution_count": 8,
   "id": "b5b667dd",
   "metadata": {},
   "outputs": [],
   "source": [
    "# # Fetch NOSTRO data from DB\n",
    "# query = \"\"\"\n",
    "# select ID as RE_ID,ACCOUNT_NUMBER as RE_ACCNO,VALUE_DATE as RE_DATE,CRF_TYPE as RE_CRDR,\n",
    "# SWIFT_AMOUNT as RE_AMOUNT,ACC_OWNER_REF_FOR_DEBIT,ACC_SERVICING_INSTITUTE_REF_FOR_CREDIT from nostro$statement where id in  \n",
    "# (\n",
    "# select PRI_entryId from tbl_recon_nostro$matched$entry where \n",
    "# fld_MatchType = 'MANUAL' and fld_UniqueReference ='NOSTRO16480282679601478794.720004366490004'\n",
    "# )\n",
    "# \"\"\""
   ]
  },
  {
   "cell_type": "code",
   "execution_count": 9,
   "id": "85b47b03",
   "metadata": {},
   "outputs": [],
   "source": [
    "query = \"\"\"\n",
    "select ns.ID as RE_ID,ns.ACCOUNT_NUMBER as RE_ACCNO,ns.VALUE_DATE as RE_DATE,ns.CRF_TYPE as RE_CRDR,\n",
    "ns.SWIFT_AMOUNT as RE_AMOUNT from nostro$statement ns\n",
    "inner join tbl_recon_nostro$unmatched$entry recon on recon.PRI_entryId = ns.id\n",
    "where ns.ACCOUNT_NUMBER = \"\"\"+Acc_No+\"\"\"\n",
    "\"\"\""
   ]
  },
  {
   "cell_type": "code",
   "execution_count": 10,
   "id": "48f3fe11",
   "metadata": {},
   "outputs": [
    {
     "data": {
      "text/html": [
       "<div>\n",
       "<style scoped>\n",
       "    .dataframe tbody tr th:only-of-type {\n",
       "        vertical-align: middle;\n",
       "    }\n",
       "\n",
       "    .dataframe tbody tr th {\n",
       "        vertical-align: top;\n",
       "    }\n",
       "\n",
       "    .dataframe thead th {\n",
       "        text-align: right;\n",
       "    }\n",
       "</style>\n",
       "<table border=\"1\" class=\"dataframe\">\n",
       "  <thead>\n",
       "    <tr style=\"text-align: right;\">\n",
       "      <th></th>\n",
       "      <th>RE_ID</th>\n",
       "      <th>RE_ACCNO</th>\n",
       "      <th>RE_DATE</th>\n",
       "      <th>RE_CRDR</th>\n",
       "      <th>RE_AMOUNT</th>\n",
       "    </tr>\n",
       "  </thead>\n",
       "  <tbody>\n",
       "    <tr>\n",
       "      <th>18</th>\n",
       "      <td>1540025</td>\n",
       "      <td>0004366494001</td>\n",
       "      <td>2022-10-19</td>\n",
       "      <td>DEBIT</td>\n",
       "      <td>-5.664420e+05</td>\n",
       "    </tr>\n",
       "    <tr>\n",
       "      <th>19</th>\n",
       "      <td>1540058</td>\n",
       "      <td>0004366494001</td>\n",
       "      <td>2022-10-19</td>\n",
       "      <td>DEBIT</td>\n",
       "      <td>-1.349400e+05</td>\n",
       "    </tr>\n",
       "    <tr>\n",
       "      <th>20</th>\n",
       "      <td>1540164</td>\n",
       "      <td>0004366494001</td>\n",
       "      <td>2022-10-19</td>\n",
       "      <td>CREDIT</td>\n",
       "      <td>9.581952e+08</td>\n",
       "    </tr>\n",
       "    <tr>\n",
       "      <th>21</th>\n",
       "      <td>1540165</td>\n",
       "      <td>0004366494001</td>\n",
       "      <td>2022-10-19</td>\n",
       "      <td>CREDIT</td>\n",
       "      <td>9.581952e+08</td>\n",
       "    </tr>\n",
       "    <tr>\n",
       "      <th>22</th>\n",
       "      <td>1540184</td>\n",
       "      <td>0004366494001</td>\n",
       "      <td>2022-10-19</td>\n",
       "      <td>CREDIT</td>\n",
       "      <td>1.876466e+09</td>\n",
       "    </tr>\n",
       "  </tbody>\n",
       "</table>\n",
       "</div>"
      ],
      "text/plain": [
       "      RE_ID       RE_ACCNO     RE_DATE RE_CRDR     RE_AMOUNT\n",
       "18  1540025  0004366494001  2022-10-19   DEBIT -5.664420e+05\n",
       "19  1540058  0004366494001  2022-10-19   DEBIT -1.349400e+05\n",
       "20  1540164  0004366494001  2022-10-19  CREDIT  9.581952e+08\n",
       "21  1540165  0004366494001  2022-10-19  CREDIT  9.581952e+08\n",
       "22  1540184  0004366494001  2022-10-19  CREDIT  1.876466e+09"
      ]
     },
     "execution_count": 10,
     "metadata": {},
     "output_type": "execute_result"
    }
   ],
   "source": [
    "mysql_connection = mysql.connector.connect(**config)\n",
    "RE_df = pd.read_sql(query, con=mysql_connection)\n",
    "mysql_connection.close()\n",
    "RE_df['RE_ID'] = RE_df['RE_ID'].astype('int')\n",
    "RE_df.tail()"
   ]
  },
  {
   "cell_type": "code",
   "execution_count": null,
   "id": "14308e53",
   "metadata": {},
   "outputs": [],
   "source": [
    "RE_df = RE_df[~RE_df['RE_ID'].isin(RE_list)]\n",
    "RE_df.reset_index(drop=True, inplace=True)\n",
    "RE_df.tail()"
   ]
  },
  {
   "cell_type": "code",
   "execution_count": 11,
   "id": "c0d597dc",
   "metadata": {},
   "outputs": [
    {
     "data": {
      "text/html": [
       "<div>\n",
       "<style scoped>\n",
       "    .dataframe tbody tr th:only-of-type {\n",
       "        vertical-align: middle;\n",
       "    }\n",
       "\n",
       "    .dataframe tbody tr th {\n",
       "        vertical-align: top;\n",
       "    }\n",
       "\n",
       "    .dataframe thead th {\n",
       "        text-align: right;\n",
       "    }\n",
       "</style>\n",
       "<table border=\"1\" class=\"dataframe\">\n",
       "  <thead>\n",
       "    <tr style=\"text-align: right;\">\n",
       "      <th></th>\n",
       "      <th>RE_ID</th>\n",
       "      <th>RE_ACCNO</th>\n",
       "      <th>RE_DATE</th>\n",
       "      <th>RE_CRDR</th>\n",
       "      <th>RE_AMOUNT</th>\n",
       "    </tr>\n",
       "  </thead>\n",
       "  <tbody>\n",
       "    <tr>\n",
       "      <th>0</th>\n",
       "      <td>1539407</td>\n",
       "      <td>0004366494001</td>\n",
       "      <td>2022-10-17</td>\n",
       "      <td>D</td>\n",
       "      <td>-400000.00</td>\n",
       "    </tr>\n",
       "    <tr>\n",
       "      <th>1</th>\n",
       "      <td>1539582</td>\n",
       "      <td>0004366494001</td>\n",
       "      <td>2022-10-18</td>\n",
       "      <td>C</td>\n",
       "      <td>2412000.00</td>\n",
       "    </tr>\n",
       "    <tr>\n",
       "      <th>2</th>\n",
       "      <td>1539681</td>\n",
       "      <td>0004366494001</td>\n",
       "      <td>2022-10-18</td>\n",
       "      <td>C</td>\n",
       "      <td>1482000.00</td>\n",
       "    </tr>\n",
       "    <tr>\n",
       "      <th>3</th>\n",
       "      <td>1539700</td>\n",
       "      <td>0004366494001</td>\n",
       "      <td>2022-10-18</td>\n",
       "      <td>C</td>\n",
       "      <td>3634344.00</td>\n",
       "    </tr>\n",
       "    <tr>\n",
       "      <th>4</th>\n",
       "      <td>1539759</td>\n",
       "      <td>0004366494001</td>\n",
       "      <td>2022-10-18</td>\n",
       "      <td>C</td>\n",
       "      <td>1112076.95</td>\n",
       "    </tr>\n",
       "  </tbody>\n",
       "</table>\n",
       "</div>"
      ],
      "text/plain": [
       "     RE_ID       RE_ACCNO    RE_DATE RE_CRDR   RE_AMOUNT\n",
       "0  1539407  0004366494001 2022-10-17       D  -400000.00\n",
       "1  1539582  0004366494001 2022-10-18       C  2412000.00\n",
       "2  1539681  0004366494001 2022-10-18       C  1482000.00\n",
       "3  1539700  0004366494001 2022-10-18       C  3634344.00\n",
       "4  1539759  0004366494001 2022-10-18       C  1112076.95"
      ]
     },
     "execution_count": 11,
     "metadata": {},
     "output_type": "execute_result"
    }
   ],
   "source": [
    "# Converting time_stamp\n",
    "GL_df['GL_DATE'] = pd.to_datetime(GL_df['GL_DATE'])\n",
    "RE_df['RE_DATE'] = pd.to_datetime(RE_df['RE_DATE'])\n",
    "\n",
    "# Remove negative signs\n",
    "GL_df['GL_AMOUNT'] = GL_df['GL_AMOUNT'].abs()\n",
    "# RE_df['RE_AMOUNT'] = RE_df['RE_AMOUNT'].abs()\n",
    "\n",
    "# Adding negative sign to Debit transactions\n",
    "GL_df.loc[(GL_df['GL_CRDR'] == 'D'), 'GL_AMOUNT'] =  GL_df['GL_AMOUNT']*-1\n",
    "# RE_df.loc[(RE_df['RE_CRDR'] == 'D'), 'RE_AMOUNT'] =  RE_df['RE_AMOUNT']*-1\n",
    "1\n",
    "# Replace CRDR value\n",
    "RE_df['RE_CRDR'] = RE_df['RE_CRDR'].replace(['CREDIT', 'DEBIT'], ['C','D'])\n",
    "RE_df.head()"
   ]
  },
  {
   "cell_type": "code",
   "execution_count": 12,
   "id": "cd200a27",
   "metadata": {},
   "outputs": [
    {
     "name": "stdout",
     "output_type": "stream",
     "text": [
      "<class 'pandas.core.frame.DataFrame'>\n",
      "RangeIndex: 28 entries, 0 to 27\n",
      "Data columns (total 9 columns):\n",
      " #   Column       Non-Null Count  Dtype         \n",
      "---  ------       --------------  -----         \n",
      " 0   GL_ID        28 non-null     int64         \n",
      " 1   GL_ACCNO     28 non-null     object        \n",
      " 2   GL_DATE      28 non-null     datetime64[ns]\n",
      " 3   GL_CRDR      28 non-null     object        \n",
      " 4   GL_AMOUNT    28 non-null     float64       \n",
      " 5   GL_CURRENCY  28 non-null     object        \n",
      " 6   ISMATCHED    28 non-null     int64         \n",
      " 7   MATCH_TABLE  0 non-null      float64       \n",
      " 8   MATCH_ID     28 non-null     object        \n",
      "dtypes: datetime64[ns](1), float64(2), int64(2), object(4)\n",
      "memory usage: 2.1+ KB\n"
     ]
    }
   ],
   "source": [
    "# Define variance amount\n",
    "Variance = 1\n",
    "# Creating ismatched,match table and match id column\n",
    "GL_df['ISMATCHED'] = 0\n",
    "RE_df['ISMATCHED'] = 0\n",
    "GL_df['MATCH_TABLE'] = np.nan\n",
    "GL_df['MATCH_ID'] = ''\n",
    "# \n",
    "# Dataframe info\n",
    "GL_df.info()"
   ]
  },
  {
   "cell_type": "code",
   "execution_count": 13,
   "id": "36c9f82c",
   "metadata": {},
   "outputs": [],
   "source": [
    "def mysql_insertData(query,data):\n",
    "    \n",
    "    connection = mysql_connection\n",
    "    cursor = connection.cursor()\n",
    "    cursor.execute(query, data)\n",
    "    connection.commit()\n",
    "    primary_key = cursor.lastrowid\n",
    "    cursor.close()\n",
    "    connection.close()\n",
    "    \n",
    "    return primary_key"
   ]
  },
  {
   "cell_type": "code",
   "execution_count": 14,
   "id": "53b94419",
   "metadata": {},
   "outputs": [],
   "source": [
    "MYSQL_INSERT_RECON_POSSIBLE_MATCH = (\"INSERT INTO tbl_recon_nostro$virtual$possible$match\"\n",
    "                                        \"(ACCOUNT_NO,STATEMENT_DETAIL_ID,MATCH_TABLE,MATCH_ID,MATCH_AMOUNT,VARIANCE,CREATED_BY,CREATED_ON)\"\n",
    "                                        \"VALUES (%(ACCOUNT_NO)s, %(STATEMENT_DETAIL_ID)s,%(MATCH_TABLE)s,%(MATCH_ID)s, %(MATCH_AMOUNT)s,%(VARIANCE)s,%(CREATED_BY)s,%(CREATED_ON)s)\")"
   ]
  },
  {
   "cell_type": "code",
   "execution_count": 15,
   "id": "0a676f8b",
   "metadata": {},
   "outputs": [],
   "source": [
    "# Posiblities\n",
    "\n",
    "# GL to Nostro and Nostro to GL\n",
    "#    One to One\n",
    "#    One to many\n",
    "#    Many to one\n",
    "#    many to many\n",
    "\n",
    "# multiple credit,debit sums alowed in both ends and the variance should below defined variance\n",
    "# once the match is found I should not consider it again\n",
    "# date should be match for bulk matching and can allow diffrent dates for one to one match\n",
    "\n",
    "# With in same GL account\n",
    "#    One to One\n",
    "\n",
    "# With in same Nostro account\n",
    "#    Nil\n",
    "\n",
    "# Allowed Maximum Variance\n",
    "#    MAX = 1"
   ]
  },
  {
   "cell_type": "code",
   "execution_count": 16,
   "id": "15ee6f95",
   "metadata": {},
   "outputs": [],
   "source": [
    "# With in GL account match\n",
    "for i in range(0,len(GL_df)-1):\n",
    "    if (GL_df['ISMATCHED'][i] == 1):\n",
    "        continue\n",
    "    for j in range(i+1,len(GL_df)):\n",
    "        if((GL_df['ISMATCHED'][j] == 1)):\n",
    "            continue\n",
    "        amount = abs(GL_df['GL_AMOUNT'][i] + GL_df['GL_AMOUNT'][j])\n",
    "        if amount <= Variance:\n",
    "            GL_df.loc[i,'ISMATCHED'] = 1\n",
    "            GL_df.loc[j,'ISMATCHED'] = 1\n",
    "            GL_df.loc[j,'MATCH_TABLE'] = 'statement$detail$history'\n",
    "            GL_df.loc[j,'MATCH_ID'] = str(GL_df['GL_ID'][i])\n",
    "            \n",
    "            param = {\n",
    "            'ACCOUNT_NO' : Acc_No,\n",
    "            'STATEMENT_DETAIL_ID' : str([int(GL_df['GL_ID'][i])]),\n",
    "            'MATCH_TABLE' : 'statement$detail$history',\n",
    "            'MATCH_ID' : str([int(GL_df['GL_ID'][j])]),\n",
    "            'MATCH_AMOUNT' : float(abs(GL_df['GL_AMOUNT'][i])),\n",
    "            'VARIANCE' : round(amount,2),\n",
    "            \"CREATED_BY\":'ML_USER',\n",
    "            \"CREATED_ON\":datetime.now()\n",
    "            }\n",
    "            mysql_connection = mysql.connector.connect(**config)\n",
    "            mysql_insertData(MYSQL_INSERT_RECON_POSSIBLE_MATCH,param)\n",
    "            break"
   ]
  },
  {
   "cell_type": "code",
   "execution_count": 17,
   "id": "ef0ae85c",
   "metadata": {},
   "outputs": [
    {
     "name": "stdout",
     "output_type": "stream",
     "text": [
      "3\n"
     ]
    }
   ],
   "source": [
    "# One to one match with GL to Nostro to avoid more combinations\n",
    "for i in range(0,len(GL_df)):\n",
    "    if (GL_df['ISMATCHED'][i] == 1):\n",
    "        continue\n",
    "    for j in range(0,len(RE_df)):\n",
    "        if((RE_df['ISMATCHED'][j] == 1)):\n",
    "            continue\n",
    "        amount = abs(GL_df['GL_AMOUNT'][i] + RE_df['RE_AMOUNT'][j])\n",
    "        if amount <= Variance:\n",
    "            GL_df.loc[i,'ISMATCHED'] = 1\n",
    "            RE_df.loc[j,'ISMATCHED'] = 1\n",
    "            GL_df.loc[i,'MATCH_TABLE'] = 'nostro$statement'\n",
    "            GL_df.loc[i,'MATCH_ID'] = str(RE_df['RE_ID'][j])\n",
    "            \n",
    "            param = {\n",
    "            'ACCOUNT_NO' : Acc_No,\n",
    "            'STATEMENT_DETAIL_ID' : str([int(GL_df['GL_ID'][i])]),\n",
    "            'MATCH_TABLE' : 'nostro$statement',\n",
    "            'MATCH_ID' : str([int(RE_df['RE_ID'][j])]),\n",
    "            'MATCH_AMOUNT' : float(abs(GL_df['GL_AMOUNT'][i])),\n",
    "            'VARIANCE' : round(amount,2),\n",
    "            \"CREATED_BY\":'ML_USER',\n",
    "            \"CREATED_ON\":datetime.now()\n",
    "            }\n",
    "            mysql_connection = mysql.connector.connect(**config)\n",
    "            primary_key = mysql_insertData(MYSQL_INSERT_RECON_POSSIBLE_MATCH,param)\n",
    "            print(primary_key)\n",
    "            break"
   ]
  },
  {
   "cell_type": "code",
   "execution_count": 18,
   "id": "e4e1fae7",
   "metadata": {},
   "outputs": [],
   "source": [
    "# # Merging 2 dataframes\n",
    "# df = pd.merge(GL_df, RE_df, left_on=['GL_ACCNO','GL_AMOUNT'],right_on=['RE_ACCNO','RE_AMOUNT'])\n",
    "\n",
    "# # Dropping duplicate values\n",
    "# df = df.drop_duplicates([\"GL_ID\",\"RE_ID\"],ignore_index = True)\n",
    "# df.head(20)"
   ]
  },
  {
   "cell_type": "code",
   "execution_count": 19,
   "id": "8ddcbfee",
   "metadata": {},
   "outputs": [],
   "source": [
    "# # Verifing GL credit or debit not equals to NOSTRO credit or debit\n",
    "# df = df.query(\"GL_CRDR != RE_CRDR\")\n",
    "# df.head(10)"
   ]
  },
  {
   "cell_type": "code",
   "execution_count": 20,
   "id": "f8457ead",
   "metadata": {},
   "outputs": [],
   "source": [
    "# # Converting trans reference as list\n",
    "# GL_ID = df['GL_ID'].unique().tolist()\n",
    "# RE_ID = df['RE_ID'].unique().tolist()"
   ]
  },
  {
   "cell_type": "code",
   "execution_count": 21,
   "id": "9294ab12",
   "metadata": {},
   "outputs": [],
   "source": [
    "# # Filtering and removing the existing matches as above (GL)\n",
    "# GL_df = GL_df[~GL_df['GL_ID'].isin(GL_ID)]\n",
    "# GL_df.reset_index(drop=True, inplace=True)\n",
    "# GL_df.tail()"
   ]
  },
  {
   "cell_type": "code",
   "execution_count": 22,
   "id": "82f4aa15",
   "metadata": {},
   "outputs": [],
   "source": [
    "# # Filtering and removing the existing matches as above (NOSTRO)\n",
    "# RE_df = RE_df[~RE_df['RE_ID'].isin(RE_ID)]\n",
    "# RE_df.reset_index(drop=True, inplace=True)\n",
    "# RE_df.tail()"
   ]
  },
  {
   "cell_type": "code",
   "execution_count": 23,
   "id": "b39ba9a7",
   "metadata": {},
   "outputs": [],
   "source": [
    "from itertools import combinations"
   ]
  },
  {
   "cell_type": "code",
   "execution_count": 24,
   "id": "7e564136",
   "metadata": {},
   "outputs": [],
   "source": [
    "# dict_data = GL_df.set_index('GL_ID')['GL_AMOUNT'].to_dict()\n",
    "\n",
    "# length = len(dict_data)\n",
    "# GL_per_com = [i for j in range(length + 1) for i in combinations(dict_data, j) if sum(map(dict_data.get, i))]\n",
    "\n",
    "# #print(GL_per_com)\n",
    "# len(GL_per_com)"
   ]
  },
  {
   "cell_type": "code",
   "execution_count": 25,
   "id": "b535a6fc",
   "metadata": {},
   "outputs": [
    {
     "data": {
      "text/plain": [
       "2500"
      ]
     },
     "execution_count": 25,
     "metadata": {},
     "output_type": "execute_result"
    }
   ],
   "source": [
    "Max_per_com = 4\n",
    "GL_df['GL_ID'] = GL_df['GL_ID'].astype('int')\n",
    "dict_data = GL_df.loc[GL_df['ISMATCHED']==0].set_index('GL_ID')['GL_AMOUNT'].to_dict()\n",
    "GL_per_com_list = [i for j in range((Max_per_com+1)) for i in combinations(dict_data, j) if sum(map(dict_data.get, i))]\n",
    "\n",
    "#print(GL_per_com)\n",
    "GL_per_com_list = GL_per_com_list[:2500]\n",
    "len(GL_per_com_list)"
   ]
  },
  {
   "cell_type": "code",
   "execution_count": 26,
   "id": "30bb26e5",
   "metadata": {},
   "outputs": [
    {
     "data": {
      "text/plain": [
       "2500"
      ]
     },
     "execution_count": 26,
     "metadata": {},
     "output_type": "execute_result"
    }
   ],
   "source": [
    "RE_df['RE_ID'] = RE_df['RE_ID'].astype('int')\n",
    "dict_data = RE_df.loc[RE_df['ISMATCHED']==0].set_index('RE_ID')['RE_AMOUNT'].to_dict()\n",
    "RE_per_com_list = [i for j in range((Max_per_com+1)) for i in combinations(dict_data, j) if sum(map(dict_data.get, i))]\n",
    "\n",
    "#print(RE_per_com)\n",
    "RE_per_com_list = RE_per_com_list[:2500]\n",
    "len(RE_per_com_list)"
   ]
  },
  {
   "cell_type": "code",
   "execution_count": 27,
   "id": "e4591a8f",
   "metadata": {},
   "outputs": [],
   "source": [
    "# filter the data where ID in above using nested for loop\n",
    "# sum of all equals to another sum of all or with in the variance \n",
    "# map the respective id"
   ]
  },
  {
   "cell_type": "code",
   "execution_count": 28,
   "id": "6cb5c0e0",
   "metadata": {},
   "outputs": [],
   "source": [
    "GL_df['G_DATE'] = GL_df['GL_DATE'].dt.strftime('%Y-%m')\n",
    "RE_df['R_DATE'] = RE_df['RE_DATE'].dt.strftime('%Y-%m')\n",
    "GL_dict = GL_df.to_json(orient='records')\n",
    "RE_dict = RE_df.to_json(orient='records')\n",
    "\n",
    "# Transform json input to python objects\n",
    "import json\n",
    "GL_dict = json.loads(GL_dict)\n",
    "RE_dict = json.loads(RE_dict)"
   ]
  },
  {
   "cell_type": "code",
   "execution_count": 29,
   "id": "82792ff4",
   "metadata": {},
   "outputs": [],
   "source": [
    "# Model execution time calculation\n",
    "from datetime import datetime\n",
    "\n",
    "def timer(start_time=None):\n",
    "    if not start_time:\n",
    "        start_time = datetime.now()\n",
    "        return start_time\n",
    "    elif start_time:\n",
    "        thour, temp_sec = divmod((datetime.now() - start_time).total_seconds(), 3600)\n",
    "        tmin, tsec = divmod(temp_sec, 60)\n",
    "        print('\\n Time taken: %i hours %i minutes and %s seconds.' % (thour, tmin, round(tsec, 2)))"
   ]
  },
  {
   "cell_type": "code",
   "execution_count": 30,
   "id": "607f86cb",
   "metadata": {
    "scrolled": false
   },
   "outputs": [
    {
     "name": "stdout",
     "output_type": "stream",
     "text": [
      "\n",
      " Time taken: 0 hours 3 minutes and 49.85 seconds.\n"
     ]
    }
   ],
   "source": [
    "start_time = timer(None) # timing starts from this point for \"start_time\" variable\n",
    "\n",
    "for i in range(0,len(GL_per_com_list)):\n",
    "    if (len([k for k in [dt for dt in GL_dict if dt['GL_ID'] in list(GL_per_com_list[i])] if k['ISMATCHED'] == 1]) > 0):\n",
    "        continue\n",
    "    if (len(set(k['G_DATE'] for k in [dt for dt in GL_dict if dt['GL_ID'] in list(GL_per_com_list[i])])) > 1):\n",
    "        continue\n",
    "    for j in range(0,len(RE_per_com_list)):\n",
    "        if (len([k for k in [dt for dt in RE_dict if dt['RE_ID'] in list(RE_per_com_list[j])] if k['ISMATCHED'] == 1]) > 0):\n",
    "            continue\n",
    "        if (len(set(k['R_DATE'] for k in [dt for dt in RE_dict if dt['RE_ID'] in list(RE_per_com_list[j])])) > 1):\n",
    "            continue\n",
    "        if (set(k['G_DATE'] for k in [dt for dt in GL_dict if dt['GL_ID'] in list(GL_per_com_list[i])]) != set(k['R_DATE'] for k in [dt for dt in RE_dict if dt['RE_ID'] in list(RE_per_com_list[j])])):\n",
    "            continue\n",
    "        amount = abs(sum(k['GL_AMOUNT'] for k in [dt for dt in GL_dict if dt['GL_ID'] in list(GL_per_com_list[i])]) + sum(k['RE_AMOUNT'] for k in [dt for dt in RE_dict if dt['RE_ID'] in list(RE_per_com_list[j])]))\n",
    "        if amount <= Variance:\n",
    "            for k in [dt for dt in GL_dict if dt['GL_ID'] in list(GL_per_com_list[i])]:\n",
    "                k['ISMATCHED'] = 1\n",
    "                k['MATCH_TABLE'] = 'nostro$statement'\n",
    "                k['MATCH_ID'] = str(list(RE_per_com_list[j]))\n",
    "\n",
    "            for k in [dt for dt in RE_dict if dt['RE_ID'] in list(RE_per_com_list[j])]:\n",
    "                k['ISMATCHED'] = 1\n",
    "                \n",
    "            param = {\n",
    "            'ACCOUNT_NO' : Acc_No,\n",
    "            'STATEMENT_DETAIL_ID' : str(list(GL_per_com_list[i])),\n",
    "            'MATCH_TABLE' : 'nostro$statement',\n",
    "            'MATCH_ID' : str(list(RE_per_com_list[j])),\n",
    "            'MATCH_AMOUNT' : float(abs(sum(k['GL_AMOUNT'] for k in [dt for dt in GL_dict if dt['GL_ID'] in list(GL_per_com_list[i])]))),\n",
    "            'VARIANCE' : round(amount,2),\n",
    "            \"CREATED_BY\":'ML_USER',\n",
    "            \"CREATED_ON\":datetime.now()\n",
    "            }\n",
    "            mysql_connection = mysql.connector.connect(**config)\n",
    "            mysql_insertData(MYSQL_INSERT_RECON_POSSIBLE_MATCH,param)\n",
    "            break\n",
    "            \n",
    "timer(start_time) # timing ends here for \"start_time\" variable"
   ]
  },
  {
   "cell_type": "code",
   "execution_count": 31,
   "id": "1d7600e4",
   "metadata": {},
   "outputs": [
    {
     "data": {
      "text/html": [
       "<div>\n",
       "<style scoped>\n",
       "    .dataframe tbody tr th:only-of-type {\n",
       "        vertical-align: middle;\n",
       "    }\n",
       "\n",
       "    .dataframe tbody tr th {\n",
       "        vertical-align: top;\n",
       "    }\n",
       "\n",
       "    .dataframe thead th {\n",
       "        text-align: right;\n",
       "    }\n",
       "</style>\n",
       "<table border=\"1\" class=\"dataframe\">\n",
       "  <thead>\n",
       "    <tr style=\"text-align: right;\">\n",
       "      <th></th>\n",
       "      <th>GL_ID</th>\n",
       "      <th>GL_ACCNO</th>\n",
       "      <th>GL_DATE</th>\n",
       "      <th>GL_CRDR</th>\n",
       "      <th>GL_AMOUNT</th>\n",
       "      <th>GL_CURRENCY</th>\n",
       "      <th>ISMATCHED</th>\n",
       "      <th>MATCH_TABLE</th>\n",
       "      <th>MATCH_ID</th>\n",
       "      <th>G_DATE</th>\n",
       "    </tr>\n",
       "  </thead>\n",
       "  <tbody>\n",
       "    <tr>\n",
       "      <th>0</th>\n",
       "      <td>1278251986</td>\n",
       "      <td>0004366494001</td>\n",
       "      <td>1666051200000</td>\n",
       "      <td>D</td>\n",
       "      <td>-1818103.45</td>\n",
       "      <td>KES</td>\n",
       "      <td>0</td>\n",
       "      <td>None</td>\n",
       "      <td></td>\n",
       "      <td>2022-10</td>\n",
       "    </tr>\n",
       "    <tr>\n",
       "      <th>1</th>\n",
       "      <td>1278647537</td>\n",
       "      <td>0004366494001</td>\n",
       "      <td>1666137600000</td>\n",
       "      <td>C</td>\n",
       "      <td>199875.00</td>\n",
       "      <td>KES</td>\n",
       "      <td>0</td>\n",
       "      <td>None</td>\n",
       "      <td></td>\n",
       "      <td>2022-10</td>\n",
       "    </tr>\n",
       "    <tr>\n",
       "      <th>2</th>\n",
       "      <td>1278731456</td>\n",
       "      <td>0004366494001</td>\n",
       "      <td>1666137600000</td>\n",
       "      <td>C</td>\n",
       "      <td>400000.00</td>\n",
       "      <td>KES</td>\n",
       "      <td>1</td>\n",
       "      <td>nostro$statement</td>\n",
       "      <td>1539407</td>\n",
       "      <td>2022-10</td>\n",
       "    </tr>\n",
       "    <tr>\n",
       "      <th>3</th>\n",
       "      <td>1278731844</td>\n",
       "      <td>0004366494001</td>\n",
       "      <td>1666137600000</td>\n",
       "      <td>C</td>\n",
       "      <td>49000.00</td>\n",
       "      <td>KES</td>\n",
       "      <td>0</td>\n",
       "      <td>None</td>\n",
       "      <td></td>\n",
       "      <td>2022-10</td>\n",
       "    </tr>\n",
       "    <tr>\n",
       "      <th>4</th>\n",
       "      <td>1278738550</td>\n",
       "      <td>0004366494001</td>\n",
       "      <td>1666310400000</td>\n",
       "      <td>C</td>\n",
       "      <td>500000.00</td>\n",
       "      <td>KES</td>\n",
       "      <td>0</td>\n",
       "      <td>None</td>\n",
       "      <td></td>\n",
       "      <td>2022-10</td>\n",
       "    </tr>\n",
       "  </tbody>\n",
       "</table>\n",
       "</div>"
      ],
      "text/plain": [
       "        GL_ID       GL_ACCNO        GL_DATE GL_CRDR   GL_AMOUNT GL_CURRENCY  \\\n",
       "0  1278251986  0004366494001  1666051200000       D -1818103.45         KES   \n",
       "1  1278647537  0004366494001  1666137600000       C   199875.00         KES   \n",
       "2  1278731456  0004366494001  1666137600000       C   400000.00         KES   \n",
       "3  1278731844  0004366494001  1666137600000       C    49000.00         KES   \n",
       "4  1278738550  0004366494001  1666310400000       C   500000.00         KES   \n",
       "\n",
       "   ISMATCHED       MATCH_TABLE MATCH_ID   G_DATE  \n",
       "0          0              None           2022-10  \n",
       "1          0              None           2022-10  \n",
       "2          1  nostro$statement  1539407  2022-10  \n",
       "3          0              None           2022-10  \n",
       "4          0              None           2022-10  "
      ]
     },
     "execution_count": 31,
     "metadata": {},
     "output_type": "execute_result"
    }
   ],
   "source": [
    "# converting json dataset from dictionary to dataframe\n",
    "df = pd.json_normalize(GL_dict)\n",
    "df.head()"
   ]
  },
  {
   "cell_type": "code",
   "execution_count": 32,
   "id": "89052731",
   "metadata": {},
   "outputs": [
    {
     "data": {
      "text/html": [
       "<div>\n",
       "<style scoped>\n",
       "    .dataframe tbody tr th:only-of-type {\n",
       "        vertical-align: middle;\n",
       "    }\n",
       "\n",
       "    .dataframe tbody tr th {\n",
       "        vertical-align: top;\n",
       "    }\n",
       "\n",
       "    .dataframe thead th {\n",
       "        text-align: right;\n",
       "    }\n",
       "</style>\n",
       "<table border=\"1\" class=\"dataframe\">\n",
       "  <thead>\n",
       "    <tr style=\"text-align: right;\">\n",
       "      <th></th>\n",
       "      <th>GL_ID</th>\n",
       "      <th>GL_ACCNO</th>\n",
       "      <th>GL_DATE</th>\n",
       "      <th>GL_CRDR</th>\n",
       "      <th>GL_AMOUNT</th>\n",
       "      <th>GL_CURRENCY</th>\n",
       "      <th>ISMATCHED</th>\n",
       "      <th>MATCH_TABLE</th>\n",
       "      <th>MATCH_ID</th>\n",
       "      <th>G_DATE</th>\n",
       "    </tr>\n",
       "  </thead>\n",
       "  <tbody>\n",
       "    <tr>\n",
       "      <th>2</th>\n",
       "      <td>1278731456</td>\n",
       "      <td>0004366494001</td>\n",
       "      <td>1666137600000</td>\n",
       "      <td>C</td>\n",
       "      <td>400000.0</td>\n",
       "      <td>KES</td>\n",
       "      <td>1</td>\n",
       "      <td>nostro$statement</td>\n",
       "      <td>1539407</td>\n",
       "      <td>2022-10</td>\n",
       "    </tr>\n",
       "    <tr>\n",
       "      <th>20</th>\n",
       "      <td>1278776251</td>\n",
       "      <td>0004366494001</td>\n",
       "      <td>1666310400000</td>\n",
       "      <td>C</td>\n",
       "      <td>517210.5</td>\n",
       "      <td>KES</td>\n",
       "      <td>1</td>\n",
       "      <td>nostro$statement</td>\n",
       "      <td>[1540186, 1537086, 1540025]</td>\n",
       "      <td>2022-10</td>\n",
       "    </tr>\n",
       "  </tbody>\n",
       "</table>\n",
       "</div>"
      ],
      "text/plain": [
       "         GL_ID       GL_ACCNO        GL_DATE GL_CRDR  GL_AMOUNT GL_CURRENCY  \\\n",
       "2   1278731456  0004366494001  1666137600000       C   400000.0         KES   \n",
       "20  1278776251  0004366494001  1666310400000       C   517210.5         KES   \n",
       "\n",
       "    ISMATCHED       MATCH_TABLE                     MATCH_ID   G_DATE  \n",
       "2           1  nostro$statement                      1539407  2022-10  \n",
       "20          1  nostro$statement  [1540186, 1537086, 1540025]  2022-10  "
      ]
     },
     "execution_count": 32,
     "metadata": {},
     "output_type": "execute_result"
    }
   ],
   "source": [
    "df = df[(df['ISMATCHED'] == 1) & (df['MATCH_TABLE'].notnull())].copy()\n",
    "# df['GL_ID'] = df['GL_ID'].astype('int')\n",
    "df.head()"
   ]
  },
  {
   "cell_type": "code",
   "execution_count": 33,
   "id": "6c0367d7",
   "metadata": {},
   "outputs": [
    {
     "data": {
      "text/html": [
       "<div>\n",
       "<style scoped>\n",
       "    .dataframe tbody tr th:only-of-type {\n",
       "        vertical-align: middle;\n",
       "    }\n",
       "\n",
       "    .dataframe tbody tr th {\n",
       "        vertical-align: top;\n",
       "    }\n",
       "\n",
       "    .dataframe thead th {\n",
       "        text-align: right;\n",
       "    }\n",
       "</style>\n",
       "<table border=\"1\" class=\"dataframe\">\n",
       "  <thead>\n",
       "    <tr style=\"text-align: right;\">\n",
       "      <th></th>\n",
       "      <th>GL_ID</th>\n",
       "      <th>MATCH_TABLE</th>\n",
       "      <th>MATCH_ID</th>\n",
       "    </tr>\n",
       "  </thead>\n",
       "  <tbody>\n",
       "    <tr>\n",
       "      <th>0</th>\n",
       "      <td>[1278731456]</td>\n",
       "      <td>nostro$statement</td>\n",
       "      <td>[1539407]</td>\n",
       "    </tr>\n",
       "    <tr>\n",
       "      <th>1</th>\n",
       "      <td>[1278776251]</td>\n",
       "      <td>nostro$statement</td>\n",
       "      <td>[1540186, 1537086, 1540025]</td>\n",
       "    </tr>\n",
       "  </tbody>\n",
       "</table>\n",
       "</div>"
      ],
      "text/plain": [
       "          GL_ID       MATCH_TABLE                     MATCH_ID\n",
       "0  [1278731456]  nostro$statement                    [1539407]\n",
       "1  [1278776251]  nostro$statement  [1540186, 1537086, 1540025]"
      ]
     },
     "execution_count": 33,
     "metadata": {},
     "output_type": "execute_result"
    }
   ],
   "source": [
    "df = df.groupby(['MATCH_ID','MATCH_TABLE'])['GL_ID'].apply(list).reset_index(name='GL_ID')\n",
    "df = df[['GL_ID', 'MATCH_TABLE', 'MATCH_ID']]\n",
    "\n",
    "for i in range (0,len(df)):\n",
    "    if(type(eval(df['MATCH_ID'][i])) != list):\n",
    "        df.loc[i,'MATCH_ID'] = str([int(df['MATCH_ID'][i])])\n",
    "df.head()"
   ]
  },
  {
   "cell_type": "code",
   "execution_count": 34,
   "id": "7d860652",
   "metadata": {},
   "outputs": [
    {
     "data": {
      "text/plain": [
       "'{\"GL_ID\":[1278731456],\"MATCH_TABLE\":\"nostro$statement\",\"MATCH_ID\":\"[1539407]\"},{\"GL_ID\":[1278776251],\"MATCH_TABLE\":\"nostro$statement\",\"MATCH_ID\":\"[1540186, 1537086, 1540025]\"}'"
      ]
     },
     "execution_count": 34,
     "metadata": {},
     "output_type": "execute_result"
    }
   ],
   "source": [
    "json_data = df.to_json(orient='records')[1:-1]\n",
    "json_data"
   ]
  },
  {
   "cell_type": "code",
   "execution_count": null,
   "id": "24dcc604",
   "metadata": {},
   "outputs": [],
   "source": []
  },
  {
   "cell_type": "code",
   "execution_count": null,
   "id": "293f978b",
   "metadata": {},
   "outputs": [],
   "source": [
    "start_time = timer(None) # timing starts from this point for \"start_time\" variable\n",
    "\n",
    "for i in range(0,len(GL_per_com_list)):\n",
    "    if 1 in (GL_df[GL_df['GL_ID'].isin(list(GL_per_com_list[i]))]['ISMATCHED'].values):\n",
    "        continue\n",
    "    if len(GL_df[GL_df['GL_ID'].isin(list(GL_per_com_list[i]))]['GL_DATE'].dt.strftime('%m/%Y').unique()) > 1:\n",
    "        continue\n",
    "    for j in range(0,len(RE_per_com_list)):\n",
    "        if 1 in (RE_df[RE_df['RE_ID'].isin(list(RE_per_com_list[j]))]['ISMATCHED'].values):\n",
    "            continue\n",
    "        if len(RE_df[RE_df['RE_ID'].isin(list(RE_per_com_list[j]))]['RE_DATE'].dt.strftime('%m/%Y').unique()) > 1:\n",
    "            continue \n",
    "        if ((GL_df[GL_df['GL_ID'].isin(list(GL_per_com_list[i]))]['GL_DATE'].dt.strftime('%m/%Y').unique()[0]) != (RE_df[RE_df['RE_ID'].isin(list(RE_per_com_list[j]))]['RE_DATE'].dt.strftime('%m/%Y').unique()[0])):\n",
    "            continue\n",
    "        amount = abs((GL_df[GL_df['GL_ID'].isin(list(GL_per_com_list[i]))]['GL_AMOUNT'].sum()) + (RE_df[RE_df['RE_ID'].isin(list(RE_per_com_list[j]))]['RE_AMOUNT'].sum()))\n",
    "        if amount <= Variance:\n",
    "            GL_df.loc[GL_df['GL_ID'].isin(list(GL_per_com_list[i])),'ISMATCHED'] = 1\n",
    "            RE_df.loc[RE_df['RE_ID'].isin(list(RE_per_com_list[j])),'ISMATCHED'] = 1\n",
    "            GL_df.loc[GL_df['GL_ID'].isin(list(GL_per_com_list[i])),'MATCH_TABLE'] = 'nostro$statement'\n",
    "            GL_df.loc[GL_df['GL_ID'].isin(list(GL_per_com_list[i])),'MATCH_ID'] = str(list(RE_per_com_list[j]))\n",
    "            break\n",
    "            \n",
    "timer(start_time) # timing ends here for \"start_time\" variable"
   ]
  },
  {
   "cell_type": "code",
   "execution_count": null,
   "id": "66cf093b",
   "metadata": {},
   "outputs": [],
   "source": [
    "df = GL_df[(GL_df['ISMATCHED'] == 1) & (GL_df['MATCH_TABLE'].notnull())]\n",
    "df"
   ]
  },
  {
   "cell_type": "code",
   "execution_count": null,
   "id": "dfac9409",
   "metadata": {},
   "outputs": [],
   "source": [
    "df = df.groupby(['MATCH_ID','MATCH_TABLE'])['GL_ID'].apply(list).reset_index(name='GL_ID')\n",
    "df = df[['GL_ID', 'MATCH_TABLE', 'MATCH_ID']]\n",
    "\n",
    "for i in range (0,len(df)):\n",
    "    if(type(eval(df['MATCH_ID'][i])) == list):\n",
    "        continue\n",
    "    df.loc[i,'MATCH_ID'] = str([int(df['MATCH_ID'][i])])\n",
    "df"
   ]
  },
  {
   "cell_type": "code",
   "execution_count": null,
   "id": "c1a85a22",
   "metadata": {},
   "outputs": [],
   "source": [
    "json_data = df.to_json(orient='records')[1:-1].replace('},{', '} {')\n",
    "json_data"
   ]
  },
  {
   "cell_type": "code",
   "execution_count": 12,
   "id": "c6a5c219",
   "metadata": {},
   "outputs": [
    {
     "data": {
      "text/plain": [
       "['0004372330001',\n",
       " '0004366490004',\n",
       " '0004366494001',\n",
       " '0004366490002',\n",
       " '0004374954001',\n",
       " '0004366494002',\n",
       " '0004366494004',\n",
       " '0004366493001',\n",
       " '0004366494003',\n",
       " '0004366492003',\n",
       " '0004366490006',\n",
       " '0004372331001',\n",
       " '0004366490003',\n",
       " '0004366490008',\n",
       " '0004386975001',\n",
       " '0004366499002',\n",
       " '0052290639002']"
      ]
     },
     "execution_count": 12,
     "metadata": {},
     "output_type": "execute_result"
    }
   ],
   "source": [
    "query = \"\"\"\n",
    "select distinct(fld_account_Number) as ACCOUNT_NUMBER from tbl_recon_nostro$unmatched$entry \n",
    "where fld_account_Number is not null and fld_account_Number != ''\n",
    "\"\"\"\n",
    "# Fetch GL data from DB\n",
    "mysql_connection = mysql.connector.connect(**config)\n",
    "ACC_df = pd.read_sql(query, con=mysql_connection)\n",
    "mysql_connection.close()\n",
    "ACCOUNT_NUMBER = ACC_df['ACCOUNT_NUMBER'].tolist()\n",
    "ACCOUNT_NUMBER"
   ]
  },
  {
   "cell_type": "code",
   "execution_count": 13,
   "id": "925362ee",
   "metadata": {},
   "outputs": [
    {
     "name": "stdout",
     "output_type": "stream",
     "text": [
      "0004372330001\n",
      "0004366490004\n",
      "0004366494001\n",
      "0004366490002\n",
      "0004374954001\n",
      "0004366494002\n",
      "0004366494004\n",
      "0004366493001\n",
      "0004366494003\n",
      "0004366492003\n",
      "0004366490006\n",
      "0004372331001\n",
      "0004366490003\n",
      "0004366490008\n",
      "0004386975001\n",
      "0004366499002\n",
      "0052290639002\n"
     ]
    }
   ],
   "source": [
    "for i in ACCOUNT_NUMBER:\n",
    "    print(i)"
   ]
  },
  {
   "cell_type": "code",
   "execution_count": 11,
   "id": "04ad24f9",
   "metadata": {},
   "outputs": [
    {
     "data": {
      "text/html": [
       "<div>\n",
       "<style scoped>\n",
       "    .dataframe tbody tr th:only-of-type {\n",
       "        vertical-align: middle;\n",
       "    }\n",
       "\n",
       "    .dataframe tbody tr th {\n",
       "        vertical-align: top;\n",
       "    }\n",
       "\n",
       "    .dataframe thead th {\n",
       "        text-align: right;\n",
       "    }\n",
       "</style>\n",
       "<table border=\"1\" class=\"dataframe\">\n",
       "  <thead>\n",
       "    <tr style=\"text-align: right;\">\n",
       "      <th></th>\n",
       "      <th>GL_ID</th>\n",
       "      <th>MATCH_ID</th>\n",
       "    </tr>\n",
       "  </thead>\n",
       "  <tbody>\n",
       "    <tr>\n",
       "      <th>0</th>\n",
       "      <td>[1278620779]</td>\n",
       "      <td>0</td>\n",
       "    </tr>\n",
       "    <tr>\n",
       "      <th>1</th>\n",
       "      <td>[1278684151]</td>\n",
       "      <td>0</td>\n",
       "    </tr>\n",
       "    <tr>\n",
       "      <th>2</th>\n",
       "      <td>[1278786183, 1278800736]</td>\n",
       "      <td>0</td>\n",
       "    </tr>\n",
       "    <tr>\n",
       "      <th>3</th>\n",
       "      <td>[1278620779]</td>\n",
       "      <td>0</td>\n",
       "    </tr>\n",
       "    <tr>\n",
       "      <th>4</th>\n",
       "      <td>[1278684151]</td>\n",
       "      <td>0</td>\n",
       "    </tr>\n",
       "    <tr>\n",
       "      <th>5</th>\n",
       "      <td>[1278786183, 1278800736]</td>\n",
       "      <td>0</td>\n",
       "    </tr>\n",
       "  </tbody>\n",
       "</table>\n",
       "</div>"
      ],
      "text/plain": [
       "                      GL_ID MATCH_ID\n",
       "0              [1278620779]        0\n",
       "1              [1278684151]        0\n",
       "2  [1278786183, 1278800736]        0\n",
       "3              [1278620779]        0\n",
       "4              [1278684151]        0\n",
       "5  [1278786183, 1278800736]        0"
      ]
     },
     "execution_count": 11,
     "metadata": {},
     "output_type": "execute_result"
    }
   ],
   "source": [
    "query = \"\"\"\n",
    "select STATEMENT_DETAIL_ID as GL_ID,\n",
    "CASE \n",
    "    WHEN MATCH_TABLE = 'statement$detail$history' THEN MATCH_ID\n",
    "    ELSE 0\n",
    "    END AS MATCH_ID\n",
    "from tbl_recon_nostro$virtual$possible$match\n",
    "where ACCOUNT_NO = \"\"\"+Acc_No+\"\"\" and ISMATCHED = 0 \n",
    "\"\"\"\n",
    "# Fetch GL data from DB\n",
    "mysql_connection = mysql.connector.connect(**config)\n",
    "matched_GL = pd.read_sql(query, con=mysql_connection)\n",
    "mysql_connection.close()\n",
    "matched_GL"
   ]
  },
  {
   "cell_type": "code",
   "execution_count": null,
   "id": "32ad0c7e",
   "metadata": {},
   "outputs": [],
   "source": [
    "GL_list = []\n",
    "for i in matched_GL['GL_ID']:\n",
    "    GL_list += eval(i)\n",
    "for i in matched_GL['MATCH_ID']:\n",
    "    if eval(i) != 0 :\n",
    "        GL_list += eval(i)\n",
    "GL_list"
   ]
  },
  {
   "cell_type": "code",
   "execution_count": null,
   "id": "bd934901",
   "metadata": {},
   "outputs": [],
   "source": [
    "query = \"\"\"\n",
    "select MATCH_ID as RE_ID from tbl_recon_nostro$virtual$possible$match\n",
    "where ACCOUNT_NO = \"\"\"+Acc_No+\"\"\" and MATCH_TABLE  != 'statement$detail$history' and ISMATCHED = 0\n",
    "\"\"\"\n",
    "# Fetch GL data from DB\n",
    "mysql_connection = mysql.connector.connect(**config)\n",
    "matched_RE = pd.read_sql(query, con=mysql_connection)\n",
    "mysql_connection.close()\n",
    "matched_RE"
   ]
  },
  {
   "cell_type": "code",
   "execution_count": null,
   "id": "0cd22616",
   "metadata": {},
   "outputs": [],
   "source": [
    "RE_list = []\n",
    "for i in matched_RE['RE_ID']:\n",
    "    RE_list += eval(i)\n",
    "RE_list"
   ]
  },
  {
   "cell_type": "code",
   "execution_count": null,
   "id": "c330e8c3",
   "metadata": {},
   "outputs": [],
   "source": []
  }
 ],
 "metadata": {
  "kernelspec": {
   "display_name": "Python 3 (ipykernel)",
   "language": "python",
   "name": "python3"
  },
  "language_info": {
   "codemirror_mode": {
    "name": "ipython",
    "version": 3
   },
   "file_extension": ".py",
   "mimetype": "text/x-python",
   "name": "python",
   "nbconvert_exporter": "python",
   "pygments_lexer": "ipython3",
   "version": "3.8.10"
  }
 },
 "nbformat": 4,
 "nbformat_minor": 5
}
