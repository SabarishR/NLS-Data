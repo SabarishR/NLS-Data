{
 "cells": [
  {
   "cell_type": "code",
   "execution_count": 1,
   "id": "d2e94804",
   "metadata": {},
   "outputs": [],
   "source": [
    "# Libraries\n",
    "import mysql.connector\n",
    "import pandas as pd\n",
    "import json\n",
    "import numpy as np"
   ]
  },
  {
   "cell_type": "code",
   "execution_count": 2,
   "id": "da7060ea",
   "metadata": {},
   "outputs": [],
   "source": [
    "# MYSQL Connection string\n",
    "\n",
    "config = {\n",
    "  'user': 'root',\n",
    "  'password': 'Nls@123',\n",
    "  'host': '127.0.0.1',\n",
    "  'database': 'nlscore_sidian',\n",
    "  'auth_plugin' : 'mysql_native_password',\n",
    "  'raise_on_warnings': True\n",
    "}"
   ]
  },
  {
   "cell_type": "code",
   "execution_count": 3,
   "id": "bedcea9c",
   "metadata": {},
   "outputs": [
    {
     "data": {
      "text/html": [
       "<div>\n",
       "<style scoped>\n",
       "    .dataframe tbody tr th:only-of-type {\n",
       "        vertical-align: middle;\n",
       "    }\n",
       "\n",
       "    .dataframe tbody tr th {\n",
       "        vertical-align: top;\n",
       "    }\n",
       "\n",
       "    .dataframe thead th {\n",
       "        text-align: right;\n",
       "    }\n",
       "</style>\n",
       "<table border=\"1\" class=\"dataframe\">\n",
       "  <thead>\n",
       "    <tr style=\"text-align: right;\">\n",
       "      <th></th>\n",
       "      <th>ID</th>\n",
       "      <th>TRANSACTION_TYPE</th>\n",
       "      <th>TRANSACTION_NAME</th>\n",
       "      <th>TRANSACTION_CODE</th>\n",
       "      <th>CHARGE_TRANSACTION_CODE</th>\n",
       "      <th>TAX_TRANSACTION_CODE</th>\n",
       "      <th>CHARGE_CODE</th>\n",
       "      <th>TAX</th>\n",
       "    </tr>\n",
       "  </thead>\n",
       "  <tbody>\n",
       "    <tr>\n",
       "      <th>0</th>\n",
       "      <td>1</td>\n",
       "      <td>MOBILE</td>\n",
       "      <td>MOBILE-EFT-91</td>\n",
       "      <td>186</td>\n",
       "      <td>245</td>\n",
       "      <td>465</td>\n",
       "      <td>EFTSTF</td>\n",
       "      <td>20</td>\n",
       "    </tr>\n",
       "  </tbody>\n",
       "</table>\n",
       "</div>"
      ],
      "text/plain": [
       "   ID TRANSACTION_TYPE TRANSACTION_NAME TRANSACTION_CODE  \\\n",
       "0   1           MOBILE    MOBILE-EFT-91              186   \n",
       "\n",
       "  CHARGE_TRANSACTION_CODE TAX_TRANSACTION_CODE CHARGE_CODE TAX  \n",
       "0                     245                  465      EFTSTF  20  "
      ]
     },
     "execution_count": 3,
     "metadata": {},
     "output_type": "execute_result"
    }
   ],
   "source": [
    "# selecting the transaction code that should be charged\n",
    "mysql_connection = mysql.connector.connect(**config)\n",
    "TRANSACTION_CHARGE_CODES = pd.read_sql('select * from transaction$charge$codes where TRANSACTION_CODE = 186 ', con=mysql_connection)\n",
    "mysql_connection.close()\n",
    "TRANSACTION_CHARGE_CODES.head()"
   ]
  },
  {
   "cell_type": "code",
   "execution_count": null,
   "id": "2383e6c3",
   "metadata": {},
   "outputs": [],
   "source": []
  }
 ],
 "metadata": {
  "kernelspec": {
   "display_name": "Python 3 (ipykernel)",
   "language": "python",
   "name": "python3"
  },
  "language_info": {
   "codemirror_mode": {
    "name": "ipython",
    "version": 3
   },
   "file_extension": ".py",
   "mimetype": "text/x-python",
   "name": "python",
   "nbconvert_exporter": "python",
   "pygments_lexer": "ipython3",
   "version": "3.8.10"
  }
 },
 "nbformat": 4,
 "nbformat_minor": 5
}
