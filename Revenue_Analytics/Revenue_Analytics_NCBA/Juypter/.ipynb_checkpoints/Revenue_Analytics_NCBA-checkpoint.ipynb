{
 "cells": [
  {
   "cell_type": "code",
   "execution_count": 1,
   "id": "7bca7e3d",
   "metadata": {},
   "outputs": [],
   "source": [
    "# pip install cx_Oracle\n",
    "# pip install pandas\n",
    "\n",
    "import cx_Oracle\n",
    "import pandas as pd\n",
    "from datetime import datetime"
   ]
  },
  {
   "cell_type": "code",
   "execution_count": 2,
   "id": "77b66957",
   "metadata": {},
   "outputs": [],
   "source": [
    "def oracle_connection():\n",
    "    oracle_connection = cx_Oracle.connect(\n",
    "        user=\"sabarish\",\n",
    "        password=\"Nls123\",\n",
    "        dsn=cx_Oracle.makedsn(host='127.0.0.1', port=1521, sid='orcl'))\n",
    "    \n",
    "    return oracle_connection"
   ]
  },
  {
   "cell_type": "code",
   "execution_count": 3,
   "id": "08c22392",
   "metadata": {},
   "outputs": [
    {
     "name": "stderr",
     "output_type": "stream",
     "text": [
      "E:\\anaconda3\\envs\\jupytor\\lib\\site-packages\\pandas\\io\\sql.py:761: UserWarning: pandas only support SQLAlchemy connectable(engine/connection) ordatabase string URI or sqlite3 DBAPI2 connectionother DBAPI2 objects are not tested, please consider using SQLAlchemy\n",
      "  warnings.warn(\n"
     ]
    }
   ],
   "source": [
    "query =\"\"\"\n",
    "select * from ug_aa$account$details ac\n",
    "inner join ug_aa_arrangement aa on aa.id = ac.id\n",
    "where aa.arr_status = 'CURRENT'\n",
    "\"\"\"\n",
    "loans_df = pd.read_sql(query, con=oracle_connection())\n",
    "# connection.close()\n",
    "Total_loans = len(loans_df)"
   ]
  },
  {
   "cell_type": "code",
   "execution_count": 4,
   "id": "d7d26bb9",
   "metadata": {},
   "outputs": [
    {
     "name": "stderr",
     "output_type": "stream",
     "text": [
      "E:\\anaconda3\\envs\\jupytor\\lib\\site-packages\\pandas\\io\\sql.py:761: UserWarning: pandas only support SQLAlchemy connectable(engine/connection) ordatabase string URI or sqlite3 DBAPI2 connectionother DBAPI2 objects are not tested, please consider using SQLAlchemy\n",
      "  warnings.warn(\n"
     ]
    }
   ],
   "source": [
    "query =\"\"\"\n",
    "select * from ug_aa$account$details ac\n",
    "inner join ug_aa_arrangement aa on aa.id = ac.id\n",
    "inner join ugx_account ua on ua.arrangment_id = ac.id\n",
    "inner join ugx_funds$transfer_history fth on fth.charged_customer = ua.customer_id \n",
    "where aa.arr_status = 'CURRENT'\n",
    "\"\"\"\n",
    "charged_loans_df = pd.read_sql(query, con=oracle_connection())\n",
    "# connection.close()\n",
    "Charged_loans = len(charged_loans_df)"
   ]
  },
  {
   "cell_type": "code",
   "execution_count": 5,
   "id": "42f34207",
   "metadata": {},
   "outputs": [
    {
     "name": "stdout",
     "output_type": "stream",
     "text": [
      "No of Loans Processed - 90\n",
      "No of Loans Charged - 41\n",
      "No of Loans Not Charged - 49\n",
      "Loan charged percentage - 45.56%\n",
      "Loan not charged percentage - 54.44%\n"
     ]
    }
   ],
   "source": [
    "print (\"No of Loans Processed -\", Total_loans)\n",
    "print (\"No of Loans Charged -\", Charged_loans)\n",
    "print (\"No of Loans Not Charged -\", Total_loans - Charged_loans)\n",
    "print (\"Loan charged percentage -\", str(round(Charged_loans/Total_loans*100,2))+'%')\n",
    "print (\"Loan not charged percentage -\", str(round((Total_loans - Charged_loans)/Total_loans*100,2))+'%')"
   ]
  },
  {
   "cell_type": "code",
   "execution_count": 6,
   "id": "7d95a1ac",
   "metadata": {},
   "outputs": [],
   "source": [
    "data = {\n",
    "            \"START_DATE\": '2021-01-01',\n",
    "            \"END_DATE\" : '2022-03-31'\n",
    "       }"
   ]
  },
  {
   "cell_type": "code",
   "execution_count": 7,
   "id": "81dc3595",
   "metadata": {},
   "outputs": [
    {
     "name": "stderr",
     "output_type": "stream",
     "text": [
      "E:\\anaconda3\\envs\\jupytor\\lib\\site-packages\\pandas\\io\\sql.py:761: UserWarning: pandas only support SQLAlchemy connectable(engine/connection) ordatabase string URI or sqlite3 DBAPI2 connectionother DBAPI2 objects are not tested, please consider using SQLAlchemy\n",
      "  warnings.warn(\n"
     ]
    },
    {
     "name": "stdout",
     "output_type": "stream",
     "text": [
      "count - 108\n"
     ]
    },
    {
     "data": {
      "text/html": [
       "<div>\n",
       "<style scoped>\n",
       "    .dataframe tbody tr th:only-of-type {\n",
       "        vertical-align: middle;\n",
       "    }\n",
       "\n",
       "    .dataframe tbody tr th {\n",
       "        vertical-align: top;\n",
       "    }\n",
       "\n",
       "    .dataframe thead th {\n",
       "        text-align: right;\n",
       "    }\n",
       "</style>\n",
       "<table border=\"1\" class=\"dataframe\">\n",
       "  <thead>\n",
       "    <tr style=\"text-align: right;\">\n",
       "      <th></th>\n",
       "      <th>ID</th>\n",
       "      <th>CONTRACT_DATE</th>\n",
       "      <th>ARR_STATUS</th>\n",
       "      <th>CUSTOMER_ID</th>\n",
       "      <th>CHARGED_CUSTOMER</th>\n",
       "      <th>DESCRIPTION</th>\n",
       "    </tr>\n",
       "  </thead>\n",
       "  <tbody>\n",
       "    <tr>\n",
       "      <th>0</th>\n",
       "      <td>AA220077DZVY</td>\n",
       "      <td>20220107</td>\n",
       "      <td>CURRENT</td>\n",
       "      <td>200212</td>\n",
       "      <td>None</td>\n",
       "      <td>Staff</td>\n",
       "    </tr>\n",
       "    <tr>\n",
       "      <th>1</th>\n",
       "      <td>AA2205501WG5</td>\n",
       "      <td>20220224</td>\n",
       "      <td>CURRENT</td>\n",
       "      <td>201342</td>\n",
       "      <td>None</td>\n",
       "      <td>Corporate</td>\n",
       "    </tr>\n",
       "    <tr>\n",
       "      <th>2</th>\n",
       "      <td>AA22007VXKFS</td>\n",
       "      <td>20220107</td>\n",
       "      <td>CURRENT</td>\n",
       "      <td>209277</td>\n",
       "      <td>None</td>\n",
       "      <td>Staff</td>\n",
       "    </tr>\n",
       "    <tr>\n",
       "      <th>3</th>\n",
       "      <td>AA220349DWPJ</td>\n",
       "      <td>20220203</td>\n",
       "      <td>CURRENT</td>\n",
       "      <td>208597</td>\n",
       "      <td>None</td>\n",
       "      <td>Retail</td>\n",
       "    </tr>\n",
       "    <tr>\n",
       "      <th>4</th>\n",
       "      <td>AA2201121MX7</td>\n",
       "      <td>20220111</td>\n",
       "      <td>CURRENT</td>\n",
       "      <td>200086</td>\n",
       "      <td>None</td>\n",
       "      <td>Corporate</td>\n",
       "    </tr>\n",
       "  </tbody>\n",
       "</table>\n",
       "</div>"
      ],
      "text/plain": [
       "             ID CONTRACT_DATE ARR_STATUS CUSTOMER_ID CHARGED_CUSTOMER  \\\n",
       "0  AA220077DZVY      20220107    CURRENT      200212             None   \n",
       "1  AA2205501WG5      20220224    CURRENT      201342             None   \n",
       "2  AA22007VXKFS      20220107    CURRENT      209277             None   \n",
       "3  AA220349DWPJ      20220203    CURRENT      208597             None   \n",
       "4  AA2201121MX7      20220111    CURRENT      200086             None   \n",
       "\n",
       "  DESCRIPTION  \n",
       "0       Staff  \n",
       "1   Corporate  \n",
       "2       Staff  \n",
       "3      Retail  \n",
       "4   Corporate  "
      ]
     },
     "execution_count": 7,
     "metadata": {},
     "output_type": "execute_result"
    }
   ],
   "source": [
    "query =\"\"\"\n",
    "select ac.id,ac.contract_date,aa.arr_status,ua.customer_id,fth.charged_customer,t.description from ug_aa$account$details ac\n",
    "inner join ug_aa_arrangement aa on aa.id = ac.id\n",
    "inner join ugx_account ua on ua.arrangment_id = ac.id\n",
    "inner join customer c on c.id = ua.customer_id\n",
    "inner join target t on t.id = c.target\n",
    "left join ugx_funds$transfer_history fth on ua.customer_id  = fth.charged_customer\n",
    "where aa.arr_status = 'CURRENT'\n",
    "\"\"\"\n",
    "df = pd.read_sql(query, con=oracle_connection())\n",
    "# connection.close()\n",
    "print (\"count -\",len(df))\n",
    "df.head()"
   ]
  },
  {
   "cell_type": "code",
   "execution_count": 8,
   "id": "bdc1f620",
   "metadata": {},
   "outputs": [
    {
     "name": "stdout",
     "output_type": "stream",
     "text": [
      "count - 90\n"
     ]
    }
   ],
   "source": [
    "df = df.drop_duplicates([\"ID\",\"CUSTOMER_ID\"],ignore_index = True)\n",
    "print (\"count -\",len(df))"
   ]
  },
  {
   "cell_type": "code",
   "execution_count": 9,
   "id": "8cb4b5a2",
   "metadata": {},
   "outputs": [
    {
     "name": "stdout",
     "output_type": "stream",
     "text": [
      "Length - 90\n"
     ]
    }
   ],
   "source": [
    "# datetime conversion\n",
    "df['CONTRACT_DATE'] = pd.to_datetime(df['CONTRACT_DATE'], format=\"%Y%m%d\")\n",
    "# filtering datetange\n",
    "df = df.loc[(df['CONTRACT_DATE'] >= data['START_DATE']) & (df['CONTRACT_DATE'] <= data['END_DATE'])]\n",
    "print(\"Length -\",len(df))"
   ]
  },
  {
   "cell_type": "code",
   "execution_count": 10,
   "id": "5f5bd064",
   "metadata": {},
   "outputs": [],
   "source": [
    "total_loans = len(df)\n",
    "charged_loans = len(df.loc[df['CHARGED_CUSTOMER'].notnull()])\n",
    "not_charged_loans = len(df.loc[(df['CHARGED_CUSTOMER'].isnull()) & (df['DESCRIPTION'] != 'Staff')])\n",
    "staff_loans = len(df.loc[(df['CHARGED_CUSTOMER'].isnull()) & (df['DESCRIPTION'] == 'Staff')])"
   ]
  },
  {
   "cell_type": "code",
   "execution_count": 11,
   "id": "95514d36",
   "metadata": {},
   "outputs": [
    {
     "name": "stdout",
     "output_type": "stream",
     "text": [
      "No of Loans Processed - 90\n",
      "No of Loans Charged - 23\n",
      "No of Loans Not Charged - 53\n",
      "No of Staff Loans - 14\n",
      "Loan charged percentage - 25.56%\n",
      "Loan not charged percentage - 58.89%\n",
      "Staff Loan percentage - 15.56%\n"
     ]
    }
   ],
   "source": [
    "print (\"No of Loans Processed -\", total_loans)\n",
    "print (\"No of Loans Charged -\", charged_loans)\n",
    "print (\"No of Loans Not Charged -\", not_charged_loans)\n",
    "print (\"No of Staff Loans -\", staff_loans)\n",
    "print (\"Loan charged percentage -\", str(round(charged_loans/total_loans*100,2))+'%')\n",
    "print (\"Loan not charged percentage -\", str(round(not_charged_loans/total_loans*100,2))+'%')\n",
    "print (\"Staff Loan percentage -\", str(round(staff_loans/total_loans*100,2))+'%')"
   ]
  },
  {
   "cell_type": "code",
   "execution_count": 12,
   "id": "d6ed0582",
   "metadata": {},
   "outputs": [],
   "source": [
    "CREATED_BY = 'ML_USER'\n",
    "CREATED_ON = datetime.now()\n",
    "\n",
    "split= \"^\"\n",
    "\n",
    "total_loan_arr_id = split.join(df['ID'].tolist())\n",
    "charged_loan_arr_id = split.join(df.loc[df['CHARGED_CUSTOMER'].notnull()].ID.tolist())\n",
    "not_charged_loan_arr_id = split.join(df.loc[(df['CHARGED_CUSTOMER'].isnull()) & (df['DESCRIPTION'] != 'Staff')].ID.tolist())\n",
    "staff_loan_arr_id = split.join(df.loc[(df['CHARGED_CUSTOMER'].isnull()) & (df['DESCRIPTION'] == 'Staff')].ID.tolist())\n",
    "\n",
    "param = {\n",
    "            'START_DATE' : data['START_DATE'],\n",
    "            'END_DATE' : data['END_DATE'],\n",
    "            'TOTAL_LOAN' : total_loan_arr_id,\n",
    "            'CHARGED_LOAN' : charged_loan_arr_id,\n",
    "            'NOT_CHARGED_LOAN' : not_charged_loan_arr_id,\n",
    "            'STAFF_LOAN' : staff_loan_arr_id,\n",
    "            'CREATED_BY' : CREATED_BY,\n",
    "            'CREATED_ON' : CREATED_ON\n",
    "        }\n",
    "\n",
    "ORACLE_INSERT_LOAN_ARRANGEMENTID_DETAILS = \"INSERT INTO loan$arrangement_id$details (START_DATE,END_DATE,TOTAL_LOAN,CHARGED_LOAN,NOT_CHARGED_LOAN,STAFF_LOAN,CREATED_BY,CREATED_ON) VALUES (to_date(:START_DATE,'yyyy-mm-dd'),to_date(:END_DATE,'yyyy-mm-dd'),:TOTAL_LOAN,:CHARGED_LOAN,:NOT_CHARGED_LOAN,:STAFF_LOAN,:CREATED_BY,:CREATED_ON)\""
   ]
  },
  {
   "cell_type": "code",
   "execution_count": 13,
   "id": "967c93d0",
   "metadata": {},
   "outputs": [],
   "source": [
    "def oracle_insertData(query,data):\n",
    "    \n",
    "    connection = oracle_connection()\n",
    "    cursor = connection.cursor()\n",
    "    cursor.execute(query, data)\n",
    "    connection.commit()\n",
    "    primary_key = cursor.lastrowid\n",
    "    cursor.close()\n",
    "    connection.close()\n",
    "    \n",
    "    return primary_key"
   ]
  },
  {
   "cell_type": "code",
   "execution_count": 14,
   "id": "b3dd5c2c",
   "metadata": {},
   "outputs": [
    {
     "data": {
      "text/plain": [
       "'AAASAkAAHAAAHfxAAA'"
      ]
     },
     "execution_count": 14,
     "metadata": {},
     "output_type": "execute_result"
    }
   ],
   "source": [
    "oracle_insertData(ORACLE_INSERT_LOAN_ARRANGEMENTID_DETAILS,param)"
   ]
  },
  {
   "cell_type": "code",
   "execution_count": 15,
   "id": "88da416e",
   "metadata": {},
   "outputs": [],
   "source": [
    "output = {\n",
    "            'TOTAL_LOANS' : total_loans,\n",
    "            'CHARGED_LOANS' : charged_loans,\n",
    "            'NOT_CHARGED_LOANS' : not_charged_loans,\n",
    "            'STAFF_LOANS' : staff_loans,\n",
    "            'CHARGED_LOAN_PERCENTAGE' : str(round(charged_loans/total_loans*100,2))+'%',\n",
    "            'NOT_CHARGED_LOAN_PERCENTAGE' : str(round(not_charged_loans/total_loans*100,2))+'%',\n",
    "            'STAFF_LOAN_PERCENTAGE' : str(round(staff_loans/total_loans*100,2))+'%',\n",
    "            'TOTAL_LOAN_ARRANGEMENT_ID' : total_loan_arr_id,\n",
    "            'CHARGED_LOAN_ARRANGEMENT_ID' : charged_loan_arr_id,\n",
    "            'NOT_CHARGED_LOAN_ARRANGEMENT_ID' : not_charged_loan_arr_id,\n",
    "            'STAFF_LOAN_ARRANGEMENT_ID' : staff_loan_arr_id\n",
    "        }"
   ]
  },
  {
   "cell_type": "code",
   "execution_count": null,
   "id": "a201af69",
   "metadata": {},
   "outputs": [],
   "source": []
  },
  {
   "cell_type": "code",
   "execution_count": 16,
   "id": "113b1261",
   "metadata": {},
   "outputs": [],
   "source": [
    "FD_CURRENCY = ['USD','UGX',\"GBP\",\"EUR\"]\n",
    "FD_USD = [0.1,0.6]\n",
    "FD_UGX = [1,11]\n",
    "FD_GBP = [0.1,0.6]\n",
    "FD_EUR = [0.1,0.6]"
   ]
  },
  {
   "cell_type": "code",
   "execution_count": 17,
   "id": "cb470e09",
   "metadata": {},
   "outputs": [],
   "source": [
    "data = {\n",
    "            \"CURRENCY\" : 'UGX',\n",
    "            \"BAND_LIMIT\" : [1,11],\n",
    "            \"START_DATE\": '2021-01-01',\n",
    "            \"END_DATE\" : '2022-03-31'\n",
    "       }"
   ]
  },
  {
   "cell_type": "code",
   "execution_count": 18,
   "id": "1ce0c748",
   "metadata": {},
   "outputs": [
    {
     "name": "stderr",
     "output_type": "stream",
     "text": [
      "E:\\anaconda3\\envs\\jupytor\\lib\\site-packages\\pandas\\io\\sql.py:761: UserWarning: pandas only support SQLAlchemy connectable(engine/connection) ordatabase string URI or sqlite3 DBAPI2 connectionother DBAPI2 objects are not tested, please consider using SQLAlchemy\n",
      "  warnings.warn(\n"
     ]
    },
    {
     "data": {
      "text/html": [
       "<div>\n",
       "<style scoped>\n",
       "    .dataframe tbody tr th:only-of-type {\n",
       "        vertical-align: middle;\n",
       "    }\n",
       "\n",
       "    .dataframe tbody tr th {\n",
       "        vertical-align: top;\n",
       "    }\n",
       "\n",
       "    .dataframe thead th {\n",
       "        text-align: right;\n",
       "    }\n",
       "</style>\n",
       "<table border=\"1\" class=\"dataframe\">\n",
       "  <thead>\n",
       "    <tr style=\"text-align: right;\">\n",
       "      <th></th>\n",
       "      <th>ARRANGEMENT_ID</th>\n",
       "      <th>CURRENCY</th>\n",
       "      <th>INTEREST_RATE</th>\n",
       "      <th>DATE_OF_BOOKED</th>\n",
       "    </tr>\n",
       "  </thead>\n",
       "  <tbody>\n",
       "    <tr>\n",
       "      <th>0</th>\n",
       "      <td>AA2108874H0Y</td>\n",
       "      <td>UGX</td>\n",
       "      <td>12</td>\n",
       "      <td>20210325</td>\n",
       "    </tr>\n",
       "    <tr>\n",
       "      <th>1</th>\n",
       "      <td>AA21088D346P</td>\n",
       "      <td>UGX</td>\n",
       "      <td>6</td>\n",
       "      <td>20210329</td>\n",
       "    </tr>\n",
       "    <tr>\n",
       "      <th>2</th>\n",
       "      <td>AA210990R9YD</td>\n",
       "      <td>UGX</td>\n",
       "      <td>12</td>\n",
       "      <td>20210408</td>\n",
       "    </tr>\n",
       "    <tr>\n",
       "      <th>3</th>\n",
       "      <td>AA21104SWM9Z</td>\n",
       "      <td>UGX</td>\n",
       "      <td>11</td>\n",
       "      <td>20210414</td>\n",
       "    </tr>\n",
       "    <tr>\n",
       "      <th>4</th>\n",
       "      <td>AA2110615ZGN</td>\n",
       "      <td>UGX</td>\n",
       "      <td>8.5</td>\n",
       "      <td>20210414</td>\n",
       "    </tr>\n",
       "  </tbody>\n",
       "</table>\n",
       "</div>"
      ],
      "text/plain": [
       "  ARRANGEMENT_ID CURRENCY INTEREST_RATE DATE_OF_BOOKED\n",
       "0   AA2108874H0Y      UGX            12       20210325\n",
       "1   AA21088D346P      UGX             6       20210329\n",
       "2   AA210990R9YD      UGX            12       20210408\n",
       "3   AA21104SWM9Z      UGX            11       20210414\n",
       "4   AA2110615ZGN      UGX           8.5       20210414"
      ]
     },
     "execution_count": 18,
     "metadata": {},
     "output_type": "execute_result"
    }
   ],
   "source": [
    "query =\"select ARRANGEMENT_ID,CURRENCY,INTEREST_RATE,DATE_OF_BOOKED from fixed$deposit$report$data$ug where CURRENCY = '\"+str(data['CURRENCY'])+\"'\"\n",
    "df = pd.read_sql(query, con=oracle_connection())\n",
    "# connection.close()\n",
    "df.head()"
   ]
  },
  {
   "cell_type": "code",
   "execution_count": 19,
   "id": "8c9b5f7a",
   "metadata": {},
   "outputs": [
    {
     "name": "stdout",
     "output_type": "stream",
     "text": [
      "Length - 125\n"
     ]
    }
   ],
   "source": [
    "# datetime conversion\n",
    "df['DATE_OF_BOOKED'] = pd.to_datetime(df['DATE_OF_BOOKED'], format=\"%Y%m%d\")\n",
    "# filtering datetange\n",
    "df = df.loc[(df['DATE_OF_BOOKED'] >= data['START_DATE']) & (df['DATE_OF_BOOKED'] <= data['END_DATE'])]\n",
    "print(\"Length -\",len(df))"
   ]
  },
  {
   "cell_type": "code",
   "execution_count": 20,
   "id": "86990ff2",
   "metadata": {
    "scrolled": true
   },
   "outputs": [
    {
     "name": "stdout",
     "output_type": "stream",
     "text": [
      "<class 'pandas.core.frame.DataFrame'>\n",
      "Int64Index: 125 entries, 0 to 143\n",
      "Data columns (total 4 columns):\n",
      " #   Column          Non-Null Count  Dtype         \n",
      "---  ------          --------------  -----         \n",
      " 0   ARRANGEMENT_ID  125 non-null    object        \n",
      " 1   CURRENCY        125 non-null    object        \n",
      " 2   INTEREST_RATE   125 non-null    float64       \n",
      " 3   DATE_OF_BOOKED  125 non-null    datetime64[ns]\n",
      "dtypes: datetime64[ns](1), float64(1), object(2)\n",
      "memory usage: 4.9+ KB\n"
     ]
    }
   ],
   "source": [
    "# data type conversion\n",
    "df['INTEREST_RATE'] = df['INTEREST_RATE'].astype('float')\n",
    "df.info()"
   ]
  },
  {
   "cell_type": "code",
   "execution_count": 21,
   "id": "25e9f115",
   "metadata": {},
   "outputs": [],
   "source": [
    "total_fd = len(df)\n",
    "fd_normal = len(df.loc[(df['INTEREST_RATE'] >= data['BAND_LIMIT'][0]) & (df['INTEREST_RATE'] <= data['BAND_LIMIT'][1])])\n",
    "fd_review = len(df.loc[(df['INTEREST_RATE'] < data['BAND_LIMIT'][0]) | (df['INTEREST_RATE'] > data['BAND_LIMIT'][1])])"
   ]
  },
  {
   "cell_type": "code",
   "execution_count": 22,
   "id": "c9fd9134",
   "metadata": {},
   "outputs": [
    {
     "name": "stdout",
     "output_type": "stream",
     "text": [
      "Currency - UGX\n",
      "No of FD Processed - 125\n",
      "FD Interest within Normal - 117\n",
      "FD interest for Review - 8\n",
      "FD Interest within Normal Percentage- 93.6%\n",
      "FD interest for Review Percentage- 6.4%\n"
     ]
    }
   ],
   "source": [
    "print (\"Currency -\", data['CURRENCY'])\n",
    "print (\"No of FD Processed -\", total_fd)\n",
    "print (\"FD Interest within Normal -\", fd_normal)\n",
    "print (\"FD interest for Review -\",fd_review)\n",
    "print (\"FD Interest within Normal Percentage-\", str(round(fd_normal/total_fd*100,2))+'%')\n",
    "print (\"FD interest for Review Percentage-\",str(round(fd_review/total_fd*100,2))+'%')"
   ]
  },
  {
   "cell_type": "code",
   "execution_count": 23,
   "id": "18b2cd38",
   "metadata": {},
   "outputs": [],
   "source": [
    "CREATED_BY = 'ML_USER'\n",
    "CREATED_ON = datetime.now()\n",
    "\n",
    "split= \"^\"\n",
    "\n",
    "total_fd_arr_id = split.join(df['ARRANGEMENT_ID'].tolist())\n",
    "fd_normal_arr_id = split.join(df.loc[(df['INTEREST_RATE'] >= data['BAND_LIMIT'][0]) & (df['INTEREST_RATE'] <= data['BAND_LIMIT'][1])].ARRANGEMENT_ID.tolist())\n",
    "fd_review_arr_id = split.join(df.loc[(df['INTEREST_RATE'] < data['BAND_LIMIT'][0]) | (df['INTEREST_RATE'] > data['BAND_LIMIT'][1])].ARRANGEMENT_ID.tolist())\n",
    "\n",
    "param = {\n",
    "            'CURRENCY' : data['CURRENCY'],\n",
    "            'BAND_LIMIT' : str(data['BAND_LIMIT']),\n",
    "            'START_DATE' : data['START_DATE'],\n",
    "            'END_DATE' : data['END_DATE'],\n",
    "            'TOTAL_FD' : total_fd_arr_id,\n",
    "            'FD_NORMAL' : fd_normal_arr_id,\n",
    "            'FD_REVIEW' : fd_review_arr_id,\n",
    "            'CREATED_BY' : CREATED_BY,\n",
    "            'CREATED_ON' : CREATED_ON\n",
    "        }\n",
    "\n",
    "ORACLE_INSERT_FD_ARRANGEMENTID_DETAILS = \"INSERT INTO fd$arrangement_id$details (CURRENCY,BAND_LIMIT,START_DATE,END_DATE,TOTAL_FD,FD_NORMAL,FD_REVIEW,CREATED_BY,CREATED_ON) VALUES (:CURRENCY,:BAND_LIMIT,to_date(:START_DATE,'yyyy-mm-dd'),to_date(:END_DATE,'yyyy-mm-dd'),:TOTAL_FD,:FD_NORMAL,:FD_REVIEW,:CREATED_BY,:CREATED_ON)\""
   ]
  },
  {
   "cell_type": "code",
   "execution_count": 24,
   "id": "64745d76",
   "metadata": {},
   "outputs": [
    {
     "data": {
      "text/plain": [
       "'AAASAvAAHAAAHctAAA'"
      ]
     },
     "execution_count": 24,
     "metadata": {},
     "output_type": "execute_result"
    }
   ],
   "source": [
    "oracle_insertData(ORACLE_INSERT_FD_ARRANGEMENTID_DETAILS,param)"
   ]
  },
  {
   "cell_type": "code",
   "execution_count": 25,
   "id": "9df502f1",
   "metadata": {},
   "outputs": [],
   "source": [
    "output = {\n",
    "            'CURRENCY' : data['CURRENCY'],\n",
    "            'TOTAL_FD' : total_fd,\n",
    "            'FD_NORMAL' : fd_normal,\n",
    "            'FD_REVIEW' : fd_review,\n",
    "            'FD_NORMAL_PERCENTAGE' : str(round(fd_normal/total_fd*100,2))+'%',\n",
    "            'FD_REVIEW_PERCENTAGE' : str(round(fd_review/total_fd*100,2))+'%',\n",
    "            'TOTAL_FD_ARRANGEMENT_ID' : total_fd_arr_id,\n",
    "            'FD_NORMAL_ARRANGEMENT_ID' : fd_normal_arr_id,\n",
    "            'FD_REVIEW_ARRANGEMENT_ID' : fd_review_arr_id\n",
    "        }"
   ]
  },
  {
   "cell_type": "code",
   "execution_count": null,
   "id": "c5443faa",
   "metadata": {},
   "outputs": [],
   "source": []
  }
 ],
 "metadata": {
  "kernelspec": {
   "display_name": "Python 3 (ipykernel)",
   "language": "python",
   "name": "python3"
  },
  "language_info": {
   "codemirror_mode": {
    "name": "ipython",
    "version": 3
   },
   "file_extension": ".py",
   "mimetype": "text/x-python",
   "name": "python",
   "nbconvert_exporter": "python",
   "pygments_lexer": "ipython3",
   "version": "3.8.10"
  }
 },
 "nbformat": 4,
 "nbformat_minor": 5
}
